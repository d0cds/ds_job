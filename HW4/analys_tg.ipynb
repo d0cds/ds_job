{
 "cells": [
  {
   "cell_type": "code",
   "execution_count": 6,
   "metadata": {},
   "outputs": [],
   "source": [
    "import pandas as pd\n",
    "import numpy as np\n",
    "import regex as re\n",
    "import seaborn as sns\n",
    "import matplotlib.pyplot as plt\n",
    "from catboost import CatBoostRegressor, Pool, cv"
   ]
  },
  {
   "cell_type": "markdown",
   "metadata": {},
   "source": [
    "Данные были с парсены с разных TG-каналов (2024 г, искал вакансии на русском, на территории РФ и с уровнем з/п). Собранный перечень вакансий был \"пропущен\" через локальную модель оллама, так как структура вакансий разнообразная. К вакансия были составлены промпты по выявлению: должности, локации, формата работы, типа занятости, скилов, требуемого опыта работы, уровня з/п.  \n",
    "Предполагал, что оллама поможет структурировать сведения с вакансий и выделит какие-то сущности.  \n",
    "Планирую: через AirFlow запускать парсинг ТГ-каналов, затем отправлять на LLM модель с промптами.  \n",
    "Результат: почему-то иногда модель отвечала на аглийском, какие-то сущности выделила модель в отдельные предложения, поэтому бОльшая часть будет обрабатываться регуляркой. Считаю что, оллама немного систематизировала информацию и есть надежда, что регулярки строить будет немного проще."
   ]
  },
  {
   "cell_type": "code",
   "execution_count": 117,
   "metadata": {},
   "outputs": [
    {
     "data": {
      "text/html": [
       "<div>\n",
       "<style scoped>\n",
       "    .dataframe tbody tr th:only-of-type {\n",
       "        vertical-align: middle;\n",
       "    }\n",
       "\n",
       "    .dataframe tbody tr th {\n",
       "        vertical-align: top;\n",
       "    }\n",
       "\n",
       "    .dataframe thead th {\n",
       "        text-align: right;\n",
       "    }\n",
       "</style>\n",
       "<table border=\"1\" class=\"dataframe\">\n",
       "  <thead>\n",
       "    <tr style=\"text-align: right;\">\n",
       "      <th></th>\n",
       "      <th>job</th>\n",
       "      <th>location</th>\n",
       "      <th>location_2</th>\n",
       "      <th>type_schedule</th>\n",
       "      <th>shedul</th>\n",
       "      <th>type_busy</th>\n",
       "      <th>format_job</th>\n",
       "      <th>skills</th>\n",
       "      <th>experience</th>\n",
       "      <th>salary</th>\n",
       "      <th>descr_vac</th>\n",
       "    </tr>\n",
       "  </thead>\n",
       "  <tbody>\n",
       "    <tr>\n",
       "      <th>0</th>\n",
       "      <td>The job title in the given vacancy text is \"В...</td>\n",
       "      <td>The job vacancy specifies the region as \"Моск...</td>\n",
       "      <td>Место работы в данной вакансии — Москва (Моск...</td>\n",
       "      <td>На основании предоставленного текста вакансии...</td>\n",
       "      <td>В тексте вакансии не указано конкретное распи...</td>\n",
       "      <td>В данном объявлении о вакансии не указано кон...</td>\n",
       "      <td>Для определения формата работы (remote, hybri...</td>\n",
       "      <td>Based on the provided job posting in Russian,...</td>\n",
       "      <td>В приведенном тексте вакансии не указано конк...</td>\n",
       "      <td>В данном объявлении о вакансии указано, что з...</td>\n",
       "      <td>#вакансия #data #analyst #sql #sber #Москва Ко...</td>\n",
       "    </tr>\n",
       "    <tr>\n",
       "      <th>1</th>\n",
       "      <td>В данном тексте вакансии на русском языке ука...</td>\n",
       "      <td>The job vacancy does not specify a particular...</td>\n",
       "      <td>В данном тексте вакансии указано, что формат ...</td>\n",
       "      <td>В данной вакансии указано, что формат работы ...</td>\n",
       "      <td>В данном тексте вакансии на русском языке ука...</td>\n",
       "      <td>В данной вакансии указано, что формат работы ...</td>\n",
       "      <td>Based on the job listing text in Russian, the...</td>\n",
       "      <td>Based on the provided job posting in Russian,...</td>\n",
       "      <td>В данном объявлении о вакансии требуется комм...</td>\n",
       "      <td>В тексте вакансии указано, что предлагаемая з...</td>\n",
       "      <td>#вакансия #удаленка #middle+ #са #системныйана...</td>\n",
       "    </tr>\n",
       "    <tr>\n",
       "      <th>2</th>\n",
       "      <td>В данной вакансии указаны две профессиональны...</td>\n",
       "      <td>Based on the job vacancy description provided...</td>\n",
       "      <td>В данном объявлении о вакансии место работы у...</td>\n",
       "      <td>The job posting in Russian indicates that the...</td>\n",
       "      <td>В объявлении о вакансии указано следующее рас...</td>\n",
       "      <td>В данном объявлении указаны два формата работ...</td>\n",
       "      <td>The job listing text is for a remote work for...</td>\n",
       "      <td>Based on the provided job posting in Russian,...</td>\n",
       "      <td>В данной вакансии указано, что требуемый опыт...</td>\n",
       "      <td>The offered salary in the job posting text is...</td>\n",
       "      <td>#вакансия #middle #remote **Требуются ML-инжен...</td>\n",
       "    </tr>\n",
       "    <tr>\n",
       "      <th>3</th>\n",
       "      <td>The job title in the vacancy text is \"Middle ...</td>\n",
       "      <td>The job vacancy mentions \"Локация: Россия,\" w...</td>\n",
       "      <td>Локация, указанная в данной вакансии, находит...</td>\n",
       "      <td>В данном объявлении о вакансии не указан конк...</td>\n",
       "      <td>В данном объявлении о вакансии не указан конк...</td>\n",
       "      <td>На основании предоставленной информации, в да...</td>\n",
       "      <td>На основании текста вакансии, можно сделать в...</td>\n",
       "      <td>Основные требуемые навыки для вакансии Middle...</td>\n",
       "      <td>В данной вакансии не указан конкретный требуе...</td>\n",
       "      <td>В данном объявлении о вакансии предлагаемая з...</td>\n",
       "      <td>#вакансия #аналитикданных #SQL #AB #статистика...</td>\n",
       "    </tr>\n",
       "    <tr>\n",
       "      <th>4</th>\n",
       "      <td>Системный аналитик</td>\n",
       "      <td>The job vacancy specifies the region as \"Крас...</td>\n",
       "      <td>Город работы указан как \"Краснодар\".</td>\n",
       "      <td>В job posting указано \"Занятость: полный день...</td>\n",
       "      <td>В данном объявлении о вакансии указано, что г...</td>\n",
       "      <td>В указанном вами объявлении о вакансии на рус...</td>\n",
       "      <td>Формат работы: офис\\удаленка (гибридный)</td>\n",
       "      <td>На основе предоставленного текста, необходимы...</td>\n",
       "      <td>В тексте вакансии не указан конкретный опыт р...</td>\n",
       "      <td>В данном объявлении о вакансии указана следую...</td>\n",
       "      <td>#вакансия #Системныйаналитик #Бизнес_аналитик ...</td>\n",
       "    </tr>\n",
       "  </tbody>\n",
       "</table>\n",
       "</div>"
      ],
      "text/plain": [
       "                                                 job  \\\n",
       "0   The job title in the given vacancy text is \"В...   \n",
       "1   В данном тексте вакансии на русском языке ука...   \n",
       "2   В данной вакансии указаны две профессиональны...   \n",
       "3   The job title in the vacancy text is \"Middle ...   \n",
       "4                                 Системный аналитик   \n",
       "\n",
       "                                            location  \\\n",
       "0   The job vacancy specifies the region as \"Моск...   \n",
       "1   The job vacancy does not specify a particular...   \n",
       "2   Based on the job vacancy description provided...   \n",
       "3   The job vacancy mentions \"Локация: Россия,\" w...   \n",
       "4   The job vacancy specifies the region as \"Крас...   \n",
       "\n",
       "                                          location_2  \\\n",
       "0   Место работы в данной вакансии — Москва (Моск...   \n",
       "1   В данном тексте вакансии указано, что формат ...   \n",
       "2   В данном объявлении о вакансии место работы у...   \n",
       "3   Локация, указанная в данной вакансии, находит...   \n",
       "4               Город работы указан как \"Краснодар\".   \n",
       "\n",
       "                                       type_schedule  \\\n",
       "0   На основании предоставленного текста вакансии...   \n",
       "1   В данной вакансии указано, что формат работы ...   \n",
       "2   The job posting in Russian indicates that the...   \n",
       "3   В данном объявлении о вакансии не указан конк...   \n",
       "4   В job posting указано \"Занятость: полный день...   \n",
       "\n",
       "                                              shedul  \\\n",
       "0   В тексте вакансии не указано конкретное распи...   \n",
       "1   В данном тексте вакансии на русском языке ука...   \n",
       "2   В объявлении о вакансии указано следующее рас...   \n",
       "3   В данном объявлении о вакансии не указан конк...   \n",
       "4   В данном объявлении о вакансии указано, что г...   \n",
       "\n",
       "                                           type_busy  \\\n",
       "0   В данном объявлении о вакансии не указано кон...   \n",
       "1   В данной вакансии указано, что формат работы ...   \n",
       "2   В данном объявлении указаны два формата работ...   \n",
       "3   На основании предоставленной информации, в да...   \n",
       "4   В указанном вами объявлении о вакансии на рус...   \n",
       "\n",
       "                                          format_job  \\\n",
       "0   Для определения формата работы (remote, hybri...   \n",
       "1   Based on the job listing text in Russian, the...   \n",
       "2   The job listing text is for a remote work for...   \n",
       "3   На основании текста вакансии, можно сделать в...   \n",
       "4           Формат работы: офис\\удаленка (гибридный)   \n",
       "\n",
       "                                              skills  \\\n",
       "0   Based on the provided job posting in Russian,...   \n",
       "1   Based on the provided job posting in Russian,...   \n",
       "2   Based on the provided job posting in Russian,...   \n",
       "3   Основные требуемые навыки для вакансии Middle...   \n",
       "4   На основе предоставленного текста, необходимы...   \n",
       "\n",
       "                                          experience  \\\n",
       "0   В приведенном тексте вакансии не указано конк...   \n",
       "1   В данном объявлении о вакансии требуется комм...   \n",
       "2   В данной вакансии указано, что требуемый опыт...   \n",
       "3   В данной вакансии не указан конкретный требуе...   \n",
       "4   В тексте вакансии не указан конкретный опыт р...   \n",
       "\n",
       "                                              salary  \\\n",
       "0   В данном объявлении о вакансии указано, что з...   \n",
       "1   В тексте вакансии указано, что предлагаемая з...   \n",
       "2   The offered salary in the job posting text is...   \n",
       "3   В данном объявлении о вакансии предлагаемая з...   \n",
       "4   В данном объявлении о вакансии указана следую...   \n",
       "\n",
       "                                           descr_vac  \n",
       "0  #вакансия #data #analyst #sql #sber #Москва Ко...  \n",
       "1  #вакансия #удаленка #middle+ #са #системныйана...  \n",
       "2  #вакансия #middle #remote **Требуются ML-инжен...  \n",
       "3  #вакансия #аналитикданных #SQL #AB #статистика...  \n",
       "4  #вакансия #Системныйаналитик #Бизнес_аналитик ...  "
      ]
     },
     "execution_count": 117,
     "metadata": {},
     "output_type": "execute_result"
    }
   ],
   "source": [
    "df = pd.read_csv(\"./dataset_vac.csv\", sep =\"|\")\n",
    "df.head()"
   ]
  },
  {
   "cell_type": "code",
   "execution_count": 118,
   "metadata": {},
   "outputs": [
    {
     "data": {
      "text/plain": [
       "(783, 11)"
      ]
     },
     "execution_count": 118,
     "metadata": {},
     "output_type": "execute_result"
    }
   ],
   "source": [
    "df.drop_duplicates(inplace=True)\n",
    "df.shape"
   ]
  },
  {
   "cell_type": "markdown",
   "metadata": {},
   "source": [
    "Далее выявляем уровень з/п в вакансии, также через регулярные выражения"
   ]
  },
  {
   "cell_type": "code",
   "execution_count": 119,
   "metadata": {},
   "outputs": [
    {
     "data": {
      "text/plain": [
       "(salary_min_max\n",
       " [(, 250 000 , рублей)]                                               8\n",
       " [(, 300 000 , рублей)]                                               7\n",
       " [(, 200 , )]                                                         6\n",
       " [(, 400 , рублей), (, 6000 , рублей), (, 4000 , ), (, 300 , )]       5\n",
       " [(, 300 000 , рублей), (, 250 000 , )]                               5\n",
       "                                                                     ..\n",
       " [(, 180 000 , ), (, 220 000 , рублей)]                               1\n",
       " [(, 4000 , ), (, 6000 , долларов)]                                   1\n",
       " [(, 280 , ), (, 340 , )]                                             1\n",
       " [(, 200,000 , ), (, 160,000 , ), (, 160 000 , ), (, 200 000 , ₽)]    1\n",
       " [(, 100 000 , ), (, 200 000 , ₽)]                                    1\n",
       " Name: count, Length: 533, dtype: int64,\n",
       " 109)"
      ]
     },
     "execution_count": 119,
     "metadata": {},
     "output_type": "execute_result"
    }
   ],
   "source": [
    "df[\"salary_min_max\"] = df[\"salary\"].str.findall(\n",
    "    r'(рублей|долларов|евро|руб|дол|евр|р|₽|\\$|USD|€)?(\\d+[\\s\\.,-]*\\d+[\\s\\.,\\d]*)\\s*(рублей|долларов|евро|руб|дол|евр|р|₽|\\$|USD|€)?',\n",
    "    flags=re.I).apply(lambda x: list(set(x))  if not isinstance(x,(float,type(None))) and len(x)!=0 else np.NAN)\n",
    "df[\"salary_min_max\"].value_counts(), df[\"salary_min_max\"].isnull().sum()"
   ]
  },
  {
   "cell_type": "markdown",
   "metadata": {},
   "source": [
    "Создаем из выявленых данных об уровне з/п две колонки: минимальная и максимальная з/п, указанная в вакансии"
   ]
  },
  {
   "cell_type": "code",
   "execution_count": 120,
   "metadata": {},
   "outputs": [
    {
     "data": {
      "text/html": [
       "<div>\n",
       "<style scoped>\n",
       "    .dataframe tbody tr th:only-of-type {\n",
       "        vertical-align: middle;\n",
       "    }\n",
       "\n",
       "    .dataframe tbody tr th {\n",
       "        vertical-align: top;\n",
       "    }\n",
       "\n",
       "    .dataframe thead th {\n",
       "        text-align: right;\n",
       "    }\n",
       "</style>\n",
       "<table border=\"1\" class=\"dataframe\">\n",
       "  <thead>\n",
       "    <tr style=\"text-align: right;\">\n",
       "      <th></th>\n",
       "      <th>job</th>\n",
       "      <th>location</th>\n",
       "      <th>location_2</th>\n",
       "      <th>type_schedule</th>\n",
       "      <th>shedul</th>\n",
       "      <th>type_busy</th>\n",
       "      <th>format_job</th>\n",
       "      <th>skills</th>\n",
       "      <th>experience</th>\n",
       "      <th>salary</th>\n",
       "      <th>descr_vac</th>\n",
       "      <th>salary_min_max</th>\n",
       "      <th>salary_min</th>\n",
       "      <th>salary_max</th>\n",
       "      <th>salary_mean</th>\n",
       "    </tr>\n",
       "  </thead>\n",
       "  <tbody>\n",
       "    <tr>\n",
       "      <th>0</th>\n",
       "      <td>The job title in the given vacancy text is \"В...</td>\n",
       "      <td>The job vacancy specifies the region as \"Моск...</td>\n",
       "      <td>Место работы в данной вакансии — Москва (Моск...</td>\n",
       "      <td>На основании предоставленного текста вакансии...</td>\n",
       "      <td>В тексте вакансии не указано конкретное распи...</td>\n",
       "      <td>В данном объявлении о вакансии не указано кон...</td>\n",
       "      <td>Для определения формата работы (remote, hybri...</td>\n",
       "      <td>Based on the provided job posting in Russian,...</td>\n",
       "      <td>В приведенном тексте вакансии не указано конк...</td>\n",
       "      <td>В данном объявлении о вакансии указано, что з...</td>\n",
       "      <td>#вакансия #data #analyst #sql #sber #Москва Ко...</td>\n",
       "      <td>NaN</td>\n",
       "      <td>NaN</td>\n",
       "      <td>NaN</td>\n",
       "      <td>NaN</td>\n",
       "    </tr>\n",
       "    <tr>\n",
       "      <th>1</th>\n",
       "      <td>В данном тексте вакансии на русском языке ука...</td>\n",
       "      <td>The job vacancy does not specify a particular...</td>\n",
       "      <td>В данном тексте вакансии указано, что формат ...</td>\n",
       "      <td>В данной вакансии указано, что формат работы ...</td>\n",
       "      <td>В данном тексте вакансии на русском языке ука...</td>\n",
       "      <td>В данной вакансии указано, что формат работы ...</td>\n",
       "      <td>Based on the job listing text in Russian, the...</td>\n",
       "      <td>Based on the provided job posting in Russian,...</td>\n",
       "      <td>В данном объявлении о вакансии требуется комм...</td>\n",
       "      <td>В тексте вакансии указано, что предлагаемая з...</td>\n",
       "      <td>#вакансия #удаленка #middle+ #са #системныйана...</td>\n",
       "      <td>[(, 160 , )]</td>\n",
       "      <td>0.0</td>\n",
       "      <td>160000.0</td>\n",
       "      <td>80000.0</td>\n",
       "    </tr>\n",
       "    <tr>\n",
       "      <th>2</th>\n",
       "      <td>В данной вакансии указаны две профессиональны...</td>\n",
       "      <td>Based on the job vacancy description provided...</td>\n",
       "      <td>В данном объявлении о вакансии место работы у...</td>\n",
       "      <td>The job posting in Russian indicates that the...</td>\n",
       "      <td>В объявлении о вакансии указано следующее рас...</td>\n",
       "      <td>В данном объявлении указаны два формата работ...</td>\n",
       "      <td>The job listing text is for a remote work for...</td>\n",
       "      <td>Based on the provided job posting in Russian,...</td>\n",
       "      <td>В данной вакансии указано, что требуемый опыт...</td>\n",
       "      <td>The offered salary in the job posting text is...</td>\n",
       "      <td>#вакансия #middle #remote **Требуются ML-инжен...</td>\n",
       "      <td>[(, 150,000 , ), (, 230,000 , )]</td>\n",
       "      <td>150000.0</td>\n",
       "      <td>230000.0</td>\n",
       "      <td>190000.0</td>\n",
       "    </tr>\n",
       "    <tr>\n",
       "      <th>3</th>\n",
       "      <td>The job title in the vacancy text is \"Middle ...</td>\n",
       "      <td>The job vacancy mentions \"Локация: Россия,\" w...</td>\n",
       "      <td>Локация, указанная в данной вакансии, находит...</td>\n",
       "      <td>В данном объявлении о вакансии не указан конк...</td>\n",
       "      <td>В данном объявлении о вакансии не указан конк...</td>\n",
       "      <td>На основании предоставленной информации, в да...</td>\n",
       "      <td>На основании текста вакансии, можно сделать в...</td>\n",
       "      <td>Основные требуемые навыки для вакансии Middle...</td>\n",
       "      <td>В данной вакансии не указан конкретный требуе...</td>\n",
       "      <td>В данном объявлении о вакансии предлагаемая з...</td>\n",
       "      <td>#вакансия #аналитикданных #SQL #AB #статистика...</td>\n",
       "      <td>[(, 240-270, ), (, 240-270 , )]</td>\n",
       "      <td>240000.0</td>\n",
       "      <td>270000.0</td>\n",
       "      <td>255000.0</td>\n",
       "    </tr>\n",
       "    <tr>\n",
       "      <th>4</th>\n",
       "      <td>Системный аналитик</td>\n",
       "      <td>The job vacancy specifies the region as \"Крас...</td>\n",
       "      <td>Город работы указан как \"Краснодар\".</td>\n",
       "      <td>В job posting указано \"Занятость: полный день...</td>\n",
       "      <td>В данном объявлении о вакансии указано, что г...</td>\n",
       "      <td>В указанном вами объявлении о вакансии на рус...</td>\n",
       "      <td>Формат работы: офис\\удаленка (гибридный)</td>\n",
       "      <td>На основе предоставленного текста, необходимы...</td>\n",
       "      <td>В тексте вакансии не указан конкретный опыт р...</td>\n",
       "      <td>В данном объявлении о вакансии указана следую...</td>\n",
       "      <td>#вакансия #Системныйаналитик #Бизнес_аналитик ...</td>\n",
       "      <td>[(, 200 000 , руб), (, 150 000 , )]</td>\n",
       "      <td>150000.0</td>\n",
       "      <td>200000.0</td>\n",
       "      <td>175000.0</td>\n",
       "    </tr>\n",
       "  </tbody>\n",
       "</table>\n",
       "</div>"
      ],
      "text/plain": [
       "                                                 job  \\\n",
       "0   The job title in the given vacancy text is \"В...   \n",
       "1   В данном тексте вакансии на русском языке ука...   \n",
       "2   В данной вакансии указаны две профессиональны...   \n",
       "3   The job title in the vacancy text is \"Middle ...   \n",
       "4                                 Системный аналитик   \n",
       "\n",
       "                                            location  \\\n",
       "0   The job vacancy specifies the region as \"Моск...   \n",
       "1   The job vacancy does not specify a particular...   \n",
       "2   Based on the job vacancy description provided...   \n",
       "3   The job vacancy mentions \"Локация: Россия,\" w...   \n",
       "4   The job vacancy specifies the region as \"Крас...   \n",
       "\n",
       "                                          location_2  \\\n",
       "0   Место работы в данной вакансии — Москва (Моск...   \n",
       "1   В данном тексте вакансии указано, что формат ...   \n",
       "2   В данном объявлении о вакансии место работы у...   \n",
       "3   Локация, указанная в данной вакансии, находит...   \n",
       "4               Город работы указан как \"Краснодар\".   \n",
       "\n",
       "                                       type_schedule  \\\n",
       "0   На основании предоставленного текста вакансии...   \n",
       "1   В данной вакансии указано, что формат работы ...   \n",
       "2   The job posting in Russian indicates that the...   \n",
       "3   В данном объявлении о вакансии не указан конк...   \n",
       "4   В job posting указано \"Занятость: полный день...   \n",
       "\n",
       "                                              shedul  \\\n",
       "0   В тексте вакансии не указано конкретное распи...   \n",
       "1   В данном тексте вакансии на русском языке ука...   \n",
       "2   В объявлении о вакансии указано следующее рас...   \n",
       "3   В данном объявлении о вакансии не указан конк...   \n",
       "4   В данном объявлении о вакансии указано, что г...   \n",
       "\n",
       "                                           type_busy  \\\n",
       "0   В данном объявлении о вакансии не указано кон...   \n",
       "1   В данной вакансии указано, что формат работы ...   \n",
       "2   В данном объявлении указаны два формата работ...   \n",
       "3   На основании предоставленной информации, в да...   \n",
       "4   В указанном вами объявлении о вакансии на рус...   \n",
       "\n",
       "                                          format_job  \\\n",
       "0   Для определения формата работы (remote, hybri...   \n",
       "1   Based on the job listing text in Russian, the...   \n",
       "2   The job listing text is for a remote work for...   \n",
       "3   На основании текста вакансии, можно сделать в...   \n",
       "4           Формат работы: офис\\удаленка (гибридный)   \n",
       "\n",
       "                                              skills  \\\n",
       "0   Based on the provided job posting in Russian,...   \n",
       "1   Based on the provided job posting in Russian,...   \n",
       "2   Based on the provided job posting in Russian,...   \n",
       "3   Основные требуемые навыки для вакансии Middle...   \n",
       "4   На основе предоставленного текста, необходимы...   \n",
       "\n",
       "                                          experience  \\\n",
       "0   В приведенном тексте вакансии не указано конк...   \n",
       "1   В данном объявлении о вакансии требуется комм...   \n",
       "2   В данной вакансии указано, что требуемый опыт...   \n",
       "3   В данной вакансии не указан конкретный требуе...   \n",
       "4   В тексте вакансии не указан конкретный опыт р...   \n",
       "\n",
       "                                              salary  \\\n",
       "0   В данном объявлении о вакансии указано, что з...   \n",
       "1   В тексте вакансии указано, что предлагаемая з...   \n",
       "2   The offered salary in the job posting text is...   \n",
       "3   В данном объявлении о вакансии предлагаемая з...   \n",
       "4   В данном объявлении о вакансии указана следую...   \n",
       "\n",
       "                                           descr_vac  \\\n",
       "0  #вакансия #data #analyst #sql #sber #Москва Ко...   \n",
       "1  #вакансия #удаленка #middle+ #са #системныйана...   \n",
       "2  #вакансия #middle #remote **Требуются ML-инжен...   \n",
       "3  #вакансия #аналитикданных #SQL #AB #статистика...   \n",
       "4  #вакансия #Системныйаналитик #Бизнес_аналитик ...   \n",
       "\n",
       "                        salary_min_max  salary_min  salary_max  salary_mean  \n",
       "0                                  NaN         NaN         NaN          NaN  \n",
       "1                         [(, 160 , )]         0.0    160000.0      80000.0  \n",
       "2     [(, 150,000 , ), (, 230,000 , )]    150000.0    230000.0     190000.0  \n",
       "3      [(, 240-270, ), (, 240-270 , )]    240000.0    270000.0     255000.0  \n",
       "4  [(, 200 000 , руб), (, 150 000 , )]    150000.0    200000.0     175000.0  "
      ]
     },
     "execution_count": 120,
     "metadata": {},
     "output_type": "execute_result"
    }
   ],
   "source": [
    "def func_salary(s):\n",
    "    if not isinstance(s,(float,type(None))):\n",
    "        s_min, s_max = s[0], s[-1]\n",
    "        if len(re.findall(\"-\", s_min[1]+s_max[1])):\n",
    "            if s_min[1]==s_max[1]:\n",
    "                s_min_new, s_max_new = s_min[1].split(\"-\")\n",
    "                s_min_new, s_max_new  = int(re.sub(r\"\\D*\",\"\",s_min_new)), int(re.sub(r\"\\D*\",\"\",s_max_new))\n",
    "                for val in [\"долларов\",\"евро\",\"дол\",\"евр\",\"$\",\"USD\",\"€\"]:\n",
    "                    if val in set(s_min+s_max):\n",
    "                        s_min_new*=100\n",
    "                        s_max_new*=100\n",
    "                        break\n",
    "            else:\n",
    "                for t in s:\n",
    "                    if len(re.findall(\"-\", \"\".join(t))):\n",
    "                        s_min_new, s_max_new = t[1].split(\"-\")\n",
    "                        s_min_new, s_max_new  = int(re.sub(r\"\\D*\",\"\",s_min_new)), int(re.sub(r\"\\D*\",\"\",s_max_new))\n",
    "                        for val in [\"долларов\",\"евро\",\"дол\",\"евр\",\"$\",\"USD\",\"€\"]:\n",
    "                            if val in set(t):\n",
    "                                s_min_new*=100\n",
    "                                s_max_new*=100\n",
    "                                break\n",
    "                        #print(\"min<>max\",s,\">>>>\",s_min_new,s_max_new)\n",
    "        else:\n",
    "            if re.sub(r\"\\D*\",\"\",s_min[1])==re.sub(r\"\\D*\",\"\",s_max[1]):\n",
    "                s_min_new = 0\n",
    "                s_max_new = int(re.sub(r\"\\D*\",\"\",s_max[1]))\n",
    "                for val in [\"долларов\",\"евро\",\"дол\",\"евр\",\"$\",\"USD\",\"€\"]:\n",
    "                    if val in set(s_min+s_max):\n",
    "                        s_min_new*=100\n",
    "                        s_max_new*=100\n",
    "                        break\n",
    "            elif int(re.sub(r\"\\D*\",\"\",s_min[1]))<int(re.sub(r\"\\D*\",\"\",s_max[1])):\n",
    "                s_min_new = int(re.sub(r\"\\D*\",\"\",s_min[1]))\n",
    "                s_max_new = int(re.sub(r\"\\D*\",\"\",s_max[1]))\n",
    "                for val in [\"долларов\",\"евро\",\"дол\",\"евр\",\"$\",\"USD\",\"€\"]:\n",
    "                    if val in set(s_min+s_max):\n",
    "                        s_min_new*=100\n",
    "                        s_max_new*=100\n",
    "                        break\n",
    "            elif int(re.sub(r\"\\D*\",\"\",s_min[1]))>int(re.sub(r\"\\D*\",\"\",s_max[1])):\n",
    "                s_max_new = int(re.sub(r\"\\D*\",\"\",s_min[1]))\n",
    "                s_min_new = int(re.sub(r\"\\D*\",\"\",s_max[1]))\n",
    "                for val in [\"долларов\",\"евро\",\"дол\",\"евр\",\"$\",\"USD\",\"€\"]:\n",
    "                    if val in set(s_min+s_max):\n",
    "                        s_min_new*=100\n",
    "                        s_max_new*=100\n",
    "                        break\n",
    "\n",
    "        if s_min_new<s_max_new<900:\n",
    "            s_min_new*=1000\n",
    "            s_max_new*=1000\n",
    "        #print(s_min_new,s_max_new, s)\n",
    "        if s_max_new<s_min_new:\n",
    "            print(\"EGCCC\", s_min_new,s_max_new, s)\n",
    "        return (s_min_new,s_max_new)\n",
    "                    \n",
    "\n",
    "df[\"salary_min_max\"].apply(lambda salary : func_salary(salary))\n",
    "df[\"salary_min\"] = df[\"salary_min_max\"].map(lambda salary : func_salary(salary)[0] if not isinstance(salary,(float,type(None))) else np.NAN)\n",
    "df[\"salary_max\"] = df[\"salary_min_max\"].map(lambda salary : func_salary(salary)[-1] if not isinstance(salary,(float,type(None))) else np.NAN)\n",
    "df[\"salary_mean\"] = (df[\"salary_max\"] + df[\"salary_min\"])/2\n",
    "\n",
    "df.head()"
   ]
  },
  {
   "cell_type": "markdown",
   "metadata": {},
   "source": [
    "Удаляем в датасете вакансии без з/п"
   ]
  },
  {
   "cell_type": "code",
   "execution_count": 121,
   "metadata": {},
   "outputs": [
    {
     "data": {
      "text/html": [
       "<div>\n",
       "<style scoped>\n",
       "    .dataframe tbody tr th:only-of-type {\n",
       "        vertical-align: middle;\n",
       "    }\n",
       "\n",
       "    .dataframe tbody tr th {\n",
       "        vertical-align: top;\n",
       "    }\n",
       "\n",
       "    .dataframe thead th {\n",
       "        text-align: right;\n",
       "    }\n",
       "</style>\n",
       "<table border=\"1\" class=\"dataframe\">\n",
       "  <thead>\n",
       "    <tr style=\"text-align: right;\">\n",
       "      <th></th>\n",
       "      <th>job</th>\n",
       "      <th>location</th>\n",
       "      <th>location_2</th>\n",
       "      <th>type_schedule</th>\n",
       "      <th>shedul</th>\n",
       "      <th>type_busy</th>\n",
       "      <th>format_job</th>\n",
       "      <th>skills</th>\n",
       "      <th>experience</th>\n",
       "      <th>salary</th>\n",
       "      <th>descr_vac</th>\n",
       "      <th>salary_min_max</th>\n",
       "      <th>salary_min</th>\n",
       "      <th>salary_max</th>\n",
       "      <th>salary_mean</th>\n",
       "    </tr>\n",
       "  </thead>\n",
       "  <tbody>\n",
       "    <tr>\n",
       "      <th>1</th>\n",
       "      <td>В данном тексте вакансии на русском языке ука...</td>\n",
       "      <td>The job vacancy does not specify a particular...</td>\n",
       "      <td>В данном тексте вакансии указано, что формат ...</td>\n",
       "      <td>В данной вакансии указано, что формат работы ...</td>\n",
       "      <td>В данном тексте вакансии на русском языке ука...</td>\n",
       "      <td>В данной вакансии указано, что формат работы ...</td>\n",
       "      <td>Based on the job listing text in Russian, the...</td>\n",
       "      <td>Based on the provided job posting in Russian,...</td>\n",
       "      <td>В данном объявлении о вакансии требуется комм...</td>\n",
       "      <td>В тексте вакансии указано, что предлагаемая з...</td>\n",
       "      <td>#вакансия #удаленка #middle+ #са #системныйана...</td>\n",
       "      <td>[(, 160 , )]</td>\n",
       "      <td>0.0</td>\n",
       "      <td>160000.0</td>\n",
       "      <td>80000.0</td>\n",
       "    </tr>\n",
       "    <tr>\n",
       "      <th>2</th>\n",
       "      <td>В данной вакансии указаны две профессиональны...</td>\n",
       "      <td>Based on the job vacancy description provided...</td>\n",
       "      <td>В данном объявлении о вакансии место работы у...</td>\n",
       "      <td>The job posting in Russian indicates that the...</td>\n",
       "      <td>В объявлении о вакансии указано следующее рас...</td>\n",
       "      <td>В данном объявлении указаны два формата работ...</td>\n",
       "      <td>The job listing text is for a remote work for...</td>\n",
       "      <td>Based on the provided job posting in Russian,...</td>\n",
       "      <td>В данной вакансии указано, что требуемый опыт...</td>\n",
       "      <td>The offered salary in the job posting text is...</td>\n",
       "      <td>#вакансия #middle #remote **Требуются ML-инжен...</td>\n",
       "      <td>[(, 150,000 , ), (, 230,000 , )]</td>\n",
       "      <td>150000.0</td>\n",
       "      <td>230000.0</td>\n",
       "      <td>190000.0</td>\n",
       "    </tr>\n",
       "    <tr>\n",
       "      <th>3</th>\n",
       "      <td>The job title in the vacancy text is \"Middle ...</td>\n",
       "      <td>The job vacancy mentions \"Локация: Россия,\" w...</td>\n",
       "      <td>Локация, указанная в данной вакансии, находит...</td>\n",
       "      <td>В данном объявлении о вакансии не указан конк...</td>\n",
       "      <td>В данном объявлении о вакансии не указан конк...</td>\n",
       "      <td>На основании предоставленной информации, в да...</td>\n",
       "      <td>На основании текста вакансии, можно сделать в...</td>\n",
       "      <td>Основные требуемые навыки для вакансии Middle...</td>\n",
       "      <td>В данной вакансии не указан конкретный требуе...</td>\n",
       "      <td>В данном объявлении о вакансии предлагаемая з...</td>\n",
       "      <td>#вакансия #аналитикданных #SQL #AB #статистика...</td>\n",
       "      <td>[(, 240-270, ), (, 240-270 , )]</td>\n",
       "      <td>240000.0</td>\n",
       "      <td>270000.0</td>\n",
       "      <td>255000.0</td>\n",
       "    </tr>\n",
       "    <tr>\n",
       "      <th>4</th>\n",
       "      <td>Системный аналитик</td>\n",
       "      <td>The job vacancy specifies the region as \"Крас...</td>\n",
       "      <td>Город работы указан как \"Краснодар\".</td>\n",
       "      <td>В job posting указано \"Занятость: полный день...</td>\n",
       "      <td>В данном объявлении о вакансии указано, что г...</td>\n",
       "      <td>В указанном вами объявлении о вакансии на рус...</td>\n",
       "      <td>Формат работы: офис\\удаленка (гибридный)</td>\n",
       "      <td>На основе предоставленного текста, необходимы...</td>\n",
       "      <td>В тексте вакансии не указан конкретный опыт р...</td>\n",
       "      <td>В данном объявлении о вакансии указана следую...</td>\n",
       "      <td>#вакансия #Системныйаналитик #Бизнес_аналитик ...</td>\n",
       "      <td>[(, 200 000 , руб), (, 150 000 , )]</td>\n",
       "      <td>150000.0</td>\n",
       "      <td>200000.0</td>\n",
       "      <td>175000.0</td>\n",
       "    </tr>\n",
       "    <tr>\n",
       "      <th>5</th>\n",
       "      <td>The job title in the provided vacancy text is...</td>\n",
       "      <td>The job vacancy you provided does not explici...</td>\n",
       "      <td>В данном объявлении о вакансии место работы у...</td>\n",
       "      <td>The job posting indicates a \"Full-time\" work ...</td>\n",
       "      <td>В данной вакансии указано следующее расписани...</td>\n",
       "      <td>На основании предоставленного текста job list...</td>\n",
       "      <td>The job listing text in Russian matches the *...</td>\n",
       "      <td>Основные требования к кандидату: - Уверенное ...</td>\n",
       "      <td>В данном объявлении о вакансии требуется след...</td>\n",
       "      <td>В данном объявлении о вакансии предлагается з...</td>\n",
       "      <td>#вакансия #инженер #engineer #DataEngineer #mi...</td>\n",
       "      <td>[(, 250 000 , рублей)]</td>\n",
       "      <td>0.0</td>\n",
       "      <td>250000.0</td>\n",
       "      <td>125000.0</td>\n",
       "    </tr>\n",
       "  </tbody>\n",
       "</table>\n",
       "</div>"
      ],
      "text/plain": [
       "                                                 job  \\\n",
       "1   В данном тексте вакансии на русском языке ука...   \n",
       "2   В данной вакансии указаны две профессиональны...   \n",
       "3   The job title in the vacancy text is \"Middle ...   \n",
       "4                                 Системный аналитик   \n",
       "5   The job title in the provided vacancy text is...   \n",
       "\n",
       "                                            location  \\\n",
       "1   The job vacancy does not specify a particular...   \n",
       "2   Based on the job vacancy description provided...   \n",
       "3   The job vacancy mentions \"Локация: Россия,\" w...   \n",
       "4   The job vacancy specifies the region as \"Крас...   \n",
       "5   The job vacancy you provided does not explici...   \n",
       "\n",
       "                                          location_2  \\\n",
       "1   В данном тексте вакансии указано, что формат ...   \n",
       "2   В данном объявлении о вакансии место работы у...   \n",
       "3   Локация, указанная в данной вакансии, находит...   \n",
       "4               Город работы указан как \"Краснодар\".   \n",
       "5   В данном объявлении о вакансии место работы у...   \n",
       "\n",
       "                                       type_schedule  \\\n",
       "1   В данной вакансии указано, что формат работы ...   \n",
       "2   The job posting in Russian indicates that the...   \n",
       "3   В данном объявлении о вакансии не указан конк...   \n",
       "4   В job posting указано \"Занятость: полный день...   \n",
       "5   The job posting indicates a \"Full-time\" work ...   \n",
       "\n",
       "                                              shedul  \\\n",
       "1   В данном тексте вакансии на русском языке ука...   \n",
       "2   В объявлении о вакансии указано следующее рас...   \n",
       "3   В данном объявлении о вакансии не указан конк...   \n",
       "4   В данном объявлении о вакансии указано, что г...   \n",
       "5   В данной вакансии указано следующее расписани...   \n",
       "\n",
       "                                           type_busy  \\\n",
       "1   В данной вакансии указано, что формат работы ...   \n",
       "2   В данном объявлении указаны два формата работ...   \n",
       "3   На основании предоставленной информации, в да...   \n",
       "4   В указанном вами объявлении о вакансии на рус...   \n",
       "5   На основании предоставленного текста job list...   \n",
       "\n",
       "                                          format_job  \\\n",
       "1   Based on the job listing text in Russian, the...   \n",
       "2   The job listing text is for a remote work for...   \n",
       "3   На основании текста вакансии, можно сделать в...   \n",
       "4           Формат работы: офис\\удаленка (гибридный)   \n",
       "5   The job listing text in Russian matches the *...   \n",
       "\n",
       "                                              skills  \\\n",
       "1   Based on the provided job posting in Russian,...   \n",
       "2   Based on the provided job posting in Russian,...   \n",
       "3   Основные требуемые навыки для вакансии Middle...   \n",
       "4   На основе предоставленного текста, необходимы...   \n",
       "5   Основные требования к кандидату: - Уверенное ...   \n",
       "\n",
       "                                          experience  \\\n",
       "1   В данном объявлении о вакансии требуется комм...   \n",
       "2   В данной вакансии указано, что требуемый опыт...   \n",
       "3   В данной вакансии не указан конкретный требуе...   \n",
       "4   В тексте вакансии не указан конкретный опыт р...   \n",
       "5   В данном объявлении о вакансии требуется след...   \n",
       "\n",
       "                                              salary  \\\n",
       "1   В тексте вакансии указано, что предлагаемая з...   \n",
       "2   The offered salary in the job posting text is...   \n",
       "3   В данном объявлении о вакансии предлагаемая з...   \n",
       "4   В данном объявлении о вакансии указана следую...   \n",
       "5   В данном объявлении о вакансии предлагается з...   \n",
       "\n",
       "                                           descr_vac  \\\n",
       "1  #вакансия #удаленка #middle+ #са #системныйана...   \n",
       "2  #вакансия #middle #remote **Требуются ML-инжен...   \n",
       "3  #вакансия #аналитикданных #SQL #AB #статистика...   \n",
       "4  #вакансия #Системныйаналитик #Бизнес_аналитик ...   \n",
       "5  #вакансия #инженер #engineer #DataEngineer #mi...   \n",
       "\n",
       "                        salary_min_max  salary_min  salary_max  salary_mean  \n",
       "1                         [(, 160 , )]         0.0    160000.0      80000.0  \n",
       "2     [(, 150,000 , ), (, 230,000 , )]    150000.0    230000.0     190000.0  \n",
       "3      [(, 240-270, ), (, 240-270 , )]    240000.0    270000.0     255000.0  \n",
       "4  [(, 200 000 , руб), (, 150 000 , )]    150000.0    200000.0     175000.0  \n",
       "5               [(, 250 000 , рублей)]         0.0    250000.0     125000.0  "
      ]
     },
     "execution_count": 121,
     "metadata": {},
     "output_type": "execute_result"
    }
   ],
   "source": [
    "df = df[~df[\"salary_min_max\"].isnull()]\n",
    "df.head()"
   ]
  },
  {
   "cell_type": "markdown",
   "metadata": {},
   "source": [
    "Переносим данные с колонки с максимальной з/п в колонку с минимальной на место нулевых значений. планирую прогнозировать минимальный уровень или среднее значение з/п"
   ]
  },
  {
   "cell_type": "code",
   "execution_count": 122,
   "metadata": {},
   "outputs": [],
   "source": [
    "df['salary_min'] = df.apply(\n",
    "    lambda row: row['salary_max'] if row['salary_min']==0 else row['salary_min'],\n",
    "    axis=1)\n",
    "df['salary_max'] = df.apply(\n",
    "    lambda row: 0 if row['salary_min']==row['salary_max'] else row['salary_max'],\n",
    "    axis=1)"
   ]
  },
  {
   "cell_type": "code",
   "execution_count": 123,
   "metadata": {},
   "outputs": [
    {
     "data": {
      "text/html": [
       "<div>\n",
       "<style scoped>\n",
       "    .dataframe tbody tr th:only-of-type {\n",
       "        vertical-align: middle;\n",
       "    }\n",
       "\n",
       "    .dataframe tbody tr th {\n",
       "        vertical-align: top;\n",
       "    }\n",
       "\n",
       "    .dataframe thead th {\n",
       "        text-align: right;\n",
       "    }\n",
       "</style>\n",
       "<table border=\"1\" class=\"dataframe\">\n",
       "  <thead>\n",
       "    <tr style=\"text-align: right;\">\n",
       "      <th></th>\n",
       "      <th>job</th>\n",
       "      <th>location</th>\n",
       "      <th>location_2</th>\n",
       "      <th>type_schedule</th>\n",
       "      <th>shedul</th>\n",
       "      <th>type_busy</th>\n",
       "      <th>format_job</th>\n",
       "      <th>skills</th>\n",
       "      <th>experience</th>\n",
       "      <th>salary</th>\n",
       "      <th>descr_vac</th>\n",
       "      <th>salary_min_max</th>\n",
       "      <th>salary_min</th>\n",
       "      <th>salary_max</th>\n",
       "      <th>salary_mean</th>\n",
       "    </tr>\n",
       "  </thead>\n",
       "  <tbody>\n",
       "    <tr>\n",
       "      <th>1</th>\n",
       "      <td>В данном тексте вакансии на русском языке ука...</td>\n",
       "      <td>The job vacancy does not specify a particular...</td>\n",
       "      <td>В данном тексте вакансии указано, что формат ...</td>\n",
       "      <td>В данной вакансии указано, что формат работы ...</td>\n",
       "      <td>В данном тексте вакансии на русском языке ука...</td>\n",
       "      <td>В данной вакансии указано, что формат работы ...</td>\n",
       "      <td>Based on the job listing text in Russian, the...</td>\n",
       "      <td>Based on the provided job posting in Russian,...</td>\n",
       "      <td>В данном объявлении о вакансии требуется комм...</td>\n",
       "      <td>В тексте вакансии указано, что предлагаемая з...</td>\n",
       "      <td>#вакансия #удаленка #middle+ #са #системныйана...</td>\n",
       "      <td>[(, 160 , )]</td>\n",
       "      <td>160000.0</td>\n",
       "      <td>0.0</td>\n",
       "      <td>80000.0</td>\n",
       "    </tr>\n",
       "    <tr>\n",
       "      <th>2</th>\n",
       "      <td>В данной вакансии указаны две профессиональны...</td>\n",
       "      <td>Based on the job vacancy description provided...</td>\n",
       "      <td>В данном объявлении о вакансии место работы у...</td>\n",
       "      <td>The job posting in Russian indicates that the...</td>\n",
       "      <td>В объявлении о вакансии указано следующее рас...</td>\n",
       "      <td>В данном объявлении указаны два формата работ...</td>\n",
       "      <td>The job listing text is for a remote work for...</td>\n",
       "      <td>Based on the provided job posting in Russian,...</td>\n",
       "      <td>В данной вакансии указано, что требуемый опыт...</td>\n",
       "      <td>The offered salary in the job posting text is...</td>\n",
       "      <td>#вакансия #middle #remote **Требуются ML-инжен...</td>\n",
       "      <td>[(, 150,000 , ), (, 230,000 , )]</td>\n",
       "      <td>150000.0</td>\n",
       "      <td>230000.0</td>\n",
       "      <td>190000.0</td>\n",
       "    </tr>\n",
       "    <tr>\n",
       "      <th>3</th>\n",
       "      <td>The job title in the vacancy text is \"Middle ...</td>\n",
       "      <td>The job vacancy mentions \"Локация: Россия,\" w...</td>\n",
       "      <td>Локация, указанная в данной вакансии, находит...</td>\n",
       "      <td>В данном объявлении о вакансии не указан конк...</td>\n",
       "      <td>В данном объявлении о вакансии не указан конк...</td>\n",
       "      <td>На основании предоставленной информации, в да...</td>\n",
       "      <td>На основании текста вакансии, можно сделать в...</td>\n",
       "      <td>Основные требуемые навыки для вакансии Middle...</td>\n",
       "      <td>В данной вакансии не указан конкретный требуе...</td>\n",
       "      <td>В данном объявлении о вакансии предлагаемая з...</td>\n",
       "      <td>#вакансия #аналитикданных #SQL #AB #статистика...</td>\n",
       "      <td>[(, 240-270, ), (, 240-270 , )]</td>\n",
       "      <td>240000.0</td>\n",
       "      <td>270000.0</td>\n",
       "      <td>255000.0</td>\n",
       "    </tr>\n",
       "    <tr>\n",
       "      <th>4</th>\n",
       "      <td>Системный аналитик</td>\n",
       "      <td>The job vacancy specifies the region as \"Крас...</td>\n",
       "      <td>Город работы указан как \"Краснодар\".</td>\n",
       "      <td>В job posting указано \"Занятость: полный день...</td>\n",
       "      <td>В данном объявлении о вакансии указано, что г...</td>\n",
       "      <td>В указанном вами объявлении о вакансии на рус...</td>\n",
       "      <td>Формат работы: офис\\удаленка (гибридный)</td>\n",
       "      <td>На основе предоставленного текста, необходимы...</td>\n",
       "      <td>В тексте вакансии не указан конкретный опыт р...</td>\n",
       "      <td>В данном объявлении о вакансии указана следую...</td>\n",
       "      <td>#вакансия #Системныйаналитик #Бизнес_аналитик ...</td>\n",
       "      <td>[(, 200 000 , руб), (, 150 000 , )]</td>\n",
       "      <td>150000.0</td>\n",
       "      <td>200000.0</td>\n",
       "      <td>175000.0</td>\n",
       "    </tr>\n",
       "    <tr>\n",
       "      <th>5</th>\n",
       "      <td>The job title in the provided vacancy text is...</td>\n",
       "      <td>The job vacancy you provided does not explici...</td>\n",
       "      <td>В данном объявлении о вакансии место работы у...</td>\n",
       "      <td>The job posting indicates a \"Full-time\" work ...</td>\n",
       "      <td>В данной вакансии указано следующее расписани...</td>\n",
       "      <td>На основании предоставленного текста job list...</td>\n",
       "      <td>The job listing text in Russian matches the *...</td>\n",
       "      <td>Основные требования к кандидату: - Уверенное ...</td>\n",
       "      <td>В данном объявлении о вакансии требуется след...</td>\n",
       "      <td>В данном объявлении о вакансии предлагается з...</td>\n",
       "      <td>#вакансия #инженер #engineer #DataEngineer #mi...</td>\n",
       "      <td>[(, 250 000 , рублей)]</td>\n",
       "      <td>250000.0</td>\n",
       "      <td>0.0</td>\n",
       "      <td>125000.0</td>\n",
       "    </tr>\n",
       "  </tbody>\n",
       "</table>\n",
       "</div>"
      ],
      "text/plain": [
       "                                                 job  \\\n",
       "1   В данном тексте вакансии на русском языке ука...   \n",
       "2   В данной вакансии указаны две профессиональны...   \n",
       "3   The job title in the vacancy text is \"Middle ...   \n",
       "4                                 Системный аналитик   \n",
       "5   The job title in the provided vacancy text is...   \n",
       "\n",
       "                                            location  \\\n",
       "1   The job vacancy does not specify a particular...   \n",
       "2   Based on the job vacancy description provided...   \n",
       "3   The job vacancy mentions \"Локация: Россия,\" w...   \n",
       "4   The job vacancy specifies the region as \"Крас...   \n",
       "5   The job vacancy you provided does not explici...   \n",
       "\n",
       "                                          location_2  \\\n",
       "1   В данном тексте вакансии указано, что формат ...   \n",
       "2   В данном объявлении о вакансии место работы у...   \n",
       "3   Локация, указанная в данной вакансии, находит...   \n",
       "4               Город работы указан как \"Краснодар\".   \n",
       "5   В данном объявлении о вакансии место работы у...   \n",
       "\n",
       "                                       type_schedule  \\\n",
       "1   В данной вакансии указано, что формат работы ...   \n",
       "2   The job posting in Russian indicates that the...   \n",
       "3   В данном объявлении о вакансии не указан конк...   \n",
       "4   В job posting указано \"Занятость: полный день...   \n",
       "5   The job posting indicates a \"Full-time\" work ...   \n",
       "\n",
       "                                              shedul  \\\n",
       "1   В данном тексте вакансии на русском языке ука...   \n",
       "2   В объявлении о вакансии указано следующее рас...   \n",
       "3   В данном объявлении о вакансии не указан конк...   \n",
       "4   В данном объявлении о вакансии указано, что г...   \n",
       "5   В данной вакансии указано следующее расписани...   \n",
       "\n",
       "                                           type_busy  \\\n",
       "1   В данной вакансии указано, что формат работы ...   \n",
       "2   В данном объявлении указаны два формата работ...   \n",
       "3   На основании предоставленной информации, в да...   \n",
       "4   В указанном вами объявлении о вакансии на рус...   \n",
       "5   На основании предоставленного текста job list...   \n",
       "\n",
       "                                          format_job  \\\n",
       "1   Based on the job listing text in Russian, the...   \n",
       "2   The job listing text is for a remote work for...   \n",
       "3   На основании текста вакансии, можно сделать в...   \n",
       "4           Формат работы: офис\\удаленка (гибридный)   \n",
       "5   The job listing text in Russian matches the *...   \n",
       "\n",
       "                                              skills  \\\n",
       "1   Based on the provided job posting in Russian,...   \n",
       "2   Based on the provided job posting in Russian,...   \n",
       "3   Основные требуемые навыки для вакансии Middle...   \n",
       "4   На основе предоставленного текста, необходимы...   \n",
       "5   Основные требования к кандидату: - Уверенное ...   \n",
       "\n",
       "                                          experience  \\\n",
       "1   В данном объявлении о вакансии требуется комм...   \n",
       "2   В данной вакансии указано, что требуемый опыт...   \n",
       "3   В данной вакансии не указан конкретный требуе...   \n",
       "4   В тексте вакансии не указан конкретный опыт р...   \n",
       "5   В данном объявлении о вакансии требуется след...   \n",
       "\n",
       "                                              salary  \\\n",
       "1   В тексте вакансии указано, что предлагаемая з...   \n",
       "2   The offered salary in the job posting text is...   \n",
       "3   В данном объявлении о вакансии предлагаемая з...   \n",
       "4   В данном объявлении о вакансии указана следую...   \n",
       "5   В данном объявлении о вакансии предлагается з...   \n",
       "\n",
       "                                           descr_vac  \\\n",
       "1  #вакансия #удаленка #middle+ #са #системныйана...   \n",
       "2  #вакансия #middle #remote **Требуются ML-инжен...   \n",
       "3  #вакансия #аналитикданных #SQL #AB #статистика...   \n",
       "4  #вакансия #Системныйаналитик #Бизнес_аналитик ...   \n",
       "5  #вакансия #инженер #engineer #DataEngineer #mi...   \n",
       "\n",
       "                        salary_min_max  salary_min  salary_max  salary_mean  \n",
       "1                         [(, 160 , )]    160000.0         0.0      80000.0  \n",
       "2     [(, 150,000 , ), (, 230,000 , )]    150000.0    230000.0     190000.0  \n",
       "3      [(, 240-270, ), (, 240-270 , )]    240000.0    270000.0     255000.0  \n",
       "4  [(, 200 000 , руб), (, 150 000 , )]    150000.0    200000.0     175000.0  \n",
       "5               [(, 250 000 , рублей)]    250000.0         0.0     125000.0  "
      ]
     },
     "execution_count": 123,
     "metadata": {},
     "output_type": "execute_result"
    }
   ],
   "source": [
    "df.head()"
   ]
  },
  {
   "cell_type": "markdown",
   "metadata": {},
   "source": [
    "Из собранных с кеглла датасетов с вакансиями по DS, выбрал названия должностей. Далее я их использую для извлечения из своего датасета названия должностей.  \n",
    "Планировал: кластиризовать названия должностей."
   ]
  },
  {
   "cell_type": "code",
   "execution_count": 124,
   "metadata": {},
   "outputs": [
    {
     "data": {
      "text/html": [
       "<div>\n",
       "<style scoped>\n",
       "    .dataframe tbody tr th:only-of-type {\n",
       "        vertical-align: middle;\n",
       "    }\n",
       "\n",
       "    .dataframe tbody tr th {\n",
       "        vertical-align: top;\n",
       "    }\n",
       "\n",
       "    .dataframe thead th {\n",
       "        text-align: right;\n",
       "    }\n",
       "</style>\n",
       "<table border=\"1\" class=\"dataframe\">\n",
       "  <thead>\n",
       "    <tr style=\"text-align: right;\">\n",
       "      <th></th>\n",
       "      <th>work_year</th>\n",
       "      <th>experience_level</th>\n",
       "      <th>employment_type</th>\n",
       "      <th>job_title</th>\n",
       "      <th>salary</th>\n",
       "      <th>salary_currency</th>\n",
       "      <th>salary_in_usd</th>\n",
       "      <th>employee_residence</th>\n",
       "      <th>remote_ratio</th>\n",
       "      <th>company_location</th>\n",
       "      <th>company_size</th>\n",
       "    </tr>\n",
       "  </thead>\n",
       "  <tbody>\n",
       "    <tr>\n",
       "      <th>0</th>\n",
       "      <td>2023</td>\n",
       "      <td>SE</td>\n",
       "      <td>FT</td>\n",
       "      <td>Principal Data Scientist</td>\n",
       "      <td>80000</td>\n",
       "      <td>EUR</td>\n",
       "      <td>85847</td>\n",
       "      <td>ES</td>\n",
       "      <td>100</td>\n",
       "      <td>ES</td>\n",
       "      <td>L</td>\n",
       "    </tr>\n",
       "    <tr>\n",
       "      <th>1</th>\n",
       "      <td>2023</td>\n",
       "      <td>MI</td>\n",
       "      <td>CT</td>\n",
       "      <td>ML Engineer</td>\n",
       "      <td>30000</td>\n",
       "      <td>USD</td>\n",
       "      <td>30000</td>\n",
       "      <td>US</td>\n",
       "      <td>100</td>\n",
       "      <td>US</td>\n",
       "      <td>S</td>\n",
       "    </tr>\n",
       "    <tr>\n",
       "      <th>2</th>\n",
       "      <td>2023</td>\n",
       "      <td>MI</td>\n",
       "      <td>CT</td>\n",
       "      <td>ML Engineer</td>\n",
       "      <td>25500</td>\n",
       "      <td>USD</td>\n",
       "      <td>25500</td>\n",
       "      <td>US</td>\n",
       "      <td>100</td>\n",
       "      <td>US</td>\n",
       "      <td>S</td>\n",
       "    </tr>\n",
       "    <tr>\n",
       "      <th>3</th>\n",
       "      <td>2023</td>\n",
       "      <td>SE</td>\n",
       "      <td>FT</td>\n",
       "      <td>Data Scientist</td>\n",
       "      <td>175000</td>\n",
       "      <td>USD</td>\n",
       "      <td>175000</td>\n",
       "      <td>CA</td>\n",
       "      <td>100</td>\n",
       "      <td>CA</td>\n",
       "      <td>M</td>\n",
       "    </tr>\n",
       "    <tr>\n",
       "      <th>4</th>\n",
       "      <td>2023</td>\n",
       "      <td>SE</td>\n",
       "      <td>FT</td>\n",
       "      <td>Data Scientist</td>\n",
       "      <td>120000</td>\n",
       "      <td>USD</td>\n",
       "      <td>120000</td>\n",
       "      <td>CA</td>\n",
       "      <td>100</td>\n",
       "      <td>CA</td>\n",
       "      <td>M</td>\n",
       "    </tr>\n",
       "  </tbody>\n",
       "</table>\n",
       "</div>"
      ],
      "text/plain": [
       "   work_year experience_level employment_type                 job_title  \\\n",
       "0       2023               SE              FT  Principal Data Scientist   \n",
       "1       2023               MI              CT               ML Engineer   \n",
       "2       2023               MI              CT               ML Engineer   \n",
       "3       2023               SE              FT            Data Scientist   \n",
       "4       2023               SE              FT            Data Scientist   \n",
       "\n",
       "   salary salary_currency  salary_in_usd employee_residence  remote_ratio  \\\n",
       "0   80000             EUR          85847                 ES           100   \n",
       "1   30000             USD          30000                 US           100   \n",
       "2   25500             USD          25500                 US           100   \n",
       "3  175000             USD         175000                 CA           100   \n",
       "4  120000             USD         120000                 CA           100   \n",
       "\n",
       "  company_location company_size  \n",
       "0               ES            L  \n",
       "1               US            S  \n",
       "2               US            S  \n",
       "3               CA            M  \n",
       "4               CA            M  "
      ]
     },
     "execution_count": 124,
     "metadata": {},
     "output_type": "execute_result"
    }
   ],
   "source": [
    "df_ds_vac = pd.read_csv(\"./raw_dataset/Kaggle_dataset/ds_salaries.csv\", sep=\",\")\n",
    "df_ds_vac.head()"
   ]
  },
  {
   "cell_type": "code",
   "execution_count": 125,
   "metadata": {},
   "outputs": [
    {
     "data": {
      "text/plain": [
       "(93,)"
      ]
     },
     "execution_count": 125,
     "metadata": {},
     "output_type": "execute_result"
    }
   ],
   "source": [
    "list_job_ds_eng = df_ds_vac.job_title.str.lower().unique()\n",
    "list_job_ds_eng.shape"
   ]
  },
  {
   "cell_type": "markdown",
   "metadata": {},
   "source": [
    "Имеющейся список из 93 вакансий на английском языке (в имеющихся названиях должности состоят только из буквенных символов, а в моих некоторых названиях содержатся:\"-\") использую для извлечения из моего датасета название должностей."
   ]
  },
  {
   "cell_type": "markdown",
   "metadata": {},
   "source": [
    "Создаю регулярку из английских вакансий и далее применяю для извлечения должностей из моего датасета"
   ]
  },
  {
   "cell_type": "code",
   "execution_count": 126,
   "metadata": {},
   "outputs": [
    {
     "name": "stdout",
     "output_type": "stream",
     "text": [
      "principal[\\s-]data[\\s-]scientist|ml[\\s-]engineer|data[\\s-]scientist|applied[\\s-]scientist|data[\\s-]analyst|data[\\s-]modeler|research[\\s-]engineer|analytics[\\s-]engineer|business[\\s-]intelligence[\\s-]engineer|machine[\\s-]learning[\\s-]engineer|data[\\s-]strategist|data[\\s-]engineer|computer[\\s-]vision[\\s-]engineer|data[\\s-]quality[\\s-]analyst|compliance[\\s-]data[\\s-]analyst|data[\\s-]architect|applied[\\s-]machine[\\s-]learning[\\s-]engineer|ai[\\s-]developer|research[\\s-]scientist|data[\\s-]analytics[\\s-]manager|business[\\s-]data[\\s-]analyst|applied[\\s-]data[\\s-]scientist|staff[\\s-]data[\\s-]analyst|etl[\\s-]engineer|data[\\s-]devops[\\s-]engineer|head[\\s-]of[\\s-]data|data[\\s-]science[\\s-]manager|data[\\s-]manager|machine[\\s-]learning[\\s-]researcher|big[\\s-]data[\\s-]engineer|data[\\s-]specialist|lead[\\s-]data[\\s-]analyst|bi[\\s-]data[\\s-]engineer|director[\\s-]of[\\s-]data[\\s-]science|machine[\\s-]learning[\\s-]scientist|mlops[\\s-]engineer|ai[\\s-]scientist|autonomous[\\s-]vehicle[\\s-]technician|applied[\\s-]machine[\\s-]learning[\\s-]scientist|lead[\\s-]data[\\s-]scientist|cloud[\\s-]database[\\s-]engineer|financial[\\s-]data[\\s-]analyst|data[\\s-]infrastructure[\\s-]engineer|software[\\s-]data[\\s-]engineer|ai[\\s-]programmer|data[\\s-]operations[\\s-]engineer|bi[\\s-]developer|data[\\s-]science[\\s-]lead|deep[\\s-]learning[\\s-]researcher|bi[\\s-]analyst|data[\\s-]science[\\s-]consultant|data[\\s-]analytics[\\s-]specialist|machine[\\s-]learning[\\s-]infrastructure[\\s-]engineer|bi[\\s-]data[\\s-]analyst|head[\\s-]of[\\s-]data[\\s-]science|insight[\\s-]analyst|deep[\\s-]learning[\\s-]engineer|machine[\\s-]learning[\\s-]software[\\s-]engineer|big[\\s-]data[\\s-]architect|product[\\s-]data[\\s-]analyst|computer[\\s-]vision[\\s-]software[\\s-]engineer|azure[\\s-]data[\\s-]engineer|marketing[\\s-]data[\\s-]engineer|data[\\s-]analytics[\\s-]lead|data[\\s-]lead|data[\\s-]science[\\s-]engineer|machine[\\s-]learning[\\s-]research[\\s-]engineer|nlp[\\s-]engineer|manager[\\s-]data[\\s-]management|machine[\\s-]learning[\\s-]developer|3d[\\s-]computer[\\s-]vision[\\s-]researcher|principal[\\s-]machine[\\s-]learning[\\s-]engineer|data[\\s-]analytics[\\s-]engineer|data[\\s-]analytics[\\s-]consultant|data[\\s-]management[\\s-]specialist|data[\\s-]science[\\s-]tech[\\s-]lead|data[\\s-]scientist[\\s-]lead|cloud[\\s-]data[\\s-]engineer|data[\\s-]operations[\\s-]analyst|marketing[\\s-]data[\\s-]analyst|power[\\s-]bi[\\s-]developer|product[\\s-]data[\\s-]scientist|principal[\\s-]data[\\s-]architect|machine[\\s-]learning[\\s-]manager|lead[\\s-]machine[\\s-]learning[\\s-]engineer|etl[\\s-]developer|cloud[\\s-]data[\\s-]architect|lead[\\s-]data[\\s-]engineer|head[\\s-]of[\\s-]machine[\\s-]learning|principal[\\s-]data[\\s-]analyst|principal[\\s-]data[\\s-]engineer|staff[\\s-]data[\\s-]scientist|finance[\\s-]data[\\s-]analyst\n"
     ]
    }
   ],
   "source": [
    "list_job_ds_eng_re = [\"[\\s-]\".join(job.split()) for job in list_job_ds_eng]\n",
    "reg_vac_eng = \"|\".join(list_job_ds_eng_re)\n",
    "print(reg_vac_eng)"
   ]
  },
  {
   "cell_type": "markdown",
   "metadata": {},
   "source": [
    "Создаем первый столбец извлеченных должностей, применяя первый подход (регулярку из английских вакансий)"
   ]
  },
  {
   "cell_type": "code",
   "execution_count": 127,
   "metadata": {},
   "outputs": [
    {
     "data": {
      "text/plain": [
       "(381,\n",
       " 1               NaN\n",
       " 2    Data Scientist\n",
       " 3      Data Analyst\n",
       " 4               NaN\n",
       " 5     Data Engineer\n",
       " Name: job, dtype: object)"
      ]
     },
     "execution_count": 127,
     "metadata": {},
     "output_type": "execute_result"
    }
   ],
   "source": [
    "df_job_1 = df[\"job\"].str.findall(reg_vac_eng, flags=re.I).apply(lambda x : \";\".join(x) if len(x)>0 else np.nan)\n",
    "df_job_1.isnull().sum(), df_job_1.head()"
   ]
  },
  {
   "cell_type": "markdown",
   "metadata": {},
   "source": [
    "Продолжаем строить регулярки, так как после первой - у нас еще 381 вакансия остается для последующей обработки "
   ]
  },
  {
   "cell_type": "markdown",
   "metadata": {},
   "source": [
    "создаем 2-ю регулярку по извлечению названий должностей. В тексте вакансий некоторые должности заключены в кавычки и звездочки (это оставленный артефакт после парсинга TG, админы выделяли жирный **текст**)"
   ]
  },
  {
   "cell_type": "code",
   "execution_count": 128,
   "metadata": {},
   "outputs": [
    {
     "data": {
      "text/html": [
       "<div>\n",
       "<style scoped>\n",
       "    .dataframe tbody tr th:only-of-type {\n",
       "        vertical-align: middle;\n",
       "    }\n",
       "\n",
       "    .dataframe tbody tr th {\n",
       "        vertical-align: top;\n",
       "    }\n",
       "\n",
       "    .dataframe thead th {\n",
       "        text-align: right;\n",
       "    }\n",
       "</style>\n",
       "<table border=\"1\" class=\"dataframe\">\n",
       "  <thead>\n",
       "    <tr style=\"text-align: right;\">\n",
       "      <th></th>\n",
       "      <th>0</th>\n",
       "      <th>1</th>\n",
       "    </tr>\n",
       "  </thead>\n",
       "  <tbody>\n",
       "    <tr>\n",
       "      <th>1</th>\n",
       "      <td>NaN</td>\n",
       "      <td>системный аналитик</td>\n",
       "    </tr>\n",
       "    <tr>\n",
       "      <th>2</th>\n",
       "      <td>NaN</td>\n",
       "      <td>ml-инженеры</td>\n",
       "    </tr>\n",
       "    <tr>\n",
       "      <th>3</th>\n",
       "      <td>middle дата аналитик</td>\n",
       "      <td>NaN</td>\n",
       "    </tr>\n",
       "    <tr>\n",
       "      <th>4</th>\n",
       "      <td>NaN</td>\n",
       "      <td>NaN</td>\n",
       "    </tr>\n",
       "    <tr>\n",
       "      <th>5</th>\n",
       "      <td>data engineer</td>\n",
       "      <td>NaN</td>\n",
       "    </tr>\n",
       "  </tbody>\n",
       "</table>\n",
       "</div>"
      ],
      "text/plain": [
       "                      0                   1\n",
       "1                   NaN  системный аналитик\n",
       "2                   NaN         ml-инженеры\n",
       "3  middle дата аналитик                 NaN\n",
       "4                   NaN                 NaN\n",
       "5         data engineer                 NaN"
      ]
     },
     "execution_count": 128,
     "metadata": {},
     "output_type": "execute_result"
    }
   ],
   "source": [
    "df_job_2 = df[\"job\"].str.extract(\n",
    "    r'(?:\")([^\"]+)(?:\")|(?:\\*)([^*]+)(?:\\*)',\n",
    "    flags=re.I).apply(lambda job: job.str.lower())\n",
    "df_job_2.head()"
   ]
  },
  {
   "cell_type": "markdown",
   "metadata": {},
   "source": [
    "Необходимо объеденить выявленные должности. Приоритет: сначало дополняем 1 столбец недостающими значениями из 2, затем из 3 и т.д."
   ]
  },
  {
   "cell_type": "code",
   "execution_count": 129,
   "metadata": {},
   "outputs": [
    {
     "data": {
      "text/plain": [
       "job    381\n",
       "0      342\n",
       "1      405\n",
       "dtype: int64"
      ]
     },
     "execution_count": 129,
     "metadata": {},
     "output_type": "execute_result"
    }
   ],
   "source": [
    "temp_df_job = pd.merge(df_job_1,df_job_2, left_index=True, right_index=True)\n",
    "temp_df_job.isnull().sum()"
   ]
  },
  {
   "cell_type": "markdown",
   "metadata": {},
   "source": [
    "Сводим все выявленные названия должностей в один столбец"
   ]
  },
  {
   "cell_type": "code",
   "execution_count": 130,
   "metadata": {},
   "outputs": [
    {
     "data": {
      "text/plain": [
       "50"
      ]
     },
     "execution_count": 130,
     "metadata": {},
     "output_type": "execute_result"
    }
   ],
   "source": [
    "temp_df_job['job'] = temp_df_job.apply(\n",
    "    lambda row: row[0] if pd.isnull(row['job']) else row['job'],\n",
    "    axis=1\n",
    ")\n",
    "temp_df_job['job'] = temp_df_job.apply(\n",
    "    lambda row: row[1] if pd.isnull(row['job']) else row['job'],\n",
    "    axis=1\n",
    ")\n",
    "temp_df_job.head(),\n",
    "temp_df_job.job.isnull().sum()"
   ]
  },
  {
   "cell_type": "markdown",
   "metadata": {},
   "source": [
    "Осталось извлечь название должностей из оставшихся вакансий (50 вакансии).  \n",
    "Проведем анализ название оставшихся вакансий для создания очередной регулярки"
   ]
  },
  {
   "cell_type": "code",
   "execution_count": 131,
   "metadata": {},
   "outputs": [
    {
     "data": {
      "text/plain": [
       "4                                     Системный аналитик\n",
       "15                          Ведущий аналитик-разработчик\n",
       "22                        Позиция: ML + Java разработчик\n",
       "47      Должность: Руководитель направления по исслед...\n",
       "53                                  Вакансия: ML инженер\n",
       "77      Позиция: Руководитель группы продуктовой и ма...\n",
       "78      Позиция: Руководитель группы продуктовой и ма...\n",
       "95                                Ведущий разработчик 1С\n",
       "97                 Вакансия: SQL - аналитик (PostgreSQL)\n",
       "99                 Вакансия: SQL - аналитик (PostgreSQL)\n",
       "120     Название вакансии: Junior или Middle PHP разр...\n",
       "148     Название вакансии: Вакансия для начинающих Da...\n",
       "150                         Вакансия: Системный аналитик\n",
       "183     Должность: Руководитель направления по исслед...\n",
       "188                               Вакансия: Web-аналитик\n",
       "203             Должность: Руководитель продуктового P&L\n",
       "226                      Должность: Продуктовый аналитик\n",
       "242     Должность в данной вакансии: Руководитель про...\n",
       "250                             Должность: Дата аналитик\n",
       "260                             Позиция: Бизнес-аналитик\n",
       "289             Позиция: 🔥 Продуктовый Аналитик, Middle+\n",
       "294                    Название вакансии: Разработчик BI\n",
       "318                           Позиция: Аналитик Power BI\n",
       "357     Позиция в данной вакансии: Junior/Junior+ исс...\n",
       "376                             Должность: Дата аналитик\n",
       "391              Название вакансии: BI Аналитик (Senior)\n",
       "395                   Должность: Ведущий аналитик данных\n",
       "396                   Должность: Ведущий аналитик данных\n",
       "410     Название вакансии: Middle Computer Vision Res...\n",
       "435                                    Middle Researcher\n",
       "443                      Позиция: Стажер NLP (4 позиции)\n",
       "449          Позиция: Руководитель проектов Data Science\n",
       "472                               Вакансия: Web аналитик\n",
       "481     Вакансия: QA Engineer (Machine Learning, Vide...\n",
       "508                      Позиция: Маркетинговый аналитик\n",
       "522                            Вакансия: Аналитик данных\n",
       "553                               Вакансия: Аналитик DWH\n",
       "578                               Middle Product Analyst\n",
       "582     В данной вакансии упоминаются специалисты по ...\n",
       "591                         Вакансия: Системный аналитик\n",
       "598                                           ML инженер\n",
       "645               Позиция: Продуктовый Аналитик, Middle+\n",
       "654      Позиция: Junior/Junior+/Middle CV исследователь\n",
       "655             Позиция: Разработчик NLP (Middle/Senior)\n",
       "677                      Позиция: Аналитик BI DWH Middle\n",
       "685                                   Senior DL Engineer\n",
       "691            Название вакансии: Дата аналитик (Senior)\n",
       "715                          Стажер продуктовый аналитик\n",
       "733                           Должность: Product Analyst\n",
       "742                Название вакансии: Системный аналитик\n",
       "Name: job, dtype: object"
      ]
     },
     "execution_count": 131,
     "metadata": {},
     "output_type": "execute_result"
    }
   ],
   "source": [
    "df.job[temp_df_job.job.isnull()]"
   ]
  },
  {
   "cell_type": "markdown",
   "metadata": {},
   "source": [
    "Создаем третью регулярку по извлечению названия должности из вакансии, так же есть уже отчищенные значения "
   ]
  },
  {
   "cell_type": "code",
   "execution_count": 132,
   "metadata": {},
   "outputs": [
    {
     "data": {
      "text/html": [
       "<div>\n",
       "<style scoped>\n",
       "    .dataframe tbody tr th:only-of-type {\n",
       "        vertical-align: middle;\n",
       "    }\n",
       "\n",
       "    .dataframe tbody tr th {\n",
       "        vertical-align: top;\n",
       "    }\n",
       "\n",
       "    .dataframe thead th {\n",
       "        text-align: right;\n",
       "    }\n",
       "</style>\n",
       "<table border=\"1\" class=\"dataframe\">\n",
       "  <thead>\n",
       "    <tr style=\"text-align: right;\">\n",
       "      <th></th>\n",
       "      <th>0</th>\n",
       "    </tr>\n",
       "  </thead>\n",
       "  <tbody>\n",
       "    <tr>\n",
       "      <th>4</th>\n",
       "      <td>NaN</td>\n",
       "    </tr>\n",
       "    <tr>\n",
       "      <th>15</th>\n",
       "      <td>NaN</td>\n",
       "    </tr>\n",
       "    <tr>\n",
       "      <th>22</th>\n",
       "      <td>ml + java разработчик</td>\n",
       "    </tr>\n",
       "    <tr>\n",
       "      <th>47</th>\n",
       "      <td>руководитель направления по исследованию данных</td>\n",
       "    </tr>\n",
       "    <tr>\n",
       "      <th>53</th>\n",
       "      <td>ml инженер</td>\n",
       "    </tr>\n",
       "  </tbody>\n",
       "</table>\n",
       "</div>"
      ],
      "text/plain": [
       "                                                   0\n",
       "4                                                NaN\n",
       "15                                               NaN\n",
       "22                             ml + java разработчик\n",
       "47   руководитель направления по исследованию данных\n",
       "53                                        ml инженер"
      ]
     },
     "execution_count": 132,
     "metadata": {},
     "output_type": "execute_result"
    }
   ],
   "source": [
    "df_job_3 = df.job[temp_df_job.job.isnull()].str.extract(\n",
    "    r'(?::)([^:]+)(?:$)',\n",
    "    flags=re.I).apply(lambda job: job.str.lower())\n",
    "df_job_3.head()"
   ]
  },
  {
   "cell_type": "code",
   "execution_count": 133,
   "metadata": {},
   "outputs": [
    {
     "data": {
      "text/plain": [
       "1    системный аналитик\n",
       "2        Data Scientist\n",
       "3          Data Analyst\n",
       "4                   NaN\n",
       "5         Data Engineer\n",
       "Name: job, dtype: object"
      ]
     },
     "execution_count": 133,
     "metadata": {},
     "output_type": "execute_result"
    }
   ],
   "source": [
    "temp_df_job= pd.merge(temp_df_job,df_job_3, left_index=True, right_index=True, how=\"left\")\n",
    "temp_df_job['job'] = temp_df_job.apply(\n",
    "    lambda row: row[\"0_y\"] if pd.isnull(row['job']) else row['job'],\n",
    "    axis=1\n",
    ")\n",
    "temp_df_job.job.head()"
   ]
  },
  {
   "cell_type": "code",
   "execution_count": 134,
   "metadata": {},
   "outputs": [
    {
     "data": {
      "text/html": [
       "<div>\n",
       "<style scoped>\n",
       "    .dataframe tbody tr th:only-of-type {\n",
       "        vertical-align: middle;\n",
       "    }\n",
       "\n",
       "    .dataframe tbody tr th {\n",
       "        vertical-align: top;\n",
       "    }\n",
       "\n",
       "    .dataframe thead th {\n",
       "        text-align: right;\n",
       "    }\n",
       "</style>\n",
       "<table border=\"1\" class=\"dataframe\">\n",
       "  <thead>\n",
       "    <tr style=\"text-align: right;\">\n",
       "      <th></th>\n",
       "      <th>0</th>\n",
       "    </tr>\n",
       "  </thead>\n",
       "  <tbody>\n",
       "    <tr>\n",
       "      <th>4</th>\n",
       "      <td>системный аналитик</td>\n",
       "    </tr>\n",
       "    <tr>\n",
       "      <th>15</th>\n",
       "      <td>ведущий аналитик</td>\n",
       "    </tr>\n",
       "    <tr>\n",
       "      <th>95</th>\n",
       "      <td>ведущий разработчик 1с</td>\n",
       "    </tr>\n",
       "    <tr>\n",
       "      <th>435</th>\n",
       "      <td>middle researcher</td>\n",
       "    </tr>\n",
       "    <tr>\n",
       "      <th>578</th>\n",
       "      <td>middle product analyst</td>\n",
       "    </tr>\n",
       "    <tr>\n",
       "      <th>598</th>\n",
       "      <td>ml инженер</td>\n",
       "    </tr>\n",
       "    <tr>\n",
       "      <th>685</th>\n",
       "      <td>senior dl engineer</td>\n",
       "    </tr>\n",
       "    <tr>\n",
       "      <th>715</th>\n",
       "      <td>стажер продуктовый аналитик</td>\n",
       "    </tr>\n",
       "  </tbody>\n",
       "</table>\n",
       "</div>"
      ],
      "text/plain": [
       "                                0\n",
       "4              системный аналитик\n",
       "15               ведущий аналитик\n",
       "95         ведущий разработчик 1с\n",
       "435             middle researcher\n",
       "578        middle product analyst\n",
       "598                    ml инженер\n",
       "685            senior dl engineer\n",
       "715   стажер продуктовый аналитик"
      ]
     },
     "execution_count": 134,
     "metadata": {},
     "output_type": "execute_result"
    }
   ],
   "source": [
    "df_job_4 = df.job[temp_df_job.job.isnull()].str.extract(\n",
    "    r'([\\w\\s]+)',\n",
    "    flags=re.I).apply(lambda job: job.str.lower())\n",
    "df_job_4.head(10)"
   ]
  },
  {
   "cell_type": "markdown",
   "metadata": {},
   "source": [
    "Сводим все колонки с выявленными должностями в одну"
   ]
  },
  {
   "cell_type": "code",
   "execution_count": 136,
   "metadata": {},
   "outputs": [
    {
     "data": {
      "text/html": [
       "<div>\n",
       "<style scoped>\n",
       "    .dataframe tbody tr th:only-of-type {\n",
       "        vertical-align: middle;\n",
       "    }\n",
       "\n",
       "    .dataframe tbody tr th {\n",
       "        vertical-align: top;\n",
       "    }\n",
       "\n",
       "    .dataframe thead th {\n",
       "        text-align: right;\n",
       "    }\n",
       "</style>\n",
       "<table border=\"1\" class=\"dataframe\">\n",
       "  <thead>\n",
       "    <tr style=\"text-align: right;\">\n",
       "      <th></th>\n",
       "      <th>job</th>\n",
       "      <th>0_x</th>\n",
       "      <th>1</th>\n",
       "      <th>0_y</th>\n",
       "      <th>0</th>\n",
       "    </tr>\n",
       "  </thead>\n",
       "  <tbody>\n",
       "    <tr>\n",
       "      <th>1</th>\n",
       "      <td>системный аналитик</td>\n",
       "      <td>NaN</td>\n",
       "      <td>системный аналитик</td>\n",
       "      <td>NaN</td>\n",
       "      <td>NaN</td>\n",
       "    </tr>\n",
       "    <tr>\n",
       "      <th>2</th>\n",
       "      <td>Data Scientist</td>\n",
       "      <td>NaN</td>\n",
       "      <td>ml-инженеры</td>\n",
       "      <td>NaN</td>\n",
       "      <td>NaN</td>\n",
       "    </tr>\n",
       "    <tr>\n",
       "      <th>3</th>\n",
       "      <td>Data Analyst</td>\n",
       "      <td>middle дата аналитик</td>\n",
       "      <td>NaN</td>\n",
       "      <td>NaN</td>\n",
       "      <td>NaN</td>\n",
       "    </tr>\n",
       "    <tr>\n",
       "      <th>4</th>\n",
       "      <td>NaN</td>\n",
       "      <td>NaN</td>\n",
       "      <td>NaN</td>\n",
       "      <td>NaN</td>\n",
       "      <td>системный аналитик</td>\n",
       "    </tr>\n",
       "    <tr>\n",
       "      <th>5</th>\n",
       "      <td>Data Engineer</td>\n",
       "      <td>data engineer</td>\n",
       "      <td>NaN</td>\n",
       "      <td>NaN</td>\n",
       "      <td>NaN</td>\n",
       "    </tr>\n",
       "    <tr>\n",
       "      <th>...</th>\n",
       "      <td>...</td>\n",
       "      <td>...</td>\n",
       "      <td>...</td>\n",
       "      <td>...</td>\n",
       "      <td>...</td>\n",
       "    </tr>\n",
       "    <tr>\n",
       "      <th>777</th>\n",
       "      <td>аналитик dwh (senior)</td>\n",
       "      <td>аналитик dwh (senior)</td>\n",
       "      <td>NaN</td>\n",
       "      <td>NaN</td>\n",
       "      <td>NaN</td>\n",
       "    </tr>\n",
       "    <tr>\n",
       "      <th>779</th>\n",
       "      <td>Data Engineer</td>\n",
       "      <td>NaN</td>\n",
       "      <td>позиция</td>\n",
       "      <td>NaN</td>\n",
       "      <td>NaN</td>\n",
       "    </tr>\n",
       "    <tr>\n",
       "      <th>780</th>\n",
       "      <td>аналитик цифрового маркетинга / digital market...</td>\n",
       "      <td>NaN</td>\n",
       "      <td>аналитик цифрового маркетинга / digital market...</td>\n",
       "      <td>NaN</td>\n",
       "      <td>NaN</td>\n",
       "    </tr>\n",
       "    <tr>\n",
       "      <th>781</th>\n",
       "      <td>продуктовый аналитик</td>\n",
       "      <td>продуктовый аналитик</td>\n",
       "      <td>NaN</td>\n",
       "      <td>NaN</td>\n",
       "      <td>NaN</td>\n",
       "    </tr>\n",
       "    <tr>\n",
       "      <th>782</th>\n",
       "      <td>Data Engineer</td>\n",
       "      <td>NaN</td>\n",
       "      <td>NaN</td>\n",
       "      <td>NaN</td>\n",
       "      <td>NaN</td>\n",
       "    </tr>\n",
       "  </tbody>\n",
       "</table>\n",
       "<p>674 rows × 5 columns</p>\n",
       "</div>"
      ],
      "text/plain": [
       "                                                   job                    0_x  \\\n",
       "1                                   системный аналитик                    NaN   \n",
       "2                                       Data Scientist                    NaN   \n",
       "3                                         Data Analyst   middle дата аналитик   \n",
       "4                                                  NaN                    NaN   \n",
       "5                                        Data Engineer          data engineer   \n",
       "..                                                 ...                    ...   \n",
       "777                              аналитик dwh (senior)  аналитик dwh (senior)   \n",
       "779                                      Data Engineer                    NaN   \n",
       "780  аналитик цифрового маркетинга / digital market...                    NaN   \n",
       "781                               продуктовый аналитик   продуктовый аналитик   \n",
       "782                                      Data Engineer                    NaN   \n",
       "\n",
       "                                                     1  0_y  \\\n",
       "1                                   системный аналитик  NaN   \n",
       "2                                          ml-инженеры  NaN   \n",
       "3                                                  NaN  NaN   \n",
       "4                                                  NaN  NaN   \n",
       "5                                                  NaN  NaN   \n",
       "..                                                 ...  ...   \n",
       "777                                                NaN  NaN   \n",
       "779                                            позиция  NaN   \n",
       "780  аналитик цифрового маркетинга / digital market...  NaN   \n",
       "781                                                NaN  NaN   \n",
       "782                                                NaN  NaN   \n",
       "\n",
       "                       0  \n",
       "1                    NaN  \n",
       "2                    NaN  \n",
       "3                    NaN  \n",
       "4     системный аналитик  \n",
       "5                    NaN  \n",
       "..                   ...  \n",
       "777                  NaN  \n",
       "779                  NaN  \n",
       "780                  NaN  \n",
       "781                  NaN  \n",
       "782                  NaN  \n",
       "\n",
       "[674 rows x 5 columns]"
      ]
     },
     "execution_count": 136,
     "metadata": {},
     "output_type": "execute_result"
    }
   ],
   "source": [
    "temp_df_job= pd.merge(temp_df_job,df_job_4, left_index=True, right_index=True, how=\"left\")\n",
    "temp_df_job"
   ]
  },
  {
   "cell_type": "markdown",
   "metadata": {},
   "source": [
    "Проверяем, что все вакансии имеют название предлагаемой работы/должности"
   ]
  },
  {
   "cell_type": "code",
   "execution_count": 137,
   "metadata": {},
   "outputs": [
    {
     "data": {
      "text/plain": [
       "0"
      ]
     },
     "execution_count": 137,
     "metadata": {},
     "output_type": "execute_result"
    }
   ],
   "source": [
    "temp_df_job['job'] = temp_df_job.apply(\n",
    "    lambda row: row[0] if pd.isnull(row['job']) else row['job'],\n",
    "    axis=1\n",
    ")\n",
    "temp_df_job.job.isnull().sum()"
   ]
  },
  {
   "cell_type": "markdown",
   "metadata": {},
   "source": [
    "Надо применить чистку вакансий для дальнейшей их группировки"
   ]
  },
  {
   "cell_type": "code",
   "execution_count": 138,
   "metadata": {},
   "outputs": [
    {
     "data": {
      "text/html": [
       "<div>\n",
       "<style scoped>\n",
       "    .dataframe tbody tr th:only-of-type {\n",
       "        vertical-align: middle;\n",
       "    }\n",
       "\n",
       "    .dataframe tbody tr th {\n",
       "        vertical-align: top;\n",
       "    }\n",
       "\n",
       "    .dataframe thead th {\n",
       "        text-align: right;\n",
       "    }\n",
       "</style>\n",
       "<table border=\"1\" class=\"dataframe\">\n",
       "  <thead>\n",
       "    <tr style=\"text-align: right;\">\n",
       "      <th></th>\n",
       "      <th>location</th>\n",
       "      <th>location_2</th>\n",
       "      <th>type_schedule</th>\n",
       "      <th>shedul</th>\n",
       "      <th>type_busy</th>\n",
       "      <th>format_job</th>\n",
       "      <th>skills</th>\n",
       "      <th>experience</th>\n",
       "      <th>salary</th>\n",
       "      <th>salary_min</th>\n",
       "      <th>salary_max</th>\n",
       "      <th>salary_mean</th>\n",
       "      <th>descr_vac</th>\n",
       "      <th>job</th>\n",
       "    </tr>\n",
       "  </thead>\n",
       "  <tbody>\n",
       "    <tr>\n",
       "      <th>1</th>\n",
       "      <td>The job vacancy does not specify a particular...</td>\n",
       "      <td>В данном тексте вакансии указано, что формат ...</td>\n",
       "      <td>В данной вакансии указано, что формат работы ...</td>\n",
       "      <td>В данном тексте вакансии на русском языке ука...</td>\n",
       "      <td>В данной вакансии указано, что формат работы ...</td>\n",
       "      <td>Based on the job listing text in Russian, the...</td>\n",
       "      <td>Based on the provided job posting in Russian,...</td>\n",
       "      <td>В данном объявлении о вакансии требуется комм...</td>\n",
       "      <td>В тексте вакансии указано, что предлагаемая з...</td>\n",
       "      <td>160000.0</td>\n",
       "      <td>0.0</td>\n",
       "      <td>80000.0</td>\n",
       "      <td>#вакансия #удаленка #middle+ #са #системныйана...</td>\n",
       "      <td>системный аналитик</td>\n",
       "    </tr>\n",
       "    <tr>\n",
       "      <th>2</th>\n",
       "      <td>Based on the job vacancy description provided...</td>\n",
       "      <td>В данном объявлении о вакансии место работы у...</td>\n",
       "      <td>The job posting in Russian indicates that the...</td>\n",
       "      <td>В объявлении о вакансии указано следующее рас...</td>\n",
       "      <td>В данном объявлении указаны два формата работ...</td>\n",
       "      <td>The job listing text is for a remote work for...</td>\n",
       "      <td>Based on the provided job posting in Russian,...</td>\n",
       "      <td>В данной вакансии указано, что требуемый опыт...</td>\n",
       "      <td>The offered salary in the job posting text is...</td>\n",
       "      <td>150000.0</td>\n",
       "      <td>230000.0</td>\n",
       "      <td>190000.0</td>\n",
       "      <td>#вакансия #middle #remote **Требуются ML-инжен...</td>\n",
       "      <td>Data Scientist</td>\n",
       "    </tr>\n",
       "    <tr>\n",
       "      <th>3</th>\n",
       "      <td>The job vacancy mentions \"Локация: Россия,\" w...</td>\n",
       "      <td>Локация, указанная в данной вакансии, находит...</td>\n",
       "      <td>В данном объявлении о вакансии не указан конк...</td>\n",
       "      <td>В данном объявлении о вакансии не указан конк...</td>\n",
       "      <td>На основании предоставленной информации, в да...</td>\n",
       "      <td>На основании текста вакансии, можно сделать в...</td>\n",
       "      <td>Основные требуемые навыки для вакансии Middle...</td>\n",
       "      <td>В данной вакансии не указан конкретный требуе...</td>\n",
       "      <td>В данном объявлении о вакансии предлагаемая з...</td>\n",
       "      <td>240000.0</td>\n",
       "      <td>270000.0</td>\n",
       "      <td>255000.0</td>\n",
       "      <td>#вакансия #аналитикданных #SQL #AB #статистика...</td>\n",
       "      <td>Data Analyst</td>\n",
       "    </tr>\n",
       "    <tr>\n",
       "      <th>4</th>\n",
       "      <td>The job vacancy specifies the region as \"Крас...</td>\n",
       "      <td>Город работы указан как \"Краснодар\".</td>\n",
       "      <td>В job posting указано \"Занятость: полный день...</td>\n",
       "      <td>В данном объявлении о вакансии указано, что г...</td>\n",
       "      <td>В указанном вами объявлении о вакансии на рус...</td>\n",
       "      <td>Формат работы: офис\\удаленка (гибридный)</td>\n",
       "      <td>На основе предоставленного текста, необходимы...</td>\n",
       "      <td>В тексте вакансии не указан конкретный опыт р...</td>\n",
       "      <td>В данном объявлении о вакансии указана следую...</td>\n",
       "      <td>150000.0</td>\n",
       "      <td>200000.0</td>\n",
       "      <td>175000.0</td>\n",
       "      <td>#вакансия #Системныйаналитик #Бизнес_аналитик ...</td>\n",
       "      <td>системный аналитик</td>\n",
       "    </tr>\n",
       "    <tr>\n",
       "      <th>5</th>\n",
       "      <td>The job vacancy you provided does not explici...</td>\n",
       "      <td>В данном объявлении о вакансии место работы у...</td>\n",
       "      <td>The job posting indicates a \"Full-time\" work ...</td>\n",
       "      <td>В данной вакансии указано следующее расписани...</td>\n",
       "      <td>На основании предоставленного текста job list...</td>\n",
       "      <td>The job listing text in Russian matches the *...</td>\n",
       "      <td>Основные требования к кандидату: - Уверенное ...</td>\n",
       "      <td>В данном объявлении о вакансии требуется след...</td>\n",
       "      <td>В данном объявлении о вакансии предлагается з...</td>\n",
       "      <td>250000.0</td>\n",
       "      <td>0.0</td>\n",
       "      <td>125000.0</td>\n",
       "      <td>#вакансия #инженер #engineer #DataEngineer #mi...</td>\n",
       "      <td>Data Engineer</td>\n",
       "    </tr>\n",
       "  </tbody>\n",
       "</table>\n",
       "</div>"
      ],
      "text/plain": [
       "                                            location  \\\n",
       "1   The job vacancy does not specify a particular...   \n",
       "2   Based on the job vacancy description provided...   \n",
       "3   The job vacancy mentions \"Локация: Россия,\" w...   \n",
       "4   The job vacancy specifies the region as \"Крас...   \n",
       "5   The job vacancy you provided does not explici...   \n",
       "\n",
       "                                          location_2  \\\n",
       "1   В данном тексте вакансии указано, что формат ...   \n",
       "2   В данном объявлении о вакансии место работы у...   \n",
       "3   Локация, указанная в данной вакансии, находит...   \n",
       "4               Город работы указан как \"Краснодар\".   \n",
       "5   В данном объявлении о вакансии место работы у...   \n",
       "\n",
       "                                       type_schedule  \\\n",
       "1   В данной вакансии указано, что формат работы ...   \n",
       "2   The job posting in Russian indicates that the...   \n",
       "3   В данном объявлении о вакансии не указан конк...   \n",
       "4   В job posting указано \"Занятость: полный день...   \n",
       "5   The job posting indicates a \"Full-time\" work ...   \n",
       "\n",
       "                                              shedul  \\\n",
       "1   В данном тексте вакансии на русском языке ука...   \n",
       "2   В объявлении о вакансии указано следующее рас...   \n",
       "3   В данном объявлении о вакансии не указан конк...   \n",
       "4   В данном объявлении о вакансии указано, что г...   \n",
       "5   В данной вакансии указано следующее расписани...   \n",
       "\n",
       "                                           type_busy  \\\n",
       "1   В данной вакансии указано, что формат работы ...   \n",
       "2   В данном объявлении указаны два формата работ...   \n",
       "3   На основании предоставленной информации, в да...   \n",
       "4   В указанном вами объявлении о вакансии на рус...   \n",
       "5   На основании предоставленного текста job list...   \n",
       "\n",
       "                                          format_job  \\\n",
       "1   Based on the job listing text in Russian, the...   \n",
       "2   The job listing text is for a remote work for...   \n",
       "3   На основании текста вакансии, можно сделать в...   \n",
       "4           Формат работы: офис\\удаленка (гибридный)   \n",
       "5   The job listing text in Russian matches the *...   \n",
       "\n",
       "                                              skills  \\\n",
       "1   Based on the provided job posting in Russian,...   \n",
       "2   Based on the provided job posting in Russian,...   \n",
       "3   Основные требуемые навыки для вакансии Middle...   \n",
       "4   На основе предоставленного текста, необходимы...   \n",
       "5   Основные требования к кандидату: - Уверенное ...   \n",
       "\n",
       "                                          experience  \\\n",
       "1   В данном объявлении о вакансии требуется комм...   \n",
       "2   В данной вакансии указано, что требуемый опыт...   \n",
       "3   В данной вакансии не указан конкретный требуе...   \n",
       "4   В тексте вакансии не указан конкретный опыт р...   \n",
       "5   В данном объявлении о вакансии требуется след...   \n",
       "\n",
       "                                              salary  salary_min  salary_max  \\\n",
       "1   В тексте вакансии указано, что предлагаемая з...    160000.0         0.0   \n",
       "2   The offered salary in the job posting text is...    150000.0    230000.0   \n",
       "3   В данном объявлении о вакансии предлагаемая з...    240000.0    270000.0   \n",
       "4   В данном объявлении о вакансии указана следую...    150000.0    200000.0   \n",
       "5   В данном объявлении о вакансии предлагается з...    250000.0         0.0   \n",
       "\n",
       "   salary_mean                                          descr_vac  \\\n",
       "1      80000.0  #вакансия #удаленка #middle+ #са #системныйана...   \n",
       "2     190000.0  #вакансия #middle #remote **Требуются ML-инжен...   \n",
       "3     255000.0  #вакансия #аналитикданных #SQL #AB #статистика...   \n",
       "4     175000.0  #вакансия #Системныйаналитик #Бизнес_аналитик ...   \n",
       "5     125000.0  #вакансия #инженер #engineer #DataEngineer #mi...   \n",
       "\n",
       "                   job  \n",
       "1   системный аналитик  \n",
       "2       Data Scientist  \n",
       "3         Data Analyst  \n",
       "4   системный аналитик  \n",
       "5        Data Engineer  "
      ]
     },
     "execution_count": 138,
     "metadata": {},
     "output_type": "execute_result"
    }
   ],
   "source": [
    "df_new= pd.merge(df[[\"location\",\"location_2\",\"type_schedule\",\"shedul\",\"type_busy\",\"format_job\", \"skills\",\"experience\",\"salary\",\"salary_min\",\"salary_max\",\"salary_mean\",\"descr_vac\"]],\n",
    "                  temp_df_job[['job']],\n",
    "                  left_index=True, right_index=True, how=\"left\")\n",
    "df_new.head()"
   ]
  },
  {
   "cell_type": "code",
   "execution_count": 139,
   "metadata": {},
   "outputs": [
    {
     "data": {
      "text/plain": [
       "(array(['системный аналитик', 'Data Scientist', 'Data Analyst',\n",
       "        ' системный аналитик', 'Data Engineer',\n",
       "        'cv / ml / dl инженер (стажер / джун)', 'ML Engineer',\n",
       "        'преподаватель онлайн-курса reinforcement learning.', 'BI Analyst',\n",
       "        'Machine Learning Engineer', 'Data Engineer;Data Architect',\n",
       "        ' ведущий аналитик',\n",
       "        'преподаватель онлайн-курса [reinforcement learning](https://otus.ru/lessons/reinforcement-learning-cours/)',\n",
       "        'NLP engineer', 'ML engineer', '\"системный аналитик\"',\n",
       "        'преподаватель онлайн-курсов', ' ml + java разработчик',\n",
       "        'разработчик greenplum', 'techlead/cto', 'Deep Learning Engineer',\n",
       "        'python-разработчик (computer vision)', 'bi-аналитик',\n",
       "        'системный аналитик/system analyst middle+',\n",
       "        '\"системный аналитик/system analyst middle+\"',\n",
       "        'ml-инженер/разработчик', 'Lead Data Engineer',\n",
       "        'преподаватель онлайн-курса «clickhouse для инженеров и архитекторов бд»',\n",
       "        'аналитик данных (middle)', '\"аналитик данных\" (middle)',\n",
       "        ' руководитель направления по исследованию данных',\n",
       "        '\"data science-специалист\"', 'аналитик данных', ' ml инженер',\n",
       "        'маркетолог', 'системный / дата аналитик middle',\n",
       "        'ai product manager.',\n",
       "        'преподаватель онлайн-курса: data warehouse analyst',\n",
       "        'аналитик продукта (каталог и промо)',\n",
       "        'Data Scientist;Data analyst', 'Computer Vision Engineer',\n",
       "        'middle/senior ml-разработчик (с перспективой роста до cto)',\n",
       "        'преподаватель онлайн-курса', 'senior database administrator',\n",
       "        ' руководитель группы продуктовой и маркетинговой аналитики',\n",
       "        'инженер данных', 'data science', 'middle/senior mlops',\n",
       "        'бизнес аналитик', 'Data Analyst;Data Engineer',\n",
       "        ' ведущий разработчик 1с', '\"middle/senior devops.\"',\n",
       "        ' sql - аналитик (postgresql)', 'продуктовый аналитик',\n",
       "        'аккаунт менеджер', '\"ai/ml lead\"',\n",
       "        'middle/senior mlops, команда инфраструктуры ml', 'web-аналитик',\n",
       "        '\"golang-разработчик (middle, senior)\"', '\"business analyst\"',\n",
       "        'product analyst, сниппеты', ' junior или middle php разработчик',\n",
       "        'BI developer', '\"продуктовый аналитик-тестировщик\"',\n",
       "        '\"аналитик-математик\"', 'product analyst',\n",
       "        'devops инженеры, senior и middle', '🔥компания:', 'qa automation',\n",
       "        'разработка bi', 'BI Developer', 'middle product analyst',\n",
       "        'продуктовый аналитик m/s',\n",
       "        ' вакансия для начинающих data science.',\n",
       "        'frontend разработчик (javascript / react)',\n",
       "        'Product Data Analyst', 'Data engineer',\n",
       "        'cto/co-founder в ai проект.', 'data-аналитик/data-инженер',\n",
       "        'product analyst.', 'ведущий бизнес-аналитик', 'BI analyst',\n",
       "        'системный аналитик dwh', 'ml/ds lead', 'senior php разработчик',\n",
       "        'tts специалист',\n",
       "        'руководитель направления / управление корпоративных данных (data governance)',\n",
       "        'data full stack analyst.', ' web-аналитик',\n",
       "        'ведущий разработчик 1с erp', 'руководитель направления',\n",
       "        'ведущий администратор баз данных', 'middle devops engineer',\n",
       "        ' руководитель продуктового p&l', '\"разработчик mediawiki\"',\n",
       "        'продуктовый аналитик/ senior', '\"senior devops инженер\"',\n",
       "        'преподаватель онлайн-курса «искусственный интеллект в медицине»',\n",
       "        '**программист python/devops**', 'руководитель отдела аналитики',\n",
       "        'senior qa full stack (java)', 'data аналитика',\n",
       "        ' продуктовый аналитик', 'senior product analyst',\n",
       "        'Data Engineer;Data Analyst', 'Lead Data Analyst',\n",
       "        'преподаватели по курсу data analytics',\n",
       "        'devops engineer (middle/middle+)', '\"бизнес-аналитик\"',\n",
       "        'ETL Developer', 'разработчик etl',\n",
       "        ' руководитель продуктового p&l.', '\"ml инженер senior/team lead\"',\n",
       "        ' дата аналитик', 'ведущий аналитик', 'qa engineer.',\n",
       "        'администратор субд ms sql и/или postgresql', ' бизнес-аналитик',\n",
       "        'senior system analyst.',\n",
       "        '**бизнес-аналитик по внедрению искусственного интеллекта в сферу b2b, стартап**',\n",
       "        'аналитик системы мониторинга (middle)', '\"бизнес аналитик\"',\n",
       "        'middle product analyst.', 'старший менеджер по аналитике',\n",
       "        'middle php разработчик', 'ведущий java разработчик',\n",
       "        'middle-senior php laravel.', '\"программист 1с\"',\n",
       "        ' 🔥 продуктовый аналитик, middle+',\n",
       "        'бизнес-аналитик (продуктовый)', 'главный системный аналитик',\n",
       "        ' разработчик bi', 'devops.',\n",
       "        '\"senior full stack php-разработчик\"',\n",
       "        'продуктовый-бизнес аналитик',\n",
       "        'системный & бизнес-аналитик (middle+)',\n",
       "        'ml-специалист в проекте на базе ии',\n",
       "        '\"разработчик c++ с embedded background\"',\n",
       "        'tech lead/senior developer.',\n",
       "        '\"аналитик бизнес-процессов/системный аналитик.\"',\n",
       "        'product manager.', ' аналитик power bi',\n",
       "        'marketing product manager.', 'ML-engineer',\n",
       "        'пресейл бизнес-аналитик',\n",
       "        'продуктовый-бизнес аналитик / product analyst',\n",
       "        '\"аналитик данных\".', 'аналитик (data platform_bi)',\n",
       "        'оплачиваемой стажировке от втб по направлению аналитика',\n",
       "        'Data-Scientist', 'аналитик dwh',\n",
       "        'продуктовый аналитик мобильного приложения, специалист по настройке метрик,',\n",
       "        'продуктового аналитика', '\"продуктовый аналитик\"',\n",
       "        'junior+/middle cv исследователь', 'python/ml разработчик',\n",
       "        'аналитик dwh (senior)', '\"middle mle\"',\n",
       "        'middle/middle+ /senior java разработчики', 'dataops',\n",
       "        ' junior/junior+ исследователь', 'devops engineer',\n",
       "        '\"старший продуктовый аналитик\"',\n",
       "        'старший специалист сопровождения моделей машинного обучения mlops',\n",
       "        'системный аналитик bi', 'рнр', 'devops', 'devops инженер, middle',\n",
       "        'Data scientist', 'bi team lead.',\n",
       "        'преподаватели по курсу продуктовая аналитика',\n",
       "        '\"product analyst\"', 'ux-исследователь',\n",
       "        'преподаватель онлайн-курса mlops', 'системный аналитик middle+',\n",
       "        'node.js team lead-senior / tech lead.', 'Data analyst',\n",
       "        'аналитик 1с', 'стажер data science',\n",
       "        'data engineer;data scientist', ' bi аналитик (senior)',\n",
       "        'специалист data science (уровень junior)', 'позиция:',\n",
       "        ' ведущий аналитик данных', '\"ведущий аналитик данных\"',\n",
       "        'product/marketing analyst.',\n",
       "        '**middle+/ senior product analyst (b2c)**', 'AI Developer',\n",
       "        ' middle computer vision researcher',\n",
       "        'python developer (computer vision)', 'разработчик c /с++ (linux)',\n",
       "        '\"аналитик направления c&b\"', 'аналитик',\n",
       "        'аналитик данных/bi инженер', '\"senior product analyst / цум\"',\n",
       "        'стажировка ozon camp', 'middle+ dwh аналитик',\n",
       "        'преподаватель онлайн-курса «dwh на основе arenadata»',\n",
       "        '\"python software engineer - ml/llm (middle/senior).\"',\n",
       "        'риск-аналитика', 'middle computer vision researcher.',\n",
       "        ' middle researcher',\n",
       "        'ведущий аналитик ассортиментного планирования',\n",
       "        '\"devops-инженер\"', 'ml специалист', ' стажер nlp (4 позиции)',\n",
       "        'специалист по тестированию ml моделей',\n",
       "        'инженер-программист golang',\n",
       "        ' руководитель проектов data science',\n",
       "        'senior product analyst / цум', '\"fullstack-разработчик\"',\n",
       "        'риск-аналитик', 'системный/дата аналитик',\n",
       "        'Data scientist;ML Engineer', 'BI Data Analyst', '\"аналитик\"',\n",
       "        ' web аналитик', 'senior python dev + fastapi',\n",
       "        '\"ведущий аналитик клиентских данных\"', 'бизнес-аналитик',\n",
       "        'аналитик_bi', ' qa engineer (machine learning, video processing)',\n",
       "        '\"qa automation engineer (python)\"', 'junior analyst',\n",
       "        'аналитик данных (senior)', 'devops-инженер', 'data scientist',\n",
       "        'junior/junior+ исследователь', '\"аналитик данных\"',\n",
       "        'преподаватель по направлениям: продуктовая аналитика, tableau',\n",
       "        'старший веб-аналитик,', 'программист 1с',\n",
       "        '\"техлид генерации audio\"', ' маркетинговый аналитик',\n",
       "        'business / product analyst', '**product analytics lead**',\n",
       "        '**стажер по направлению deep learning**', ' аналитик данных',\n",
       "        'junior product manager (crm analyst)', 'техлид генерации audio',\n",
       "        '\"руководитель онлайн-курса \\'ml team lead\\'\"',\n",
       "        'преподаватель по направлению \"продуктовая аналитика\"',\n",
       "        'fullstack аналитик', '\"lead системный аналитик dwh\"',\n",
       "        'помощник исследователя в области al',\n",
       "        'преподаватель онлайн-курса ml для финансового анализа',\n",
       "        ' аналитик dwh', 'архитектор dwh',\n",
       "        'product/data-аналитик (middle)', 'Lead Machine Learning Engineer',\n",
       "        '\"младший аналитик-стажер\"', 'разработчик bi/bi аналитик',\n",
       "        'middle продуктовый аналитик (mobile, mentalhealth)🙂',\n",
       "        ' middle product analyst', 'middle+ php разработчик',\n",
       "        'junior bi аналитик',\n",
       "        '  1. специалист по компьютерному зрению (cv specialist) 2. специалист по данным/машинному обучению/искусственному интеллекту (ds/ml/ai specialist) 3. специалист по robot operating system (ros specialist)  таким образом, в вакансии ищут специалистов в этих областях для работы в стартапе по бпла (беспилотным летательным аппаратам).',\n",
       "        'data analytics.', 'data аналитик middle+, senior',\n",
       "        'data аналитик (middle/senior).',\n",
       "        'прикладной администратор mlops-инфраструктуры',\n",
       "        'руководитель проектов data science', 'senior ml/dl engineer',\n",
       "        'стажер продуктовый аналитик', 'ds-разработчик',\n",
       "        'backend-developer python (senior).', 'ml lead',\n",
       "        'Data Scientist;ML Engineer', 'middle mlops',\n",
       "        '\"инженер по данным\"', 'ML Engineer;Data Scientist',\n",
       "        ' продуктовый аналитик, middle+', '**data-инженер senior**',\n",
       "        'senior/middle+ devops-инженер',\n",
       "        ' junior/junior+/middle cv исследователь',\n",
       "        ' разработчик nlp (middle/senior)', 'аналитик/консультант',\n",
       "        'системный аналитик middle', 'data engineer', 'senior ml ops.',\n",
       "        'android разработчик', ' аналитик bi dwh middle', 'стажер (nlp)',\n",
       "        'системный/бизнес аналитик', 'Data Engineer;ML Engineer',\n",
       "        ' senior dl engineer', 'performance analyst.',\n",
       "        ' дата аналитик (senior)', 'стажер ds', 'middle qa(ml)',\n",
       "        'аналитик-разработчик', 'аналитик hr процессов',\n",
       "        '\"ведущий аналитик/руководитель группы dwh\"',\n",
       "        '\"аналитик в медиабаинговое агенство\"', 'дата-аналитик',\n",
       "        'prompt engineer', ' стажер продуктовый аналитик',\n",
       "        'system analyst', '\"qa automation\"', ' product analyst',\n",
       "        'bi аналитик', 'ai engineer / expert ai / ai model trainer',\n",
       "        '**ищем аналитика данных (data analytics & product analytics)**',\n",
       "        'NLP Engineer', 'front-end developer', '\"senior mlops\"',\n",
       "        'bi-аналитик/ аналитик хранилищ данных',\n",
       "        '\"системный аналитик dwh\"', 'senior devops engineer',\n",
       "        'аналитик bi/dwh', '\"аналитик bi\"', '\"flutter разработчик\"',\n",
       "        'продуктовый аналитик уровня middle',\n",
       "        'аналитик цифрового маркетинга / digital marketing analyst'],\n",
       "       dtype=object),\n",
       " 314)"
      ]
     },
     "execution_count": 139,
     "metadata": {},
     "output_type": "execute_result"
    }
   ],
   "source": [
    "df_new.job.unique(), df_new.job.nunique()"
   ]
  },
  {
   "cell_type": "markdown",
   "metadata": {},
   "source": [
    "Продолжаю \"чистить\" выявленные названия должностей в надежде их сгруппировать."
   ]
  },
  {
   "cell_type": "code",
   "execution_count": 140,
   "metadata": {},
   "outputs": [
    {
     "data": {
      "text/plain": [
       "300"
      ]
     },
     "execution_count": 140,
     "metadata": {},
     "output_type": "execute_result"
    }
   ],
   "source": [
    "df_new.job = df_new.job.str.lower()\n",
    "df_new.job = df_new.job.str.replace(\"(\\()[^()]+(\\))\", '', regex=True)\n",
    "df_new.job = df_new.job.str.replace(\"(\\,)[^()]+($)\", '', regex=True)\n",
    "df_new.job  = df_new.job.str.replace(\"(\\[)[^()]+(\\])\", '', regex=True)\n",
    "df_new.job.nunique()"
   ]
  },
  {
   "cell_type": "code",
   "execution_count": 141,
   "metadata": {},
   "outputs": [
    {
     "data": {
      "text/plain": [
       "array(['системный аналитик', 'data scientist', 'data analyst',\n",
       "       ' системный аналитик', 'data engineer', 'cv / ml / dl инженер ',\n",
       "       'ml engineer',\n",
       "       'преподаватель онлайн-курса reinforcement learning.', 'bi analyst',\n",
       "       'machine learning engineer', 'data engineer;data architect',\n",
       "       ' ведущий аналитик', 'преподаватель онлайн-курса ', 'nlp engineer',\n",
       "       '\"системный аналитик\"', 'преподаватель онлайн-курсов',\n",
       "       ' ml + java разработчик', 'разработчик greenplum', 'techlead/cto',\n",
       "       'deep learning engineer', 'python-разработчик ', 'bi-аналитик',\n",
       "       'системный аналитик/system analyst middle+',\n",
       "       '\"системный аналитик/system analyst middle+\"',\n",
       "       'ml-инженер/разработчик', 'lead data engineer',\n",
       "       'преподаватель онлайн-курса «clickhouse для инженеров и архитекторов бд»',\n",
       "       'аналитик данных ', '\"аналитик данных\" ',\n",
       "       ' руководитель направления по исследованию данных',\n",
       "       '\"data science-специалист\"', 'аналитик данных', ' ml инженер',\n",
       "       'маркетолог', 'системный / дата аналитик middle',\n",
       "       'ai product manager.',\n",
       "       'преподаватель онлайн-курса: data warehouse analyst',\n",
       "       'аналитик продукта ', 'data scientist;data analyst',\n",
       "       'computer vision engineer', 'middle/senior ml-разработчик ',\n",
       "       'преподаватель онлайн-курса', 'senior database administrator',\n",
       "       ' руководитель группы продуктовой и маркетинговой аналитики',\n",
       "       'инженер данных', 'data science', 'middle/senior mlops',\n",
       "       'бизнес аналитик', 'data analyst;data engineer',\n",
       "       ' ведущий разработчик 1с', '\"middle/senior devops.\"',\n",
       "       ' sql - аналитик ', 'продуктовый аналитик', 'аккаунт менеджер',\n",
       "       '\"ai/ml lead\"', 'web-аналитик', '\"golang-разработчик \"',\n",
       "       '\"business analyst\"', 'product analyst',\n",
       "       ' junior или middle php разработчик', 'bi developer',\n",
       "       '\"продуктовый аналитик-тестировщик\"', '\"аналитик-математик\"',\n",
       "       'devops инженеры', '🔥компания:', 'qa automation', 'разработка bi',\n",
       "       'middle product analyst', 'продуктовый аналитик m/s',\n",
       "       ' вакансия для начинающих data science.', 'frontend разработчик ',\n",
       "       'product data analyst', 'cto/co-founder в ai проект.',\n",
       "       'data-аналитик/data-инженер', 'product analyst.',\n",
       "       'ведущий бизнес-аналитик', 'системный аналитик dwh', 'ml/ds lead',\n",
       "       'senior php разработчик', 'tts специалист',\n",
       "       'руководитель направления / управление корпоративных данных ',\n",
       "       'data full stack analyst.', ' web-аналитик',\n",
       "       'ведущий разработчик 1с erp', 'руководитель направления',\n",
       "       'ведущий администратор баз данных', 'middle devops engineer',\n",
       "       ' руководитель продуктового p&l', '\"разработчик mediawiki\"',\n",
       "       'продуктовый аналитик/ senior', '\"senior devops инженер\"',\n",
       "       'преподаватель онлайн-курса «искусственный интеллект в медицине»',\n",
       "       '**программист python/devops**', 'руководитель отдела аналитики',\n",
       "       'senior qa full stack ', 'data аналитика', ' продуктовый аналитик',\n",
       "       'senior product analyst', 'data engineer;data analyst',\n",
       "       'lead data analyst', 'преподаватели по курсу data analytics',\n",
       "       'devops engineer ', '\"бизнес-аналитик\"', 'etl developer',\n",
       "       'разработчик etl', ' руководитель продуктового p&l.',\n",
       "       '\"ml инженер senior/team lead\"', ' дата аналитик',\n",
       "       'ведущий аналитик', 'qa engineer.',\n",
       "       'администратор субд ms sql и/или postgresql', ' бизнес-аналитик',\n",
       "       'senior system analyst.',\n",
       "       '**бизнес-аналитик по внедрению искусственного интеллекта в сферу b2b',\n",
       "       'аналитик системы мониторинга ', '\"бизнес аналитик\"',\n",
       "       'middle product analyst.', 'старший менеджер по аналитике',\n",
       "       'middle php разработчик', 'ведущий java разработчик',\n",
       "       'middle-senior php laravel.', '\"программист 1с\"',\n",
       "       ' 🔥 продуктовый аналитик', 'бизнес-аналитик ',\n",
       "       'главный системный аналитик', ' разработчик bi', 'devops.',\n",
       "       '\"senior full stack php-разработчик\"',\n",
       "       'продуктовый-бизнес аналитик', 'системный & бизнес-аналитик ',\n",
       "       'ml-специалист в проекте на базе ии',\n",
       "       '\"разработчик c++ с embedded background\"',\n",
       "       'tech lead/senior developer.',\n",
       "       '\"аналитик бизнес-процессов/системный аналитик.\"',\n",
       "       'product manager.', ' аналитик power bi',\n",
       "       'marketing product manager.', 'ml-engineer',\n",
       "       'пресейл бизнес-аналитик',\n",
       "       'продуктовый-бизнес аналитик / product analyst',\n",
       "       '\"аналитик данных\".', 'аналитик ',\n",
       "       'оплачиваемой стажировке от втб по направлению аналитика',\n",
       "       'data-scientist', 'аналитик dwh',\n",
       "       'продуктовый аналитик мобильного приложения',\n",
       "       'продуктового аналитика', '\"продуктовый аналитик\"',\n",
       "       'junior+/middle cv исследователь', 'python/ml разработчик',\n",
       "       'аналитик dwh ', '\"middle mle\"',\n",
       "       'middle/middle+ /senior java разработчики', 'dataops',\n",
       "       ' junior/junior+ исследователь', 'devops engineer',\n",
       "       '\"старший продуктовый аналитик\"',\n",
       "       'старший специалист сопровождения моделей машинного обучения mlops',\n",
       "       'системный аналитик bi', 'рнр', 'devops', 'devops инженер',\n",
       "       'bi team lead.', 'преподаватели по курсу продуктовая аналитика',\n",
       "       '\"product analyst\"', 'ux-исследователь',\n",
       "       'преподаватель онлайн-курса mlops', 'системный аналитик middle+',\n",
       "       'node.js team lead-senior / tech lead.', 'аналитик 1с',\n",
       "       'стажер data science', 'data engineer;data scientist',\n",
       "       ' bi аналитик ', 'специалист data science ', 'позиция:',\n",
       "       ' ведущий аналитик данных', '\"ведущий аналитик данных\"',\n",
       "       'product/marketing analyst.',\n",
       "       '**middle+/ senior product analyst **', 'ai developer',\n",
       "       ' middle computer vision researcher', 'python developer ',\n",
       "       'разработчик c /с++ ', '\"аналитик направления c&b\"', 'аналитик',\n",
       "       'аналитик данных/bi инженер', '\"senior product analyst / цум\"',\n",
       "       'стажировка ozon camp', 'middle+ dwh аналитик',\n",
       "       'преподаватель онлайн-курса «dwh на основе arenadata»',\n",
       "       '\"python software engineer - ml/llm .\"', 'риск-аналитика',\n",
       "       'middle computer vision researcher.', ' middle researcher',\n",
       "       'ведущий аналитик ассортиментного планирования',\n",
       "       '\"devops-инженер\"', 'ml специалист', ' стажер nlp ',\n",
       "       'специалист по тестированию ml моделей',\n",
       "       'инженер-программист golang',\n",
       "       ' руководитель проектов data science',\n",
       "       'senior product analyst / цум', '\"fullstack-разработчик\"',\n",
       "       'риск-аналитик', 'системный/дата аналитик',\n",
       "       'data scientist;ml engineer', 'bi data analyst', '\"аналитик\"',\n",
       "       ' web аналитик', 'senior python dev + fastapi',\n",
       "       '\"ведущий аналитик клиентских данных\"', 'бизнес-аналитик',\n",
       "       'аналитик_bi', ' qa engineer ', '\"qa automation engineer \"',\n",
       "       'junior analyst', 'devops-инженер', 'junior/junior+ исследователь',\n",
       "       '\"аналитик данных\"',\n",
       "       'преподаватель по направлениям: продуктовая аналитика',\n",
       "       'старший веб-аналитик,', 'программист 1с',\n",
       "       '\"техлид генерации audio\"', ' маркетинговый аналитик',\n",
       "       'business / product analyst', '**product analytics lead**',\n",
       "       '**стажер по направлению deep learning**', ' аналитик данных',\n",
       "       'junior product manager ', 'техлид генерации audio',\n",
       "       '\"руководитель онлайн-курса \\'ml team lead\\'\"',\n",
       "       'преподаватель по направлению \"продуктовая аналитика\"',\n",
       "       'fullstack аналитик', '\"lead системный аналитик dwh\"',\n",
       "       'помощник исследователя в области al',\n",
       "       'преподаватель онлайн-курса ml для финансового анализа',\n",
       "       ' аналитик dwh', 'архитектор dwh', 'product/data-аналитик ',\n",
       "       'lead machine learning engineer', '\"младший аналитик-стажер\"',\n",
       "       'разработчик bi/bi аналитик', 'middle продуктовый аналитик 🙂',\n",
       "       ' middle product analyst', 'middle+ php разработчик',\n",
       "       'junior bi аналитик',\n",
       "       '  1. специалист по компьютерному зрению  2. специалист по данным/машинному обучению/искусственному интеллекту  3. специалист по robot operating system   таким образом',\n",
       "       'data analytics.', 'data аналитик middle+', 'data аналитик .',\n",
       "       'прикладной администратор mlops-инфраструктуры',\n",
       "       'руководитель проектов data science', 'senior ml/dl engineer',\n",
       "       'стажер продуктовый аналитик', 'ds-разработчик',\n",
       "       'backend-developer python .', 'ml lead', 'middle mlops',\n",
       "       '\"инженер по данным\"', 'ml engineer;data scientist',\n",
       "       '**data-инженер senior**', 'senior/middle+ devops-инженер',\n",
       "       ' junior/junior+/middle cv исследователь', ' разработчик nlp ',\n",
       "       'аналитик/консультант', 'системный аналитик middle',\n",
       "       'senior ml ops.', 'android разработчик', ' аналитик bi dwh middle',\n",
       "       'стажер ', 'системный/бизнес аналитик',\n",
       "       'data engineer;ml engineer', ' senior dl engineer',\n",
       "       'performance analyst.', ' дата аналитик ', 'стажер ds',\n",
       "       'middle qa', 'аналитик-разработчик', 'аналитик hr процессов',\n",
       "       '\"ведущий аналитик/руководитель группы dwh\"',\n",
       "       '\"аналитик в медиабаинговое агенство\"', 'дата-аналитик',\n",
       "       'prompt engineer', ' стажер продуктовый аналитик',\n",
       "       'system analyst', '\"qa automation\"', ' product analyst',\n",
       "       'bi аналитик', 'ai engineer / expert ai / ai model trainer',\n",
       "       '**ищем аналитика данных **', 'front-end developer',\n",
       "       '\"senior mlops\"', 'bi-аналитик/ аналитик хранилищ данных',\n",
       "       '\"системный аналитик dwh\"', 'senior devops engineer',\n",
       "       'аналитик bi/dwh', '\"аналитик bi\"', '\"flutter разработчик\"',\n",
       "       'продуктовый аналитик уровня middle',\n",
       "       'аналитик цифрового маркетинга / digital marketing analyst'],\n",
       "      dtype=object)"
      ]
     },
     "execution_count": 141,
     "metadata": {},
     "output_type": "execute_result"
    }
   ],
   "source": [
    "df_new.job.unique()"
   ]
  },
  {
   "cell_type": "markdown",
   "metadata": {},
   "source": [
    "Определяем кваллификацию указанную в вакансиях:  \n",
    "- поиск по ключевым словам intern|Junior|Middle|Senior|Руководитель|Lead|Team Lead|Стажер|мидл|сеньор|джун  \n",
    "- поиск по годам: менее 2 лет - Junior, от 2 до 4 - Middle, от 5 и более - Senior"
   ]
  },
  {
   "cell_type": "code",
   "execution_count": 142,
   "metadata": {},
   "outputs": [
    {
     "data": {
      "text/plain": [
       "qual_1    568\n",
       "dtype: int64"
      ]
     },
     "execution_count": 142,
     "metadata": {},
     "output_type": "execute_result"
    }
   ],
   "source": [
    "df_qual_1 = df_new[\"job\"].str.extract(\n",
    "    r'(?P<qual_1>Стажер|мидл|сеньор|джун|intern|jr|Junior|Middle|Senior|Руководитель|Lead)',\n",
    "    flags=re.I, expand=True).apply(lambda ql: ql.str.lower().str.strip())\n",
    "df_qual_1.isnull().sum()"
   ]
  },
  {
   "cell_type": "code",
   "execution_count": 28,
   "metadata": {},
   "outputs": [
    {
     "data": {
      "text/plain": [
       "qual_2    272\n",
       "dtype: int64"
      ]
     },
     "execution_count": 28,
     "metadata": {},
     "output_type": "execute_result"
    }
   ],
   "source": [
    "df_qual_2 = df_new[\"descr_vac\"].str.extract(\n",
    "    r'(?P<qual_2>Стажер|мидл|сеньор|джун|intern|jr|Junior|Middle|Senior|Руководитель|Lead)',\n",
    "    flags=re.I, expand=True).apply(lambda ql: ql.str.lower().str.strip())\n",
    "df_qual_2.isnull().sum()"
   ]
  },
  {
   "cell_type": "code",
   "execution_count": 143,
   "metadata": {},
   "outputs": [
    {
     "data": {
      "text/html": [
       "<div>\n",
       "<style scoped>\n",
       "    .dataframe tbody tr th:only-of-type {\n",
       "        vertical-align: middle;\n",
       "    }\n",
       "\n",
       "    .dataframe tbody tr th {\n",
       "        vertical-align: top;\n",
       "    }\n",
       "\n",
       "    .dataframe thead th {\n",
       "        text-align: right;\n",
       "    }\n",
       "</style>\n",
       "<table border=\"1\" class=\"dataframe\">\n",
       "  <thead>\n",
       "    <tr style=\"text-align: right;\">\n",
       "      <th></th>\n",
       "      <th>qual_2</th>\n",
       "      <th>qual_1</th>\n",
       "    </tr>\n",
       "  </thead>\n",
       "  <tbody>\n",
       "    <tr>\n",
       "      <th>1</th>\n",
       "      <td>middle</td>\n",
       "      <td>NaN</td>\n",
       "    </tr>\n",
       "    <tr>\n",
       "      <th>2</th>\n",
       "      <td>middle</td>\n",
       "      <td>NaN</td>\n",
       "    </tr>\n",
       "    <tr>\n",
       "      <th>3</th>\n",
       "      <td>middle</td>\n",
       "      <td>NaN</td>\n",
       "    </tr>\n",
       "    <tr>\n",
       "      <th>4</th>\n",
       "      <td>middle</td>\n",
       "      <td>NaN</td>\n",
       "    </tr>\n",
       "    <tr>\n",
       "      <th>5</th>\n",
       "      <td>middle</td>\n",
       "      <td>NaN</td>\n",
       "    </tr>\n",
       "  </tbody>\n",
       "</table>\n",
       "</div>"
      ],
      "text/plain": [
       "   qual_2 qual_1\n",
       "1  middle    NaN\n",
       "2  middle    NaN\n",
       "3  middle    NaN\n",
       "4  middle    NaN\n",
       "5  middle    NaN"
      ]
     },
     "execution_count": 143,
     "metadata": {},
     "output_type": "execute_result"
    }
   ],
   "source": [
    "temp_df_qual = pd.merge(df_qual_2,df_qual_1, left_index=True, right_index=True)\n",
    "temp_df_qual.head()"
   ]
  },
  {
   "cell_type": "markdown",
   "metadata": {},
   "source": [
    "Осталось 271 вакансия без уровня квалификации. Далее рассматриваю определение квалификации через указанный в вакансиях требуемый опыт"
   ]
  },
  {
   "cell_type": "code",
   "execution_count": 144,
   "metadata": {},
   "outputs": [
    {
     "data": {
      "text/plain": [
       "271"
      ]
     },
     "execution_count": 144,
     "metadata": {},
     "output_type": "execute_result"
    }
   ],
   "source": [
    "temp_df_qual['qual'] = temp_df_qual.apply(\n",
    "    lambda row: row[\"qual_1\"] if pd.isnull(row['qual_2']) else row['qual_2'],\n",
    "    axis=1\n",
    ")\n",
    "temp_df_qual['qual'].isnull().sum()"
   ]
  },
  {
   "cell_type": "markdown",
   "metadata": {},
   "source": [
    "Далее уровень квалификации определяем по указанному в вакансии опыту работы "
   ]
  },
  {
   "cell_type": "code",
   "execution_count": 145,
   "metadata": {},
   "outputs": [
    {
     "data": {
      "text/plain": [
       "(368,\n",
       " experience\n",
       " [(3, лет)]                                              74\n",
       " [(2, лет)]                                              51\n",
       " [(5, лет)]                                              49\n",
       " [(1, года)]                                             32\n",
       " [(6, лет)]                                              27\n",
       " [(4, лет)]                                              10\n",
       " [(3, года)]                                             10\n",
       " [(2, года)]                                             10\n",
       " [(7, лет)]                                               6\n",
       " [(3, года), (3, лет)]                                    6\n",
       " [(10, лет)]                                              4\n",
       " [(5, лет), (2, лет)]                                     4\n",
       " [(3, лет), (5, лет)]                                     3\n",
       " [(5, года)]                                              3\n",
       " [(3, лет), (2, лет)]                                     2\n",
       " [(3, лет), (1, года)]                                    2\n",
       " [(6, лет), (2, года)]                                    2\n",
       " [(5, лет), (4, лет), (2, лет)]                           1\n",
       " [(6, лет), (5, лет)]                                     1\n",
       " [(1, год)]                                               1\n",
       " [(7, лет), (5, лет)]                                     1\n",
       " [(2, лет), (3, лет), (5, лет), (1, года)]                1\n",
       " [(1, года), (2, года), (3, лет), (2, лет)]               1\n",
       " [(2, года), (1, год), (1, года), (5, лет), (2, лет)]     1\n",
       " [(5, лет), (1, года)]                                    1\n",
       " [(6, лет), (3, лет)]                                     1\n",
       " [(1, года), (3, лет), (2, лет)]                          1\n",
       " [(2, лет), (1, года)]                                    1\n",
       " Name: count, dtype: int64)"
      ]
     },
     "execution_count": 145,
     "metadata": {},
     "output_type": "execute_result"
    }
   ],
   "source": [
    "df_experience= df_new[\"experience\"].str.findall(\n",
    "    r'\\b(\\d{1,2})[\\s]*(лет|год|года|г|л)\\b',\n",
    "    flags=re.I).apply(lambda x: list(set(x)) if not isinstance(x,(float,type(None))) and len(x)!=0 else np.NAN)\n",
    "df_experience.isnull().sum(), df_experience.value_counts()"
   ]
  },
  {
   "cell_type": "code",
   "execution_count": 146,
   "metadata": {},
   "outputs": [
    {
     "data": {
      "text/html": [
       "<div>\n",
       "<style scoped>\n",
       "    .dataframe tbody tr th:only-of-type {\n",
       "        vertical-align: middle;\n",
       "    }\n",
       "\n",
       "    .dataframe tbody tr th {\n",
       "        vertical-align: top;\n",
       "    }\n",
       "\n",
       "    .dataframe thead th {\n",
       "        text-align: right;\n",
       "    }\n",
       "</style>\n",
       "<table border=\"1\" class=\"dataframe\">\n",
       "  <thead>\n",
       "    <tr style=\"text-align: right;\">\n",
       "      <th></th>\n",
       "      <th>qual_2</th>\n",
       "      <th>qual_1</th>\n",
       "      <th>qual</th>\n",
       "      <th>qual_3</th>\n",
       "    </tr>\n",
       "  </thead>\n",
       "  <tbody>\n",
       "    <tr>\n",
       "      <th>1</th>\n",
       "      <td>middle</td>\n",
       "      <td>NaN</td>\n",
       "      <td>middle</td>\n",
       "      <td>middle</td>\n",
       "    </tr>\n",
       "    <tr>\n",
       "      <th>2</th>\n",
       "      <td>middle</td>\n",
       "      <td>NaN</td>\n",
       "      <td>middle</td>\n",
       "      <td>middle</td>\n",
       "    </tr>\n",
       "    <tr>\n",
       "      <th>3</th>\n",
       "      <td>middle</td>\n",
       "      <td>NaN</td>\n",
       "      <td>middle</td>\n",
       "      <td>senior</td>\n",
       "    </tr>\n",
       "    <tr>\n",
       "      <th>4</th>\n",
       "      <td>middle</td>\n",
       "      <td>NaN</td>\n",
       "      <td>middle</td>\n",
       "      <td>NaN</td>\n",
       "    </tr>\n",
       "    <tr>\n",
       "      <th>5</th>\n",
       "      <td>middle</td>\n",
       "      <td>NaN</td>\n",
       "      <td>middle</td>\n",
       "      <td>NaN</td>\n",
       "    </tr>\n",
       "  </tbody>\n",
       "</table>\n",
       "</div>"
      ],
      "text/plain": [
       "   qual_2 qual_1    qual  qual_3\n",
       "1  middle    NaN  middle  middle\n",
       "2  middle    NaN  middle  middle\n",
       "3  middle    NaN  middle  senior\n",
       "4  middle    NaN  middle     NaN\n",
       "5  middle    NaN  middle     NaN"
      ]
     },
     "execution_count": 146,
     "metadata": {},
     "output_type": "execute_result"
    }
   ],
   "source": [
    "def f_merge_list(l):\n",
    "    if not isinstance(l,(float,type(None))):\n",
    "        temp_y = []\n",
    "        for i in l:\n",
    "            if not isinstance(i,(float,type(None))):\n",
    "                yeas = int(i[0])\n",
    "                temp_y.append(yeas)\n",
    "        max_y = sorted(temp_y)[-1]      \n",
    "        if max_y<2:\n",
    "            rez = \"junior\"\n",
    "        elif 1<max_y<5:\n",
    "            rez = \"middle\"\n",
    "        elif 4<max_y:\n",
    "            rez = \"senior\"\n",
    "    else:\n",
    "        rez = np.nan\n",
    "    return rez\n",
    "            \n",
    "temp_df_qual['qual_3']=df_experience.copy().apply(lambda x: f_merge_list(x))\n",
    "temp_df_qual.head()"
   ]
  },
  {
   "cell_type": "code",
   "execution_count": 147,
   "metadata": {},
   "outputs": [
    {
     "data": {
      "text/plain": [
       "(159,\n",
       " qual\n",
       " middle          254\n",
       " senior          142\n",
       " junior           63\n",
       " lead             26\n",
       " руководитель     12\n",
       " стажер           10\n",
       " сеньор            3\n",
       " intern            2\n",
       " мидл              2\n",
       " джун              1\n",
       " Name: count, dtype: int64)"
      ]
     },
     "execution_count": 147,
     "metadata": {},
     "output_type": "execute_result"
    }
   ],
   "source": [
    "temp_df_qual['qual'] = temp_df_qual.apply(\n",
    "    lambda row: row[\"qual_3\"] if pd.isnull(row['qual']) else row['qual'],\n",
    "    axis=1\n",
    ")\n",
    "temp_df_qual['qual'].isnull().sum(), temp_df_qual['qual'].value_counts()"
   ]
  },
  {
   "cell_type": "markdown",
   "metadata": {},
   "source": [
    "Привожу уровни квалификации к одному виду, чтобы использовать их как категориальный признак"
   ]
  },
  {
   "cell_type": "code",
   "execution_count": 148,
   "metadata": {},
   "outputs": [
    {
     "data": {
      "text/plain": [
       "(159,\n",
       " qual\n",
       " middle    256\n",
       " senior    183\n",
       " junior     76\n",
       " Name: count, dtype: int64)"
      ]
     },
     "execution_count": 148,
     "metadata": {},
     "output_type": "execute_result"
    }
   ],
   "source": [
    "temp_df_qual[\"qual\"]=temp_df_qual[\"qual\"].map({\"стажер\":\"junior\",\"джун\":\"junior\",\"jr\":\"junior\",\"intern\":\"junior\",\"junior\":\"junior\",\n",
    "                                          \"мидл\":\"middle\",\"middle\":\"middle\",\n",
    "                                          \"сеньор\":\"senior\",\"руководитель\":\"senior\",\"lead\":\"senior\",\"senior\":\"senior\"})\n",
    "temp_df_qual['qual'].isnull().sum(), temp_df_qual['qual'].value_counts()"
   ]
  },
  {
   "cell_type": "markdown",
   "metadata": {},
   "source": [
    "Вакансиям у которых не получилось определить уровень требуемой квалификации присвоил новую категорию \"\"Not_qualification\"\""
   ]
  },
  {
   "cell_type": "code",
   "execution_count": 149,
   "metadata": {},
   "outputs": [
    {
     "data": {
      "text/html": [
       "<div>\n",
       "<style scoped>\n",
       "    .dataframe tbody tr th:only-of-type {\n",
       "        vertical-align: middle;\n",
       "    }\n",
       "\n",
       "    .dataframe tbody tr th {\n",
       "        vertical-align: top;\n",
       "    }\n",
       "\n",
       "    .dataframe thead th {\n",
       "        text-align: right;\n",
       "    }\n",
       "</style>\n",
       "<table border=\"1\" class=\"dataframe\">\n",
       "  <thead>\n",
       "    <tr style=\"text-align: right;\">\n",
       "      <th></th>\n",
       "      <th>location</th>\n",
       "      <th>location_2</th>\n",
       "      <th>type_schedule</th>\n",
       "      <th>shedul</th>\n",
       "      <th>type_busy</th>\n",
       "      <th>format_job</th>\n",
       "      <th>skills</th>\n",
       "      <th>experience</th>\n",
       "      <th>salary</th>\n",
       "      <th>salary_min</th>\n",
       "      <th>salary_max</th>\n",
       "      <th>salary_mean</th>\n",
       "      <th>descr_vac</th>\n",
       "      <th>job</th>\n",
       "      <th>qual</th>\n",
       "    </tr>\n",
       "  </thead>\n",
       "  <tbody>\n",
       "    <tr>\n",
       "      <th>1</th>\n",
       "      <td>The job vacancy does not specify a particular...</td>\n",
       "      <td>В данном тексте вакансии указано, что формат ...</td>\n",
       "      <td>В данной вакансии указано, что формат работы ...</td>\n",
       "      <td>В данном тексте вакансии на русском языке ука...</td>\n",
       "      <td>В данной вакансии указано, что формат работы ...</td>\n",
       "      <td>Based on the job listing text in Russian, the...</td>\n",
       "      <td>Based on the provided job posting in Russian,...</td>\n",
       "      <td>В данном объявлении о вакансии требуется комм...</td>\n",
       "      <td>В тексте вакансии указано, что предлагаемая з...</td>\n",
       "      <td>160000.0</td>\n",
       "      <td>0.0</td>\n",
       "      <td>80000.0</td>\n",
       "      <td>#вакансия #удаленка #middle+ #са #системныйана...</td>\n",
       "      <td>системный аналитик</td>\n",
       "      <td>middle</td>\n",
       "    </tr>\n",
       "    <tr>\n",
       "      <th>2</th>\n",
       "      <td>Based on the job vacancy description provided...</td>\n",
       "      <td>В данном объявлении о вакансии место работы у...</td>\n",
       "      <td>The job posting in Russian indicates that the...</td>\n",
       "      <td>В объявлении о вакансии указано следующее рас...</td>\n",
       "      <td>В данном объявлении указаны два формата работ...</td>\n",
       "      <td>The job listing text is for a remote work for...</td>\n",
       "      <td>Based on the provided job posting in Russian,...</td>\n",
       "      <td>В данной вакансии указано, что требуемый опыт...</td>\n",
       "      <td>The offered salary in the job posting text is...</td>\n",
       "      <td>150000.0</td>\n",
       "      <td>230000.0</td>\n",
       "      <td>190000.0</td>\n",
       "      <td>#вакансия #middle #remote **Требуются ML-инжен...</td>\n",
       "      <td>data scientist</td>\n",
       "      <td>middle</td>\n",
       "    </tr>\n",
       "    <tr>\n",
       "      <th>3</th>\n",
       "      <td>The job vacancy mentions \"Локация: Россия,\" w...</td>\n",
       "      <td>Локация, указанная в данной вакансии, находит...</td>\n",
       "      <td>В данном объявлении о вакансии не указан конк...</td>\n",
       "      <td>В данном объявлении о вакансии не указан конк...</td>\n",
       "      <td>На основании предоставленной информации, в да...</td>\n",
       "      <td>На основании текста вакансии, можно сделать в...</td>\n",
       "      <td>Основные требуемые навыки для вакансии Middle...</td>\n",
       "      <td>В данной вакансии не указан конкретный требуе...</td>\n",
       "      <td>В данном объявлении о вакансии предлагаемая з...</td>\n",
       "      <td>240000.0</td>\n",
       "      <td>270000.0</td>\n",
       "      <td>255000.0</td>\n",
       "      <td>#вакансия #аналитикданных #SQL #AB #статистика...</td>\n",
       "      <td>data analyst</td>\n",
       "      <td>middle</td>\n",
       "    </tr>\n",
       "    <tr>\n",
       "      <th>4</th>\n",
       "      <td>The job vacancy specifies the region as \"Крас...</td>\n",
       "      <td>Город работы указан как \"Краснодар\".</td>\n",
       "      <td>В job posting указано \"Занятость: полный день...</td>\n",
       "      <td>В данном объявлении о вакансии указано, что г...</td>\n",
       "      <td>В указанном вами объявлении о вакансии на рус...</td>\n",
       "      <td>Формат работы: офис\\удаленка (гибридный)</td>\n",
       "      <td>На основе предоставленного текста, необходимы...</td>\n",
       "      <td>В тексте вакансии не указан конкретный опыт р...</td>\n",
       "      <td>В данном объявлении о вакансии указана следую...</td>\n",
       "      <td>150000.0</td>\n",
       "      <td>200000.0</td>\n",
       "      <td>175000.0</td>\n",
       "      <td>#вакансия #Системныйаналитик #Бизнес_аналитик ...</td>\n",
       "      <td>системный аналитик</td>\n",
       "      <td>middle</td>\n",
       "    </tr>\n",
       "    <tr>\n",
       "      <th>5</th>\n",
       "      <td>The job vacancy you provided does not explici...</td>\n",
       "      <td>В данном объявлении о вакансии место работы у...</td>\n",
       "      <td>The job posting indicates a \"Full-time\" work ...</td>\n",
       "      <td>В данной вакансии указано следующее расписани...</td>\n",
       "      <td>На основании предоставленного текста job list...</td>\n",
       "      <td>The job listing text in Russian matches the *...</td>\n",
       "      <td>Основные требования к кандидату: - Уверенное ...</td>\n",
       "      <td>В данном объявлении о вакансии требуется след...</td>\n",
       "      <td>В данном объявлении о вакансии предлагается з...</td>\n",
       "      <td>250000.0</td>\n",
       "      <td>0.0</td>\n",
       "      <td>125000.0</td>\n",
       "      <td>#вакансия #инженер #engineer #DataEngineer #mi...</td>\n",
       "      <td>data engineer</td>\n",
       "      <td>middle</td>\n",
       "    </tr>\n",
       "  </tbody>\n",
       "</table>\n",
       "</div>"
      ],
      "text/plain": [
       "                                            location  \\\n",
       "1   The job vacancy does not specify a particular...   \n",
       "2   Based on the job vacancy description provided...   \n",
       "3   The job vacancy mentions \"Локация: Россия,\" w...   \n",
       "4   The job vacancy specifies the region as \"Крас...   \n",
       "5   The job vacancy you provided does not explici...   \n",
       "\n",
       "                                          location_2  \\\n",
       "1   В данном тексте вакансии указано, что формат ...   \n",
       "2   В данном объявлении о вакансии место работы у...   \n",
       "3   Локация, указанная в данной вакансии, находит...   \n",
       "4               Город работы указан как \"Краснодар\".   \n",
       "5   В данном объявлении о вакансии место работы у...   \n",
       "\n",
       "                                       type_schedule  \\\n",
       "1   В данной вакансии указано, что формат работы ...   \n",
       "2   The job posting in Russian indicates that the...   \n",
       "3   В данном объявлении о вакансии не указан конк...   \n",
       "4   В job posting указано \"Занятость: полный день...   \n",
       "5   The job posting indicates a \"Full-time\" work ...   \n",
       "\n",
       "                                              shedul  \\\n",
       "1   В данном тексте вакансии на русском языке ука...   \n",
       "2   В объявлении о вакансии указано следующее рас...   \n",
       "3   В данном объявлении о вакансии не указан конк...   \n",
       "4   В данном объявлении о вакансии указано, что г...   \n",
       "5   В данной вакансии указано следующее расписани...   \n",
       "\n",
       "                                           type_busy  \\\n",
       "1   В данной вакансии указано, что формат работы ...   \n",
       "2   В данном объявлении указаны два формата работ...   \n",
       "3   На основании предоставленной информации, в да...   \n",
       "4   В указанном вами объявлении о вакансии на рус...   \n",
       "5   На основании предоставленного текста job list...   \n",
       "\n",
       "                                          format_job  \\\n",
       "1   Based on the job listing text in Russian, the...   \n",
       "2   The job listing text is for a remote work for...   \n",
       "3   На основании текста вакансии, можно сделать в...   \n",
       "4           Формат работы: офис\\удаленка (гибридный)   \n",
       "5   The job listing text in Russian matches the *...   \n",
       "\n",
       "                                              skills  \\\n",
       "1   Based on the provided job posting in Russian,...   \n",
       "2   Based on the provided job posting in Russian,...   \n",
       "3   Основные требуемые навыки для вакансии Middle...   \n",
       "4   На основе предоставленного текста, необходимы...   \n",
       "5   Основные требования к кандидату: - Уверенное ...   \n",
       "\n",
       "                                          experience  \\\n",
       "1   В данном объявлении о вакансии требуется комм...   \n",
       "2   В данной вакансии указано, что требуемый опыт...   \n",
       "3   В данной вакансии не указан конкретный требуе...   \n",
       "4   В тексте вакансии не указан конкретный опыт р...   \n",
       "5   В данном объявлении о вакансии требуется след...   \n",
       "\n",
       "                                              salary  salary_min  salary_max  \\\n",
       "1   В тексте вакансии указано, что предлагаемая з...    160000.0         0.0   \n",
       "2   The offered salary in the job posting text is...    150000.0    230000.0   \n",
       "3   В данном объявлении о вакансии предлагаемая з...    240000.0    270000.0   \n",
       "4   В данном объявлении о вакансии указана следую...    150000.0    200000.0   \n",
       "5   В данном объявлении о вакансии предлагается з...    250000.0         0.0   \n",
       "\n",
       "   salary_mean                                          descr_vac  \\\n",
       "1      80000.0  #вакансия #удаленка #middle+ #са #системныйана...   \n",
       "2     190000.0  #вакансия #middle #remote **Требуются ML-инжен...   \n",
       "3     255000.0  #вакансия #аналитикданных #SQL #AB #статистика...   \n",
       "4     175000.0  #вакансия #Системныйаналитик #Бизнес_аналитик ...   \n",
       "5     125000.0  #вакансия #инженер #engineer #DataEngineer #mi...   \n",
       "\n",
       "                   job    qual  \n",
       "1   системный аналитик  middle  \n",
       "2       data scientist  middle  \n",
       "3         data analyst  middle  \n",
       "4   системный аналитик  middle  \n",
       "5        data engineer  middle  "
      ]
     },
     "execution_count": 149,
     "metadata": {},
     "output_type": "execute_result"
    }
   ],
   "source": [
    "df_new[\"qual\"] = temp_df_qual['qual']\n",
    "df_new[\"qual\"].fillna(\"Not_qualification\", inplace=True)\n",
    "df_new.head()"
   ]
  },
  {
   "cell_type": "markdown",
   "metadata": {},
   "source": [
    "Извлекаем через регулярку тип занятости: \"Full-time\", \"Remote\", \"Temporary\", \"Part-time\", \"Internship\""
   ]
  },
  {
   "cell_type": "code",
   "execution_count": 150,
   "metadata": {},
   "outputs": [
    {
     "data": {
      "text/plain": [
       "(type_busy\n",
       " full-time     380\n",
       " remote        252\n",
       " part-time      22\n",
       " internship     11\n",
       " temporary       6\n",
       " Name: count, dtype: int64,\n",
       " 3)"
      ]
     },
     "execution_count": 150,
     "metadata": {},
     "output_type": "execute_result"
    }
   ],
   "source": [
    "re_busy = \"|\".join([\"Full-time\", \"Remote\", \"Temporary\", \"Part-time\", \"Internship\"])\n",
    "df_new[\"type_busy\"] = df_new[\"type_busy\"].str.extract(\n",
    "    r'(?P<busy_1>Full-time|Remote|Temporary|Part-time|Internship)',\n",
    "    flags=re.I, expand=True).apply(lambda x : x.str.lower())\n",
    "\n",
    "df_new[\"type_busy\"].value_counts(),df_new[\"type_busy\"].isnull().sum()"
   ]
  },
  {
   "cell_type": "markdown",
   "metadata": {},
   "source": [
    "Осталось три вакансии без критерия: типа занятости. Размежу вручную. Они будут так же использованы как категориальный признак"
   ]
  },
  {
   "cell_type": "code",
   "execution_count": 151,
   "metadata": {},
   "outputs": [
    {
     "data": {
      "text/plain": [
       "315     В вакансии указано, что формат работы \"гибрид...\n",
       "364     The job posting in Russian indicates a **‘Ful...\n",
       "684     В вакансии указано: \"Формат: офис / full_time...\n",
       "Name: type_schedule, dtype: object"
      ]
     },
     "execution_count": 151,
     "metadata": {},
     "output_type": "execute_result"
    }
   ],
   "source": [
    "df_new.type_schedule[df_new[\"type_busy\"].isnull()]"
   ]
  },
  {
   "cell_type": "code",
   "execution_count": 152,
   "metadata": {},
   "outputs": [
    {
     "name": "stderr",
     "output_type": "stream",
     "text": [
      "C:\\Users\\Andrew\\AppData\\Local\\Temp\\ipykernel_9232\\993131548.py:1: SettingWithCopyWarning: \n",
      "A value is trying to be set on a copy of a slice from a DataFrame\n",
      "\n",
      "See the caveats in the documentation: https://pandas.pydata.org/pandas-docs/stable/user_guide/indexing.html#returning-a-view-versus-a-copy\n",
      "  df_new[\"type_busy\"].loc[315] = \"full-time\"\n",
      "C:\\Users\\Andrew\\AppData\\Local\\Temp\\ipykernel_9232\\993131548.py:2: SettingWithCopyWarning: \n",
      "A value is trying to be set on a copy of a slice from a DataFrame\n",
      "\n",
      "See the caveats in the documentation: https://pandas.pydata.org/pandas-docs/stable/user_guide/indexing.html#returning-a-view-versus-a-copy\n",
      "  df_new[\"type_busy\"].loc[364] = \"full-time\"\n",
      "C:\\Users\\Andrew\\AppData\\Local\\Temp\\ipykernel_9232\\993131548.py:3: SettingWithCopyWarning: \n",
      "A value is trying to be set on a copy of a slice from a DataFrame\n",
      "\n",
      "See the caveats in the documentation: https://pandas.pydata.org/pandas-docs/stable/user_guide/indexing.html#returning-a-view-versus-a-copy\n",
      "  df_new[\"type_busy\"].loc[684] = \"full-time\"\n"
     ]
    }
   ],
   "source": [
    "df_new[\"type_busy\"].loc[315] = \"full-time\"\n",
    "df_new[\"type_busy\"].loc[364] = \"full-time\"\n",
    "df_new[\"type_busy\"].loc[684] = \"full-time\""
   ]
  },
  {
   "cell_type": "code",
   "execution_count": 153,
   "metadata": {},
   "outputs": [
    {
     "data": {
      "text/plain": [
       "0"
      ]
     },
     "execution_count": 153,
     "metadata": {},
     "output_type": "execute_result"
    }
   ],
   "source": [
    "df_new[\"type_busy\"].isnull().sum()"
   ]
  },
  {
   "cell_type": "markdown",
   "metadata": {},
   "source": [
    "Далее определяем регион размещения вакансии, так же через регулярные выражения"
   ]
  },
  {
   "cell_type": "markdown",
   "metadata": {},
   "source": [
    "Создаю на русском и английском языке название регионов РФ в полном варианте (с указанием регионов, автономных округов) и в сокращенном вварианте (без приписок область, регион). Делал так, что бы Москву и Московскую область разделять."
   ]
  },
  {
   "cell_type": "code",
   "execution_count": 154,
   "metadata": {},
   "outputs": [],
   "source": [
    "d_reg = {'Ulyanovsk region': 'Ульяновская область',\n",
    " 'Novosibirsk region': 'Новосибирская область',\n",
    " 'Tambov region': 'Тамбовская область',\n",
    " 'Primorsky Krai': 'Приморский край',\n",
    " 'Perm Region': 'Пермский край',\n",
    " 'Republic of Bashkortostan': 'Республика Башкортостан',\n",
    " 'Moscow region': 'Московская область',\n",
    " 'Republic of Buryatia': 'Республика Бурятия',\n",
    " 'Chelyabinsk region': 'Челябинская область',\n",
    " 'Sverdlovsk region': 'Свердловская область',\n",
    " 'Sakhalin region': 'Сахалинская область',\n",
    " 'Saratov region': 'Саратовская область',\n",
    " 'Udmurt Republic': 'Удмуртская Республика',\n",
    " 'Smolensk region': 'Смоленская область',\n",
    " 'Irkutsk region': 'Иркутская область',\n",
    " 'The city of Moscow': 'Город Москва',\n",
    " 'Krasnoyarsk Territory': 'Красноярский край',\n",
    " 'Penza region': 'Пензенская область',\n",
    " 'Krasnodar Territory': 'Краснодарский край',\n",
    " 'The city of Saint Petersburg': 'Город Санкт-Петербург',\n",
    " 'Yaroslavl region': 'Ярославская область',\n",
    " 'Republic of Karelia': 'Республика Карелия',\n",
    " 'Kemerovo Region - Kuzbass': 'Кемеровская область - Кузбасс',\n",
    " 'Samara region': 'Самарская область',\n",
    " 'Kurgan region': 'Курганская область',\n",
    " 'Astrakhan region': 'Астраханская область',\n",
    " 'Nizhny Novgorod region': 'Нижегородская область',\n",
    " 'Stavropol Territory': 'Ставропольский край',\n",
    " 'Amur region': 'Амурская область',\n",
    " 'Republic of Dagestan': 'Республика Дагестан',\n",
    " 'Rostov region': 'Ростовская область',\n",
    " 'Tver region': 'Тверская область',\n",
    " 'Chuvash Republic - Chuvashia': 'Чувашская Республика - Чувашия',\n",
    " 'Chukotka Autonomous Okrug': 'Чукотский автономный округ',\n",
    " 'Arkhangelsk region': 'Архангельская область',\n",
    " 'Oryol region': 'Орловская область',\n",
    " 'Ivanovo region': 'Ивановская область',\n",
    " 'Altai Territory': 'Алтайский край',\n",
    " 'Omsk region': 'Омская область',\n",
    " 'Bryansk region': 'Брянская область',\n",
    " 'Kostroma region': 'Костромская область',\n",
    " 'Trans-Baikal Territory': 'Забайкальский край',\n",
    " 'Republic of Tatarstan (Tatarstan)': 'Республика Татарстан (Татарстан)',\n",
    " 'Leningrad Region': 'Ленинградская область',\n",
    " 'Voronezh Region': 'Воронежская область',\n",
    " 'Vologda region': 'Вологодская область',\n",
    " 'Kirov region': 'Кировская область',\n",
    " 'Ryazan region': 'Рязанская область',\n",
    " 'Republic of Crimea': 'Республика Крым',\n",
    " 'Republic of North Ossetia - Alania': 'Республика Северная Осетия - Алания',\n",
    " 'Khanty-Mansiysk Autonomous Okrug - Yugra': 'Ханты-Мансийский автономный округ - Югра',\n",
    " 'Volgograd region': 'Волгоградская область',\n",
    " 'Belgorod region': 'Белгородская область',\n",
    " 'Vladimir region': 'Владимирская область',\n",
    " 'Luhansk People\"s Republic': 'Луганская Народная Республика',\n",
    " 'Republic of Mari El': 'Республика Марий Эл',\n",
    " 'Orenburg region': 'Оренбургская область',\n",
    " 'Tula region': 'Тульская область',\n",
    " 'Yamalo-Nenets Autonomous Okrug': 'Ямало-Ненецкий автономный округ',\n",
    " 'Kursk region': 'Курская область',\n",
    " 'Lipetsk region': 'Липецкая область',\n",
    " 'The Republic of Sakha (Yakutia)': 'Республика Саха (Якутия)',\n",
    " 'Khabarovsk Territory': 'Хабаровский край',\n",
    " 'Donetsk People\"s Republic': 'Донецкая Народная Республика',\n",
    " 'Murmansk region': 'Мурманская область',\n",
    " 'Pskov region': 'Псковская область',\n",
    " 'Tyumen region': 'Тюменская область',\n",
    " 'Republic of Khakassia': 'Республика Хакасия',\n",
    " 'Kaliningrad region': 'Калининградская область',\n",
    " 'Komi Republic': 'Республика Коми',\n",
    " 'Kaluga Region': 'Калужская область',\n",
    " 'Tomsk region': 'Томская область',\n",
    " 'Altai Republic': 'Республика Алтай',\n",
    " 'Republic of Adygea (Adygea)': 'Республика Адыгея (Адыгея)',\n",
    " 'Chechen Republic': 'Чеченская Республика',\n",
    " 'Kabardino-Balkarian Republic': 'Кабардино-Балкарская Республика',\n",
    " 'Republic of Tyva': 'Республика Тыва',\n",
    " 'The city of Sevastopol': 'Город Севастополь',\n",
    " 'Nenets Autonomous Okrug': 'Ненецкий автономный округ',\n",
    " 'Republic of Ingushetia': 'Республика Ингушетия',\n",
    " 'Republic of Mordovia': 'Республика Мордовия',\n",
    " 'Zaporizhia region': 'Запорожская область',\n",
    " 'Kamchatka Territory': 'Камчатский край',\n",
    " 'Republic of Kalmykia': 'Республика Калмыкия',\n",
    " 'Magadan region': 'Магаданская область',\n",
    " 'Novgorod region': 'Новгородская область',\n",
    " 'Jewish Autonomous Region': 'Еврейская автономная область',\n",
    " 'The city of Baikonur': 'Город Байконур',\n",
    " 'Karachay-Cherkess Republic': 'Карачаево-Черкесская Республика',\n",
    " 'Kherson region': 'Херсонская область'}"
   ]
  },
  {
   "cell_type": "code",
   "execution_count": 156,
   "metadata": {},
   "outputs": [],
   "source": [
    "d_reg_short = {'Ulyanovsk': 'Ульяновская',\n",
    " 'Novosibirsk': 'Новосибирская',\n",
    " 'Tambov': 'Тамбовская',\n",
    " 'Primorsky': 'Приморский',\n",
    " 'Perm': 'Пермский',\n",
    " 'Bashkortostan': 'Башкортостан',\n",
    " 'Moscow region': 'Московская область',\n",
    " 'Buryatia': 'Бурятия',\n",
    " 'Chelyabinsk': 'Челябинская',\n",
    " 'Sverdlovsk': 'Свердловская',\n",
    " 'Sakhalin': 'Сахалинская',\n",
    " 'Saratov': 'Саратовская',\n",
    " 'Udmurt': 'Удмуртская',\n",
    " 'Smolensk': 'Смоленская',\n",
    " 'Irkutsk': 'Иркутская',\n",
    " 'Moscow': 'Москва',\n",
    " 'Krasnoyarsk': 'Красноярский',\n",
    " 'Penza': 'Пензенская',\n",
    " 'Krasnodar': 'Краснодарский',\n",
    " 'Saint Petersburg': 'Санкт-Петербург',\n",
    " 'Yaroslavl': 'Ярославская',\n",
    " 'Karelia': 'Карелия',\n",
    " 'Kemerovo - Kuzbass': 'Кемеровская - Кузбасс',\n",
    " 'Samara': 'Самарская',\n",
    " 'Kurgan': 'Курганская',\n",
    " 'Astrakhan': 'Астраханская',\n",
    " 'Nizhny Novgorod': 'Нижегородская',\n",
    " 'Stavropol': 'Ставропольский',\n",
    " 'Amur': 'Амурская',\n",
    " 'Dagestan': 'Дагестан',\n",
    " 'Rostov': 'Ростовская',\n",
    " 'Tver': 'Тверская',\n",
    " 'Chuvash - Chuvashia': 'Чувашская - Чувашия',\n",
    " 'Chukotka': 'Чукотский',\n",
    " 'Arkhangelsk': 'Архангельская',\n",
    " 'Oryol': 'Орловская',\n",
    " 'Ivanovo': 'Ивановская',\n",
    " 'Altai': 'Алтайский',\n",
    " 'Omsk': 'Омская',\n",
    " 'Bryansk': 'Брянская',\n",
    " 'Kostroma': 'Костромская',\n",
    " 'Trans-Baikal': 'Забайкальский',\n",
    " 'Tatarstan': 'Татарстан',\n",
    " 'Leningrad': 'Ленинградская',\n",
    " 'Voronezh': 'Воронежская',\n",
    " 'Vologda': 'Вологодская',\n",
    " 'Kirov': 'Кировская',\n",
    " 'Ryazan': 'Рязанская',\n",
    " 'Crimea': 'Крым',\n",
    " 'North Ossetia': 'Северная Осетия',\n",
    " 'Khanty-Mansiysk': 'Ханты-Мансийский',\n",
    " 'Volgograd': 'Волгоградская',\n",
    " 'Belgorod': 'Белгородская',\n",
    " 'Vladimir': 'Владимирская',\n",
    " 'Luhansk': 'Луганская',\n",
    " 'Mari El': 'Марий Эл',\n",
    " 'Orenburg': 'Оренбургская',\n",
    " 'Tula': 'Тульская',\n",
    " 'Yamalo-Nenets': 'Ямало-Ненецкий',\n",
    " 'Kursk': 'Курская',\n",
    " 'Lipetsk': 'Липецкая',\n",
    " 'Sakha': 'Саха',\n",
    " 'Khabarovsk': 'Хабаровский',\n",
    " 'Donetsk': 'Донецкая',\n",
    " 'Murmansk': 'Мурманская',\n",
    " 'Pskov': 'Псковская',\n",
    " 'Tyumen': 'Тюменская',\n",
    " 'Khakassia': 'Хакасия',\n",
    " 'Kaliningrad': 'Калининградская',\n",
    " 'Komi': 'Коми',\n",
    " 'Kaluga': 'Калужская',\n",
    " 'Tomsk': 'Томская',\n",
    " 'Altai': 'Алтай',\n",
    " 'Adygea': 'Адыгея',\n",
    " 'Chechen': 'Чеченская',\n",
    " 'Kabardino-Balkarian': 'Кабардино-Балкарская',\n",
    " 'Tyva': 'Тыва',\n",
    " 'Sevastopol': 'Севастополь',\n",
    " 'Nenets': 'Ненецкий',\n",
    " 'Ingushetia': 'Ингушетия',\n",
    " 'Mordovia': 'Мордовия',\n",
    " 'Zaporizhia': 'Запорожская',\n",
    " 'Kamchatka': 'Камчатский',\n",
    " 'Kalmykia': 'Калмыкия',\n",
    " 'Magadan': 'Магаданская',\n",
    " 'Novgorod': 'Новгородская',\n",
    " 'Jewish': 'Еврейская',\n",
    " 'Baikonur': 'Байконур',\n",
    " 'Karachay-Cherkess': 'Карачаево-Черкесская',\n",
    " 'Kherson': 'Херсонская'}"
   ]
  },
  {
   "cell_type": "markdown",
   "metadata": {},
   "source": [
    "Создаю регулярные выражения из названий регионов"
   ]
  },
  {
   "cell_type": "code",
   "execution_count": 157,
   "metadata": {},
   "outputs": [],
   "source": [
    "re_reg_ru = \"|\".join([i for i in d_reg.values()])\n",
    "re_reg_eng = \"|\".join([i for i in d_reg.keys()])"
   ]
  },
  {
   "cell_type": "code",
   "execution_count": 158,
   "metadata": {},
   "outputs": [],
   "source": [
    "short_re_reg_ru = \"|\".join([i for i in d_reg_short.values()])\n",
    "short_re_reg_eng = \"|\".join([i for i in d_reg_short.keys()])"
   ]
  },
  {
   "cell_type": "code",
   "execution_count": 159,
   "metadata": {},
   "outputs": [
    {
     "data": {
      "text/plain": [
       "'Ульяновская область|Новосибирская область|Тамбовская область|Приморский край|Пермский край|Республика Башкортостан|Московская область|Республика Бурятия|Челябинская область|Свердловская область|Сахалинская область|Саратовская область|Удмуртская Республика|Смоленская область|Иркутская область|Город Москва|Красноярский край|Пензенская область|Краснодарский край|Город Санкт-Петербург|Ярославская область|Республика Карелия|Кемеровская область - Кузбасс|Самарская область|Курганская область|Астраханская область|Нижегородская область|Ставропольский край|Амурская область|Республика Дагестан|Ростовская область|Тверская область|Чувашская Республика - Чувашия|Чукотский автономный округ|Архангельская область|Орловская область|Ивановская область|Алтайский край|Омская область|Брянская область|Костромская область|Забайкальский край|Республика Татарстан (Татарстан)|Ленинградская область|Воронежская область|Вологодская область|Кировская область|Рязанская область|Республика Крым|Республика Северная Осетия - Алания|Ханты-Мансийский автономный округ - Югра|Волгоградская область|Белгородская область|Владимирская область|Луганская Народная Республика|Республика Марий Эл|Оренбургская область|Тульская область|Ямало-Ненецкий автономный округ|Курская область|Липецкая область|Республика Саха (Якутия)|Хабаровский край|Донецкая Народная Республика|Мурманская область|Псковская область|Тюменская область|Республика Хакасия|Калининградская область|Республика Коми|Калужская область|Томская область|Республика Алтай|Республика Адыгея (Адыгея)|Чеченская Республика|Кабардино-Балкарская Республика|Республика Тыва|Город Севастополь|Ненецкий автономный округ|Республика Ингушетия|Республика Мордовия|Запорожская область|Камчатский край|Республика Калмыкия|Магаданская область|Новгородская область|Еврейская автономная область|Город Байконур|Карачаево-Черкесская Республика|Херсонская область'"
      ]
     },
     "execution_count": 159,
     "metadata": {},
     "output_type": "execute_result"
    }
   ],
   "source": [
    "re_reg_ru"
   ]
  },
  {
   "cell_type": "code",
   "execution_count": 160,
   "metadata": {},
   "outputs": [
    {
     "data": {
      "text/plain": [
       "'Ульяновская|Новосибирская|Тамбовская|Приморский|Пермский|Башкортостан|Московская область|Бурятия|Челябинская|Свердловская|Сахалинская|Саратовская|Удмуртская|Смоленская|Иркутская|Москва|Красноярский|Пензенская|Краснодарский|Санкт-Петербург|Ярославская|Карелия|Кемеровская - Кузбасс|Самарская|Курганская|Астраханская|Нижегородская|Ставропольский|Амурская|Дагестан|Ростовская|Тверская|Чувашская - Чувашия|Чукотский|Архангельская|Орловская|Ивановская|Алтай|Омская|Брянская|Костромская|Забайкальский|Татарстан|Ленинградская|Воронежская|Вологодская|Кировская|Рязанская|Крым|Северная Осетия|Ханты-Мансийский|Волгоградская|Белгородская|Владимирская|Луганская|Марий Эл|Оренбургская|Тульская|Ямало-Ненецкий|Курская|Липецкая|Саха|Хабаровский|Донецкая|Мурманская|Псковская|Тюменская|Хакасия|Калининградская|Коми|Калужская|Томская|Адыгея|Чеченская|Кабардино-Балкарская|Тыва|Севастополь|Ненецкий|Ингушетия|Мордовия|Запорожская|Камчатский|Калмыкия|Магаданская|Новгородская|Еврейская|Байконур|Карачаево-Черкесская|Херсонская'"
      ]
     },
     "execution_count": 160,
     "metadata": {},
     "output_type": "execute_result"
    }
   ],
   "source": [
    "short_re_reg_ru"
   ]
  },
  {
   "cell_type": "code",
   "execution_count": 161,
   "metadata": {},
   "outputs": [
    {
     "data": {
      "text/plain": [
       "'Ulyanovsk region|Novosibirsk region|Tambov region|Primorsky Krai|Perm Region|Republic of Bashkortostan|Moscow region|Republic of Buryatia|Chelyabinsk region|Sverdlovsk region|Sakhalin region|Saratov region|Udmurt Republic|Smolensk region|Irkutsk region|The city of Moscow|Krasnoyarsk Territory|Penza region|Krasnodar Territory|The city of Saint Petersburg|Yaroslavl region|Republic of Karelia|Kemerovo Region - Kuzbass|Samara region|Kurgan region|Astrakhan region|Nizhny Novgorod region|Stavropol Territory|Amur region|Republic of Dagestan|Rostov region|Tver region|Chuvash Republic - Chuvashia|Chukotka Autonomous Okrug|Arkhangelsk region|Oryol region|Ivanovo region|Altai Territory|Omsk region|Bryansk region|Kostroma region|Trans-Baikal Territory|Republic of Tatarstan (Tatarstan)|Leningrad Region|Voronezh Region|Vologda region|Kirov region|Ryazan region|Republic of Crimea|Republic of North Ossetia - Alania|Khanty-Mansiysk Autonomous Okrug - Yugra|Volgograd region|Belgorod region|Vladimir region|Luhansk People\"s Republic|Republic of Mari El|Orenburg region|Tula region|Yamalo-Nenets Autonomous Okrug|Kursk region|Lipetsk region|The Republic of Sakha (Yakutia)|Khabarovsk Territory|Donetsk People\"s Republic|Murmansk region|Pskov region|Tyumen region|Republic of Khakassia|Kaliningrad region|Komi Republic|Kaluga Region|Tomsk region|Altai Republic|Republic of Adygea (Adygea)|Chechen Republic|Kabardino-Balkarian Republic|Republic of Tyva|The city of Sevastopol|Nenets Autonomous Okrug|Republic of Ingushetia|Republic of Mordovia|Zaporizhia region|Kamchatka Territory|Republic of Kalmykia|Magadan region|Novgorod region|Jewish Autonomous Region|The city of Baikonur|Karachay-Cherkess Republic|Kherson region'"
      ]
     },
     "execution_count": 161,
     "metadata": {},
     "output_type": "execute_result"
    }
   ],
   "source": [
    "re_reg_eng"
   ]
  },
  {
   "cell_type": "code",
   "execution_count": 162,
   "metadata": {},
   "outputs": [
    {
     "data": {
      "text/plain": [
       "'Ulyanovsk|Novosibirsk|Tambov|Primorsky|Perm|Bashkortostan|Moscow region|Buryatia|Chelyabinsk|Sverdlovsk|Sakhalin|Saratov|Udmurt|Smolensk|Irkutsk|Moscow|Krasnoyarsk|Penza|Krasnodar|Saint Petersburg|Yaroslavl|Karelia|Kemerovo - Kuzbass|Samara|Kurgan|Astrakhan|Nizhny Novgorod|Stavropol|Amur|Dagestan|Rostov|Tver|Chuvash - Chuvashia|Chukotka|Arkhangelsk|Oryol|Ivanovo|Altai|Omsk|Bryansk|Kostroma|Trans-Baikal|Tatarstan|Leningrad|Voronezh|Vologda|Kirov|Ryazan|Crimea|North Ossetia|Khanty-Mansiysk|Volgograd|Belgorod|Vladimir|Luhansk|Mari El|Orenburg|Tula|Yamalo-Nenets|Kursk|Lipetsk|Sakha|Khabarovsk|Donetsk|Murmansk|Pskov|Tyumen|Khakassia|Kaliningrad|Komi|Kaluga|Tomsk|Adygea|Chechen|Kabardino-Balkarian|Tyva|Sevastopol|Nenets|Ingushetia|Mordovia|Zaporizhia|Kamchatka|Kalmykia|Magadan|Novgorod|Jewish|Baikonur|Karachay-Cherkess|Kherson'"
      ]
     },
     "execution_count": 162,
     "metadata": {},
     "output_type": "execute_result"
    }
   ],
   "source": [
    "short_re_reg_eng"
   ]
  },
  {
   "cell_type": "markdown",
   "metadata": {},
   "source": [
    "Применяю регулярки для выявления в вакансиях регионов"
   ]
  },
  {
   "cell_type": "code",
   "execution_count": 163,
   "metadata": {},
   "outputs": [
    {
     "data": {
      "text/plain": [
       "loc_1\n",
       "город москва             14\n",
       "московская область        5\n",
       "нижегородская область     1\n",
       "самарская область         1\n",
       "тульская область          1\n",
       "пермский край             1\n",
       "ярославская область       1\n",
       "воронежская область       1\n",
       "Name: count, dtype: int64"
      ]
     },
     "execution_count": 163,
     "metadata": {},
     "output_type": "execute_result"
    }
   ],
   "source": [
    "temp_loc_ru= df_new[\"location\"].str.extract(\n",
    "    r'(?P<loc_1>Ульяновская область|Новосибирская область|Тамбовская область|Приморский край|Пермский край|Республика Башкортостан|Московская область|Республика Бурятия|Челябинская область|Свердловская область|Сахалинская область|Саратовская область|Удмуртская Республика|Смоленская область|Иркутская область|Город Москва|Красноярский край|Пензенская область|Краснодарский край|Город Санкт-Петербург|Ярославская область|Республика Карелия|Кемеровская область - Кузбасс|Самарская область|Курганская область|Астраханская область|Нижегородская область|Ставропольский край|Амурская область|Республика Дагестан|Ростовская область|Тверская область|Чувашская Республика - Чувашия|Чукотский автономный округ|Архангельская область|Орловская область|Ивановская область|Алтайский край|Омская область|Брянская область|Костромская область|Забайкальский край|Республика Татарстан (Татарстан)|Ленинградская область|Воронежская область|Вологодская область|Кировская область|Рязанская область|Республика Крым|Республика Северная Осетия - Алания|Ханты-Мансийский автономный округ - Югра|Волгоградская область|Белгородская область|Владимирская область|Луганская Народная Республика|Республика Марий Эл|Оренбургская область|Тульская область|Ямало-Ненецкий автономный округ|Курская область|Липецкая область|Республика Саха (Якутия)|Хабаровский край|Донецкая Народная Республика|Мурманская область|Псковская область|Тюменская область|Республика Хакасия|Калининградская область|Республика Коми|Калужская область|Томская область|Республика Алтай|Республика Адыгея (Адыгея)|Чеченская Республика|Кабардино-Балкарская Республика|Республика Тыва|Город Севастополь|Ненецкий автономный округ|Республика Ингушетия|Республика Мордовия|Запорожская область|Камчатский край|Республика Калмыкия|Магаданская область|Новгородская область|Еврейская автономная область|Город Байконур|Карачаево-Черкесская Республика|Херсонская область)',\n",
    "    flags=re.I, expand=True).apply(lambda x : x.str.lower())\n",
    "temp_loc_ru[\"loc_1\"][~temp_loc_ru[\"loc_1\"].isnull()].value_counts()"
   ]
  },
  {
   "cell_type": "code",
   "execution_count": 164,
   "metadata": {},
   "outputs": [
    {
     "data": {
      "text/plain": [
       "loc_1_\n",
       "москва                188\n",
       "санкт-петербург        27\n",
       "тыва                    6\n",
       "московская область      2\n",
       "нижегородская           1\n",
       "самарская               1\n",
       "ярославская             1\n",
       "воронежская             1\n",
       "Name: count, dtype: int64"
      ]
     },
     "execution_count": 164,
     "metadata": {},
     "output_type": "execute_result"
    }
   ],
   "source": [
    "temp_loc_ru_= df_new[\"location\"].str.extract(\n",
    "    r'(?P<loc_1_>Ульяновская|Новосибирская|Тамбовская|Приморский|Пермский|Башкортостан|Московская область|Бурятия|Челябинская|Свердловская|Сахалинская|Саратовская|Удмуртская|Смоленская|Иркутская|Москва|Красноярский|Пензенская|Краснодарский|Санкт-Петербург|Ярославская|Карелия|Кемеровская - Кузбасс|Самарская|Курганская|Астраханская|Нижегородская|Ставропольский|Амурская|Дагестан|Ростовская|Тверская|Чувашская - Чувашия|Чукотский|Архангельская|Орловская|Ивановская|Алтай|Омская|Брянская|Костромская|Забайкальский|Татарстан|Ленинградская|Воронежская|Вологодская|Кировская|Рязанская|Крым|Северная Осетия|Ханты-Мансийский|Волгоградская|Белгородская|Владимирская|Луганская|Марий Эл|Оренбургская|Тульская|Ямало-Ненецкий|Курская|Липецкая|Саха|Хабаровский|Донецкая|Мурманская|Псковская|Тюменская|Хакасия|Калининградская|Коми|Калужская|Томская|Адыгея|Чеченская|Кабардино-Балкарская|Тыва|Севастополь|Ненецкий|Ингушетия|Мордовия|Запорожская|Камчатский|Калмыкия|Магаданская|Новгородская|Еврейская|Байконур|Карачаево-Черкесская|Херсонская)',\n",
    "    flags=re.I, expand=True).apply(lambda x : x.str.lower())\n",
    "temp_loc_ru_[\"loc_1_\"][~temp_loc_ru_[\"loc_1_\"].isnull()].value_counts()"
   ]
  },
  {
   "cell_type": "code",
   "execution_count": 165,
   "metadata": {},
   "outputs": [
    {
     "data": {
      "text/plain": [
       "loc_2\n",
       "город москва          6\n",
       "московская область    3\n",
       "Name: count, dtype: int64"
      ]
     },
     "execution_count": 165,
     "metadata": {},
     "output_type": "execute_result"
    }
   ],
   "source": [
    "temp_loc_ru_2= df_new[\"location_2\"].str.extract(\n",
    "    r'(?P<loc_2>Ульяновская область|Новосибирская область|Тамбовская область|Приморский край|Пермский край|Республика Башкортостан|Московская область|Республика Бурятия|Челябинская область|Свердловская область|Сахалинская область|Саратовская область|Удмуртская Республика|Смоленская область|Иркутская область|Город Москва|Красноярский край|Пензенская область|Краснодарский край|Город Санкт-Петербург|Ярославская область|Республика Карелия|Кемеровская область - Кузбасс|Самарская область|Курганская область|Астраханская область|Нижегородская область|Ставропольский край|Амурская область|Республика Дагестан|Ростовская область|Тверская область|Чувашская Республика - Чувашия|Чукотский автономный округ|Архангельская область|Орловская область|Ивановская область|Алтайский край|Омская область|Брянская область|Костромская область|Забайкальский край|Республика Татарстан (Татарстан)|Ленинградская область|Воронежская область|Вологодская область|Кировская область|Рязанская область|Республика Крым|Республика Северная Осетия - Алания|Ханты-Мансийский автономный округ - Югра|Волгоградская область|Белгородская область|Владимирская область|Луганская Народная Республика|Республика Марий Эл|Оренбургская область|Тульская область|Ямало-Ненецкий автономный округ|Курская область|Липецкая область|Республика Саха (Якутия)|Хабаровский край|Донецкая Народная Республика|Мурманская область|Псковская область|Тюменская область|Республика Хакасия|Калининградская область|Республика Коми|Калужская область|Томская область|Республика Алтай|Республика Адыгея (Адыгея)|Чеченская Республика|Кабардино-Балкарская Республика|Республика Тыва|Город Севастополь|Ненецкий автономный округ|Республика Ингушетия|Республика Мордовия|Запорожская область|Камчатский край|Республика Калмыкия|Магаданская область|Новгородская область|Еврейская автономная область|Город Байконур|Карачаево-Черкесская Республика|Херсонская область)',\n",
    "    flags=re.I, expand=True).apply(lambda x : x.str.lower())\n",
    "temp_loc_ru_2[\"loc_2\"][~temp_loc_ru_2[\"loc_2\"].isnull()].value_counts()"
   ]
  },
  {
   "cell_type": "code",
   "execution_count": 166,
   "metadata": {},
   "outputs": [
    {
     "data": {
      "text/plain": [
       "loc_2_\n",
       "москва                153\n",
       "санкт-петербург        38\n",
       "тыва                    1\n",
       "московская область      1\n",
       "курская                 1\n",
       "татарстан               1\n",
       "Name: count, dtype: int64"
      ]
     },
     "execution_count": 166,
     "metadata": {},
     "output_type": "execute_result"
    }
   ],
   "source": [
    "temp_loc_ru_2_= df_new[\"location_2\"].str.extract(\n",
    "    r'(?P<loc_2_>Ульяновская|Новосибирская|Тамбовская|Приморский|Пермский|Башкортостан|Московская область|Бурятия|Челябинская|Свердловская|Сахалинская|Саратовская|Удмуртская|Смоленская|Иркутская|Москва|Красноярский|Пензенская|Краснодарский|Санкт-Петербург|Ярославская|Карелия|Кемеровская - Кузбасс|Самарская|Курганская|Астраханская|Нижегородская|Ставропольский|Амурская|Дагестан|Ростовская|Тверская|Чувашская - Чувашия|Чукотский|Архангельская|Орловская|Ивановская|Алтай|Омская|Брянская|Костромская|Забайкальский|Татарстан|Ленинградская|Воронежская|Вологодская|Кировская|Рязанская|Крым|Северная Осетия|Ханты-Мансийский|Волгоградская|Белгородская|Владимирская|Луганская|Марий Эл|Оренбургская|Тульская|Ямало-Ненецкий|Курская|Липецкая|Саха|Хабаровский|Донецкая|Мурманская|Псковская|Тюменская|Хакасия|Калининградская|Коми|Калужская|Томская|Адыгея|Чеченская|Кабардино-Балкарская|Тыва|Севастополь|Ненецкий|Ингушетия|Мордовия|Запорожская|Камчатский|Калмыкия|Магаданская|Новгородская|Еврейская|Байконур|Карачаево-Черкесская|Херсонская)',\n",
    "    flags=re.I, expand=True).apply(lambda x : x.str.lower())\n",
    "temp_loc_ru_2_[\"loc_2_\"][~temp_loc_ru_2_[\"loc_2_\"].isnull()].value_counts()"
   ]
  },
  {
   "cell_type": "code",
   "execution_count": 167,
   "metadata": {},
   "outputs": [
    {
     "data": {
      "text/plain": [
       "loc_3\n",
       "the city of moscow    5\n",
       "moscow region         2\n",
       "Name: count, dtype: int64"
      ]
     },
     "execution_count": 167,
     "metadata": {},
     "output_type": "execute_result"
    }
   ],
   "source": [
    "temp_loc_eng= df_new[\"location\"].str.extract(\n",
    "    r'(?P<loc_3>Ulyanovsk region|Novosibirsk region|Tambov region|Primorsky Krai|Perm Region|Republic of Bashkortostan|Moscow region|Republic of Buryatia|Chelyabinsk region|Sverdlovsk region|Sakhalin region|Saratov region|Udmurt Republic|Smolensk region|Irkutsk region|The city of Moscow|Krasnoyarsk Territory|Penza region|Krasnodar Territory|The city of Saint Petersburg|Yaroslavl region|Republic of Karelia|Kemerovo Region - Kuzbass|Samara region|Kurgan region|Astrakhan region|Nizhny Novgorod region|Stavropol Territory|Amur region|Republic of Dagestan|Rostov region|Tver region|Chuvash Republic - Chuvashia|Chukotka Autonomous Okrug|Arkhangelsk region|Oryol region|Ivanovo region|Altai Territory|Omsk region|Bryansk region|Kostroma region|Trans-Baikal Territory|Republic of Tatarstan (Tatarstan)|Leningrad Region|Voronezh Region|Vologda region|Kirov region|Ryazan region|Republic of Crimea|Republic of North Ossetia - Alania|Khanty-Mansiysk Autonomous Okrug - Yugra|Volgograd region|Belgorod region|Vladimir region|Luhansk People\"s Republic|Republic of Mari El|Orenburg region|Tula region|Yamalo-Nenets Autonomous Okrug|Kursk region|Lipetsk region|The Republic of Sakha (Yakutia)|Khabarovsk Territory|Donetsk People\"s Republic|Murmansk region|Pskov region|Tyumen region|Republic of Khakassia|Kaliningrad region|Komi Republic|Kaluga Region|Tomsk region|Altai Republic|Republic of Adygea (Adygea)|Chechen Republic|Kabardino-Balkarian Republic|Republic of Tyva|The city of Sevastopol|Nenets Autonomous Okrug|Republic of Ingushetia|Republic of Mordovia|Zaporizhia region|Kamchatka Territory|Republic of Kalmykia|Magadan region|Novgorod region|Jewish Autonomous Region|The city of Baikonur|Karachay-Cherkess Republic|Kherson region)',\n",
    "    flags=re.I, expand=True).apply(lambda x : x.str.lower())\n",
    "temp_loc_eng[\"loc_3\"][~temp_loc_eng[\"loc_3\"].isnull()].value_counts()"
   ]
  },
  {
   "cell_type": "code",
   "execution_count": 168,
   "metadata": {},
   "outputs": [
    {
     "data": {
      "text/plain": [
       "loc_3_\n",
       "moscow              252\n",
       "saint petersburg     28\n",
       "tatarstan             7\n",
       "sverdlovsk            2\n",
       "nizhny novgorod       2\n",
       "voronezh              2\n",
       "rostov                2\n",
       "krasnodar             1\n",
       "samara                1\n",
       "khabarovsk            1\n",
       "novosibirsk           1\n",
       "Name: count, dtype: int64"
      ]
     },
     "execution_count": 168,
     "metadata": {},
     "output_type": "execute_result"
    }
   ],
   "source": [
    "temp_loc_eng_= df_new[\"location\"].str.extract(\n",
    "    r'(?P<loc_3_>Ulyanovsk|Novosibirsk|Tambov|Primorsky|Perm|Bashkortostan|Moscow region|Buryatia|Chelyabinsk|Sverdlovsk|Sakhalin|Saratov|Udmurt|Smolensk|Irkutsk|Moscow|Krasnoyarsk|Penza|Krasnodar|Saint Petersburg|Yaroslavl|Karelia|Kemerovo - Kuzbass|Samara|Kurgan|Astrakhan|Nizhny Novgorod|Stavropol|Amur|Dagestan|Rostov|Tver|Chuvash - Chuvashia|Chukotka|Arkhangelsk|Oryol|Ivanovo|Altai|Omsk|Bryansk|Kostroma|Trans-Baikal|Tatarstan|Leningrad|Voronezh|Vologda|Kirov|Ryazan|Crimea|North Ossetia|Khanty-Mansiysk|Volgograd|Belgorod|Vladimir|Luhansk|Mari El|Orenburg|Tula|Yamalo-Nenets|Kursk|Lipetsk|Sakha|Khabarovsk|Donetsk|Murmansk|Pskov|Tyumen|Khakassia|Kaliningrad|Komi|Kaluga|Tomsk|Adygea|Chechen|Kabardino-Balkarian|Tyva|Sevastopol|Nenets|Ingushetia|Mordovia|Zaporizhia|Kamchatka|Kalmykia|Magadan|Novgorod|Jewish|Baikonur|Karachay-Cherkess|Kherson)',\n",
    "    flags=re.I, expand=True).apply(lambda x : x.str.lower())\n",
    "temp_loc_eng_[\"loc_3_\"][~temp_loc_eng_[\"loc_3_\"].isnull()].value_counts()"
   ]
  },
  {
   "cell_type": "code",
   "execution_count": 169,
   "metadata": {},
   "outputs": [
    {
     "data": {
      "text/plain": [
       "Series([], Name: count, dtype: int64)"
      ]
     },
     "execution_count": 169,
     "metadata": {},
     "output_type": "execute_result"
    }
   ],
   "source": [
    "temp_loc_eng_2= df_new[\"location_2\"].str.extract(\n",
    "    r'(?P<loc_4>Ulyanovsk region|Novosibirsk region|Tambov region|Primorsky Krai|Perm Region|Republic of Bashkortostan|Moscow region|Republic of Buryatia|Chelyabinsk region|Sverdlovsk region|Sakhalin region|Saratov region|Udmurt Republic|Smolensk region|Irkutsk region|The city of Moscow|Krasnoyarsk Territory|Penza region|Krasnodar Territory|The city of Saint Petersburg|Yaroslavl region|Republic of Karelia|Kemerovo Region - Kuzbass|Samara region|Kurgan region|Astrakhan region|Nizhny Novgorod region|Stavropol Territory|Amur region|Republic of Dagestan|Rostov region|Tver region|Chuvash Republic - Chuvashia|Chukotka Autonomous Okrug|Arkhangelsk region|Oryol region|Ivanovo region|Altai Territory|Omsk region|Bryansk region|Kostroma region|Trans-Baikal Territory|Republic of Tatarstan (Tatarstan)|Leningrad Region|Voronezh Region|Vologda region|Kirov region|Ryazan region|Republic of Crimea|Republic of North Ossetia - Alania|Khanty-Mansiysk Autonomous Okrug - Yugra|Volgograd region|Belgorod region|Vladimir region|Luhansk People\"s Republic|Republic of Mari El|Orenburg region|Tula region|Yamalo-Nenets Autonomous Okrug|Kursk region|Lipetsk region|The Republic of Sakha (Yakutia)|Khabarovsk Territory|Donetsk People\"s Republic|Murmansk region|Pskov region|Tyumen region|Republic of Khakassia|Kaliningrad region|Komi Republic|Kaluga Region|Tomsk region|Altai Republic|Republic of Adygea (Adygea)|Chechen Republic|Kabardino-Balkarian Republic|Republic of Tyva|The city of Sevastopol|Nenets Autonomous Okrug|Republic of Ingushetia|Republic of Mordovia|Zaporizhia region|Kamchatka Territory|Republic of Kalmykia|Magadan region|Novgorod region|Jewish Autonomous Region|The city of Baikonur|Karachay-Cherkess Republic|Kherson region)',\n",
    "    flags=re.I, expand=True).apply(lambda x : x.str.lower())\n",
    "temp_loc_eng_2[\"loc_4\"][~temp_loc_eng_2[\"loc_4\"].isnull()].value_counts()"
   ]
  },
  {
   "cell_type": "code",
   "execution_count": 170,
   "metadata": {},
   "outputs": [
    {
     "data": {
      "text/plain": [
       "loc_4_\n",
       "moscow              7\n",
       "yaroslavl           1\n",
       "saint petersburg    1\n",
       "Name: count, dtype: int64"
      ]
     },
     "execution_count": 170,
     "metadata": {},
     "output_type": "execute_result"
    }
   ],
   "source": [
    "temp_loc_eng_2_= df_new[\"location_2\"].str.extract(\n",
    "    r'(?P<loc_4_>Ulyanovsk|Novosibirsk|Tambov|Primorsky|Perm|Bashkortostan|Moscow region|Buryatia|Chelyabinsk|Sverdlovsk|Sakhalin|Saratov|Udmurt|Smolensk|Irkutsk|Moscow|Krasnoyarsk|Penza|Krasnodar|Saint Petersburg|Yaroslavl|Karelia|Kemerovo - Kuzbass|Samara|Kurgan|Astrakhan|Nizhny Novgorod|Stavropol|Amur|Dagestan|Rostov|Tver|Chuvash - Chuvashia|Chukotka|Arkhangelsk|Oryol|Ivanovo|Altai|Omsk|Bryansk|Kostroma|Trans-Baikal|Tatarstan|Leningrad|Voronezh|Vologda|Kirov|Ryazan|Crimea|North Ossetia|Khanty-Mansiysk|Volgograd|Belgorod|Vladimir|Luhansk|Mari El|Orenburg|Tula|Yamalo-Nenets|Kursk|Lipetsk|Sakha|Khabarovsk|Donetsk|Murmansk|Pskov|Tyumen|Khakassia|Kaliningrad|Komi|Kaluga|Tomsk|Adygea|Chechen|Kabardino-Balkarian|Tyva|Sevastopol|Nenets|Ingushetia|Mordovia|Zaporizhia|Kamchatka|Kalmykia|Magadan|Novgorod|Jewish|Baikonur|Karachay-Cherkess|Kherson)',\n",
    "    flags=re.I, expand=True).apply(lambda x : x.str.lower())\n",
    "temp_loc_eng_2_[\"loc_4_\"][~temp_loc_eng_2_[\"loc_4_\"].isnull()].value_counts()"
   ]
  },
  {
   "cell_type": "markdown",
   "metadata": {},
   "source": [
    "Объединяем локации в один столбец"
   ]
  },
  {
   "cell_type": "code",
   "execution_count": 171,
   "metadata": {},
   "outputs": [
    {
     "data": {
      "text/html": [
       "<div>\n",
       "<style scoped>\n",
       "    .dataframe tbody tr th:only-of-type {\n",
       "        vertical-align: middle;\n",
       "    }\n",
       "\n",
       "    .dataframe tbody tr th {\n",
       "        vertical-align: top;\n",
       "    }\n",
       "\n",
       "    .dataframe thead th {\n",
       "        text-align: right;\n",
       "    }\n",
       "</style>\n",
       "<table border=\"1\" class=\"dataframe\">\n",
       "  <thead>\n",
       "    <tr style=\"text-align: right;\">\n",
       "      <th></th>\n",
       "      <th>loc_1</th>\n",
       "      <th>loc_1_</th>\n",
       "      <th>loc_2</th>\n",
       "      <th>loc_2_</th>\n",
       "      <th>loc_3</th>\n",
       "      <th>loc_3_</th>\n",
       "      <th>loc_4</th>\n",
       "      <th>loc_4_</th>\n",
       "    </tr>\n",
       "  </thead>\n",
       "  <tbody>\n",
       "    <tr>\n",
       "      <th>1</th>\n",
       "      <td>NaN</td>\n",
       "      <td>NaN</td>\n",
       "      <td>NaN</td>\n",
       "      <td>NaN</td>\n",
       "      <td>NaN</td>\n",
       "      <td>NaN</td>\n",
       "      <td>NaN</td>\n",
       "      <td>NaN</td>\n",
       "    </tr>\n",
       "    <tr>\n",
       "      <th>2</th>\n",
       "      <td>NaN</td>\n",
       "      <td>NaN</td>\n",
       "      <td>NaN</td>\n",
       "      <td>NaN</td>\n",
       "      <td>NaN</td>\n",
       "      <td>NaN</td>\n",
       "      <td>NaN</td>\n",
       "      <td>NaN</td>\n",
       "    </tr>\n",
       "    <tr>\n",
       "      <th>3</th>\n",
       "      <td>NaN</td>\n",
       "      <td>NaN</td>\n",
       "      <td>NaN</td>\n",
       "      <td>NaN</td>\n",
       "      <td>NaN</td>\n",
       "      <td>NaN</td>\n",
       "      <td>NaN</td>\n",
       "      <td>NaN</td>\n",
       "    </tr>\n",
       "    <tr>\n",
       "      <th>4</th>\n",
       "      <td>NaN</td>\n",
       "      <td>NaN</td>\n",
       "      <td>NaN</td>\n",
       "      <td>NaN</td>\n",
       "      <td>NaN</td>\n",
       "      <td>krasnodar</td>\n",
       "      <td>NaN</td>\n",
       "      <td>NaN</td>\n",
       "    </tr>\n",
       "    <tr>\n",
       "      <th>5</th>\n",
       "      <td>NaN</td>\n",
       "      <td>NaN</td>\n",
       "      <td>NaN</td>\n",
       "      <td>NaN</td>\n",
       "      <td>NaN</td>\n",
       "      <td>moscow</td>\n",
       "      <td>NaN</td>\n",
       "      <td>NaN</td>\n",
       "    </tr>\n",
       "  </tbody>\n",
       "</table>\n",
       "</div>"
      ],
      "text/plain": [
       "  loc_1 loc_1_ loc_2 loc_2_ loc_3     loc_3_ loc_4 loc_4_\n",
       "1   NaN    NaN   NaN    NaN   NaN        NaN   NaN    NaN\n",
       "2   NaN    NaN   NaN    NaN   NaN        NaN   NaN    NaN\n",
       "3   NaN    NaN   NaN    NaN   NaN        NaN   NaN    NaN\n",
       "4   NaN    NaN   NaN    NaN   NaN  krasnodar   NaN    NaN\n",
       "5   NaN    NaN   NaN    NaN   NaN     moscow   NaN    NaN"
      ]
     },
     "execution_count": 171,
     "metadata": {},
     "output_type": "execute_result"
    }
   ],
   "source": [
    "temp_loc_ru = pd.merge(temp_loc_ru[\"loc_1\"],\n",
    "                      temp_loc_ru_[\"loc_1_\"],\n",
    "                      left_index=True, right_index=True)\n",
    "temp_loc_ru_2 = pd.merge(temp_loc_ru_2[\"loc_2\"],\n",
    "                      temp_loc_ru_2_[\"loc_2_\"],\n",
    "                      left_index=True, right_index=True)\n",
    "temp_loc_ru_ = pd.merge(temp_loc_ru,\n",
    "                      temp_loc_ru_2,\n",
    "                      left_index=True, right_index=True)\n",
    "temp_loc_eng = pd.merge(temp_loc_eng[\"loc_3\"],\n",
    "                      temp_loc_eng_[\"loc_3_\"],\n",
    "                      left_index=True, right_index=True)\n",
    "temp_loc_eng_2 = pd.merge(temp_loc_eng_2[\"loc_4\"],\n",
    "                      temp_loc_eng_2_[\"loc_4_\"],\n",
    "                      left_index=True, right_index=True)\n",
    "temp_loc_eng_ = pd.merge(temp_loc_eng,\n",
    "                      temp_loc_eng_2,\n",
    "                      left_index=True, right_index=True)\n",
    "temp_loc = pd.merge(temp_loc_ru_,\n",
    "                      temp_loc_eng_,\n",
    "                      left_index=True, right_index=True)\n",
    "temp_loc.head()"
   ]
  },
  {
   "cell_type": "code",
   "execution_count": 172,
   "metadata": {},
   "outputs": [],
   "source": [
    "for col in temp_loc.columns:\n",
    "    temp_loc['loc_1'] = temp_loc.apply(lambda row: row[col] if pd.isnull(row['loc_1']) else row['loc_1'],axis=1)"
   ]
  },
  {
   "cell_type": "code",
   "execution_count": 173,
   "metadata": {},
   "outputs": [
    {
     "data": {
      "text/plain": [
       "array([nan, 'krasnodar', 'moscow', 'москва', 'санкт-петербург',\n",
       "       'saint petersburg', 'город москва', 'sverdlovsk', 'tatarstan',\n",
       "       'samara', 'нижегородская область', 'тыва', 'московская область',\n",
       "       'самарская область', 'moscow region', 'the city of moscow',\n",
       "       'тульская область', 'nizhny novgorod', 'пермский край',\n",
       "       'ярославская область', 'воронежская область', 'voronezh',\n",
       "       'khabarovsk', 'rostov', 'татарстан', 'novosibirsk'], dtype=object)"
      ]
     },
     "execution_count": 173,
     "metadata": {},
     "output_type": "execute_result"
    }
   ],
   "source": [
    "temp_loc.loc_1.unique()"
   ]
  },
  {
   "cell_type": "markdown",
   "metadata": {},
   "source": [
    "Привожу выявленные локации к одному виду, так как планирую их использовать категориальными признаками. Так же их далее буду обогощать данными о принадлежности к федеральным округам."
   ]
  },
  {
   "cell_type": "code",
   "execution_count": 174,
   "metadata": {},
   "outputs": [
    {
     "data": {
      "text/plain": [
       "loc_1\n",
       "Москва                              255\n",
       "Санкт-Петербург                      39\n",
       "Республика Татарстан (Татарстан)      7\n",
       "Республика Тыва                       7\n",
       "Московская область                    7\n",
       "Свердловская область                  2\n",
       "Самарская область                     2\n",
       "Нижегородская область                 2\n",
       "Воронежская область                   2\n",
       "Краснодарский край                    1\n",
       "Тульская область                      1\n",
       "Пермский край                         1\n",
       "Ярославская область                   1\n",
       "Хабаровский край                      1\n",
       "Ростовская область                    1\n",
       "Новосибирская область                 1\n",
       "Name: count, dtype: int64"
      ]
     },
     "execution_count": 174,
     "metadata": {},
     "output_type": "execute_result"
    }
   ],
   "source": [
    "temp_loc[\"loc_1\"]=temp_loc[\"loc_1\"].map({\"krasnodar\":\"Краснодарский край\",\n",
    "                                            \"moscow\":\"Москва\",\"москва\":\"Москва\", \"the city of moscow\":\"Москва\",\"город москва\":\"Москва\",\n",
    "                                            \"санкт-петербург\":\"Санкт-Петербург\",\"saint petersburg\":\"Санкт-Петербург\",\n",
    "                                            \"sverdlovsk\":\"Свердловская область\",\n",
    "                                            \"republic of tatarstan\":\"Республика Татарстан (Татарстан)\",\"республика татарстан\":\"Республика Татарстан (Татарстан)\",\"tatarstan\":\"Республика Татарстан (Татарстан)\",\"татарстан\":\"Республика Татарстан (Татарстан)\",\n",
    "                                            \"samara\":\"Самарская область\",\"самарская область\":\"Самарская область\",\n",
    "                                            \"нижегородская область\":\"Нижегородская область\",\"nizhny novgorod\":\"Нижегородская область\",\n",
    "                                            \"ярославская область\":\"Ярославская область\",\n",
    "                                            \"московская область\":\"Московская область\", \"moscow region\":\"Московская область\",\n",
    "                                            \"воронежская область\":\"Воронежская область\",\"voronezh\":\"Воронежская область\",\n",
    "                                            \"kurgan\":\"Курганская область\",\n",
    "                                            \"пермский край\":\"Пермский край\",\n",
    "                                            \"тульская область\":\"Тульская область\",\n",
    "                                            \"тыва\":\"Республика Тыва\",\n",
    "                                            \"donetsk\":\"Донецкая Народная Республика\",\n",
    "                                            \"khabarovsk\":\"Хабаровский край\",\n",
    "                                            \"rostov\":\"Ростовская область\",\n",
    "                                            \"novosibirsk\":\"Новосибирская область\"})\n",
    "\n",
    "temp_loc[\"loc_1\"].value_counts()"
   ]
  },
  {
   "cell_type": "code",
   "execution_count": 175,
   "metadata": {},
   "outputs": [],
   "source": [
    "\n",
    "df_new[\"loc\"] = temp_loc.loc_1"
   ]
  },
  {
   "cell_type": "markdown",
   "metadata": {},
   "source": [
    "Вакансиям без выявленных локаций присвою новую категорию \"Not_location\""
   ]
  },
  {
   "cell_type": "code",
   "execution_count": 176,
   "metadata": {},
   "outputs": [
    {
     "data": {
      "text/plain": [
       "674"
      ]
     },
     "execution_count": 176,
     "metadata": {},
     "output_type": "execute_result"
    }
   ],
   "source": [
    "df_new[\"loc\"].fillna(\"Not_location\", inplace=True)\n",
    "df_new[\"loc\"].value_counts()\n",
    "df_new[\"loc\"].count()"
   ]
  },
  {
   "cell_type": "markdown",
   "metadata": {},
   "source": [
    "Обогощаю данные номером Федерального округа"
   ]
  },
  {
   "cell_type": "code",
   "execution_count": 211,
   "metadata": {},
   "outputs": [
    {
     "data": {
      "text/plain": [
       "673"
      ]
     },
     "execution_count": 211,
     "metadata": {},
     "output_type": "execute_result"
    }
   ],
   "source": [
    "d= {'Ульяновская область': '4.0',\n",
    " 'Новосибирская область': '6.0',\n",
    " 'Тамбовская область': '1.0',\n",
    " 'Приморский край': '7.0',\n",
    " 'Пермский край': '4.0',\n",
    " 'Республика Башкортостан': '4.0',\n",
    " 'Московская область': '1.0',\n",
    " 'Республика Бурятия': '7.0',\n",
    " 'Челябинская область': '5.0',\n",
    " 'Свердловская область': '5.0',\n",
    " 'Сахалинская область': '7.0',\n",
    " 'Саратовская область': '4.0',\n",
    " 'Удмуртская Республика': '4.0',\n",
    " 'Смоленская область': '1.0',\n",
    " 'Иркутская область': '6.0',\n",
    " 'Москва': '1.0',\n",
    " 'Красноярский край': '6.0',\n",
    " 'Пензенская область': '4.0',\n",
    " 'Краснодарский край': '3.0',\n",
    " 'Санкт-Петербург': '2.0',\n",
    " 'Ярославская область': '1.0',\n",
    " 'Республика Карелия': '2.0',\n",
    " 'Кемеровская область - Кузбасс': '6.0',\n",
    " 'Самарская область': '4.0',\n",
    " 'Курганская область': '5.0',\n",
    " 'Астраханская область': '3.0',\n",
    " 'Нижегородская область': '4.0',\n",
    " 'Ставропольский край': '8.0',\n",
    " 'Амурская область': '7.0',\n",
    " 'Республика Дагестан': '8.0',\n",
    " 'Ростовская область': '3.0',\n",
    " 'Тверская область': '1.0',\n",
    " 'Чувашская Республика - Чувашия': '4.0',\n",
    " 'Чукотский автономный округ': '7.0',\n",
    " 'Архангельская область': '2.0',\n",
    " 'Орловская область': '1.0',\n",
    " 'Ивановская область': '1.0',\n",
    " 'Алтайский край': '6.0',\n",
    " 'Омская область': '6.0',\n",
    " 'Брянская область': '1.0',\n",
    " 'Костромская область': '1.0',\n",
    " 'Забайкальский край': '7.0',\n",
    " 'Республика Татарстан (Татарстан)': '4.0',\n",
    " 'Ленинградская область': '2.0',\n",
    " 'Воронежская область': '1.0',\n",
    " 'Вологодская область': '2.0',\n",
    " 'Кировская область': '4.0',\n",
    " 'Рязанская область': '1.0',\n",
    " 'Республика Крым': '3.0',\n",
    " 'Республика Северная Осетия - Алания': '8.0',\n",
    " 'Ханты-Мансийский автономный округ - Югра': '5.0',\n",
    " 'Волгоградская область': '3.0',\n",
    " 'Белгородская область': '1.0',\n",
    " 'Владимирская область': '1.0',\n",
    " 'Луганская Народная Республика': '3.0',\n",
    " 'Республика Марий Эл': '4.0',\n",
    " 'Оренбургская область': '4.0',\n",
    " 'Тульская область': '1.0',\n",
    " 'Ямало-Ненецкий автономный округ': '5.0',\n",
    " 'Курская область': '1.0',\n",
    " 'Липецкая область': '1.0',\n",
    " 'Республика Саха (Якутия)': '7.0',\n",
    " 'Хабаровский край': '7.0',\n",
    " 'Донецкая Народная Республика': '3.0',\n",
    " 'Мурманская область': '2.0',\n",
    " 'Псковская область': '2.0',\n",
    " 'Тюменская область': '5.0',\n",
    " 'Республика Хакасия': '6.0',\n",
    " 'Калининградская область': '2.0',\n",
    " 'Республика Коми': '2.0',\n",
    " 'Калужская область': '1.0',\n",
    " 'Томская область': '6.0',\n",
    " 'Республика Алтай': '6.0',\n",
    " 'Республика Адыгея (Адыгея)': '3.0',\n",
    " 'Чеченская Республика': '8.0',\n",
    " 'Кабардино-Балкарская Республика': '8.0',\n",
    " 'Республика Тыва': '6.0',\n",
    " 'Город Севастополь': '3.0',\n",
    " 'Ненецкий автономный округ': '2.0',\n",
    " 'Республика Ингушетия': '8.0',\n",
    " 'Республика Мордовия': '4.0',\n",
    " 'Запорожская область': '3.0',\n",
    " 'Камчатский край': '7.0',\n",
    " 'Республика Калмыкия': '3.0',\n",
    " 'Магаданская область': '7.0',\n",
    " 'Новгородская область': '2.0',\n",
    " 'Еврейская автономная область': '7.0',\n",
    " 'Город Байконур': '9.0',\n",
    " 'Карачаево-Черкесская Республика': '8.0',\n",
    " 'Херсонская область': '3.0'}\n",
    "\n",
    "df_new[\"federalDistrictCode\"] = df_new[\"loc\"].map(d)\n",
    "df_new[\"federalDistrictCode\"].fillna(\"Not_cod\", inplace=True)\n",
    "df_new[\"federalDistrictCode\"].count()"
   ]
  },
  {
   "cell_type": "code",
   "execution_count": 215,
   "metadata": {},
   "outputs": [
    {
     "data": {
      "text/html": [
       "<div>\n",
       "<style scoped>\n",
       "    .dataframe tbody tr th:only-of-type {\n",
       "        vertical-align: middle;\n",
       "    }\n",
       "\n",
       "    .dataframe tbody tr th {\n",
       "        vertical-align: top;\n",
       "    }\n",
       "\n",
       "    .dataframe thead th {\n",
       "        text-align: right;\n",
       "    }\n",
       "</style>\n",
       "<table border=\"1\" class=\"dataframe\">\n",
       "  <thead>\n",
       "    <tr style=\"text-align: right;\">\n",
       "      <th></th>\n",
       "      <th>location</th>\n",
       "      <th>location_2</th>\n",
       "      <th>type_schedule</th>\n",
       "      <th>shedul</th>\n",
       "      <th>type_busy</th>\n",
       "      <th>format_job</th>\n",
       "      <th>skills</th>\n",
       "      <th>experience</th>\n",
       "      <th>salary</th>\n",
       "      <th>salary_min</th>\n",
       "      <th>salary_max</th>\n",
       "      <th>salary_mean</th>\n",
       "      <th>descr_vac</th>\n",
       "      <th>job</th>\n",
       "      <th>qual</th>\n",
       "      <th>loc</th>\n",
       "      <th>federalDistrictCode</th>\n",
       "      <th>descr_vac_</th>\n",
       "      <th>skills_2</th>\n",
       "    </tr>\n",
       "  </thead>\n",
       "  <tbody>\n",
       "    <tr>\n",
       "      <th>1</th>\n",
       "      <td>The job vacancy does not specify a particular...</td>\n",
       "      <td>В данном тексте вакансии указано, что формат ...</td>\n",
       "      <td>В данной вакансии указано, что формат работы ...</td>\n",
       "      <td>В данном тексте вакансии на русском языке ука...</td>\n",
       "      <td>remote</td>\n",
       "      <td>Based on the job listing text in Russian, the...</td>\n",
       "      <td>Based on the provided job posting in Russian,...</td>\n",
       "      <td>В данном объявлении о вакансии требуется комм...</td>\n",
       "      <td>В тексте вакансии указано, что предлагаемая з...</td>\n",
       "      <td>160000.0</td>\n",
       "      <td>0.0</td>\n",
       "      <td>80000.0</td>\n",
       "      <td>#вакансия #удаленка #middle+ #са #системныйана...</td>\n",
       "      <td>системный аналитик</td>\n",
       "      <td>middle</td>\n",
       "      <td>Not_location</td>\n",
       "      <td>Not_cod</td>\n",
       "      <td>+   Вакансия: системный аналитик Занятость: ...</td>\n",
       "      <td>Java,Scala,JMS,kafka,Python,REST,UX,UML,UI,JSO...</td>\n",
       "    </tr>\n",
       "    <tr>\n",
       "      <th>2</th>\n",
       "      <td>Based on the job vacancy description provided...</td>\n",
       "      <td>В данном объявлении о вакансии место работы у...</td>\n",
       "      <td>The job posting in Russian indicates that the...</td>\n",
       "      <td>В объявлении о вакансии указано следующее рас...</td>\n",
       "      <td>remote</td>\n",
       "      <td>The job listing text is for a remote work for...</td>\n",
       "      <td>Based on the provided job posting in Russian,...</td>\n",
       "      <td>В данной вакансии указано, что требуемый опыт...</td>\n",
       "      <td>The offered salary in the job posting text is...</td>\n",
       "      <td>150000.0</td>\n",
       "      <td>230000.0</td>\n",
       "      <td>190000.0</td>\n",
       "      <td>#вакансия #middle #remote **Требуются ML-инжен...</td>\n",
       "      <td>data scientist</td>\n",
       "      <td>middle</td>\n",
       "      <td>Not_location</td>\n",
       "      <td>Not_cod</td>\n",
       "      <td>**Требуются ML-инженеры и s** ** **Формат р...</td>\n",
       "      <td>Computer Vision,ML</td>\n",
       "    </tr>\n",
       "    <tr>\n",
       "      <th>3</th>\n",
       "      <td>The job vacancy mentions \"Локация: Россия,\" w...</td>\n",
       "      <td>Локация, указанная в данной вакансии, находит...</td>\n",
       "      <td>В данном объявлении о вакансии не указан конк...</td>\n",
       "      <td>В данном объявлении о вакансии не указан конк...</td>\n",
       "      <td>full-time</td>\n",
       "      <td>На основании текста вакансии, можно сделать в...</td>\n",
       "      <td>Основные требуемые навыки для вакансии Middle...</td>\n",
       "      <td>В данной вакансии не указан конкретный требуе...</td>\n",
       "      <td>В данном объявлении о вакансии предлагаемая з...</td>\n",
       "      <td>240000.0</td>\n",
       "      <td>270000.0</td>\n",
       "      <td>255000.0</td>\n",
       "      <td>#вакансия #аналитикданных #SQL #AB #статистика...</td>\n",
       "      <td>data analyst</td>\n",
       "      <td>middle</td>\n",
       "      <td>Not_location</td>\n",
       "      <td>Not_cod</td>\n",
       "      <td>💡Вакансия: ** Дата Аналитик** 🥚Компания:...</td>\n",
       "      <td>Invite IT,KION,Well,being,DS,Premium,SQL,CLV,B...</td>\n",
       "    </tr>\n",
       "    <tr>\n",
       "      <th>4</th>\n",
       "      <td>The job vacancy specifies the region as \"Крас...</td>\n",
       "      <td>Город работы указан как \"Краснодар\".</td>\n",
       "      <td>В job posting указано \"Занятость: полный день...</td>\n",
       "      <td>В данном объявлении о вакансии указано, что г...</td>\n",
       "      <td>full-time</td>\n",
       "      <td>Формат работы: офис\\удаленка (гибридный)</td>\n",
       "      <td>На основе предоставленного текста, необходимы...</td>\n",
       "      <td>В тексте вакансии не указан конкретный опыт р...</td>\n",
       "      <td>В данном объявлении о вакансии указана следую...</td>\n",
       "      <td>150000.0</td>\n",
       "      <td>200000.0</td>\n",
       "      <td>175000.0</td>\n",
       "      <td>#вакансия #Системныйаналитик #Бизнес_аналитик ...</td>\n",
       "      <td>системный аналитик</td>\n",
       "      <td>middle</td>\n",
       "      <td>Краснодарский край</td>\n",
       "      <td>3.0</td>\n",
       "      <td>🚀 Вакансия: Системный аналитик / Бизнес-...</td>\n",
       "      <td>net,SQL,Oracle,PosgreSQL</td>\n",
       "    </tr>\n",
       "    <tr>\n",
       "      <th>5</th>\n",
       "      <td>The job vacancy you provided does not explici...</td>\n",
       "      <td>В данном объявлении о вакансии место работы у...</td>\n",
       "      <td>The job posting indicates a \"Full-time\" work ...</td>\n",
       "      <td>В данной вакансии указано следующее расписани...</td>\n",
       "      <td>full-time</td>\n",
       "      <td>The job listing text in Russian matches the *...</td>\n",
       "      <td>Основные требования к кандидату: - Уверенное ...</td>\n",
       "      <td>В данном объявлении о вакансии требуется след...</td>\n",
       "      <td>В данном объявлении о вакансии предлагается з...</td>\n",
       "      <td>250000.0</td>\n",
       "      <td>0.0</td>\n",
       "      <td>125000.0</td>\n",
       "      <td>#вакансия #инженер #engineer #DataEngineer #mi...</td>\n",
       "      <td>data engineer</td>\n",
       "      <td>middle</td>\n",
       "      <td>Москва</td>\n",
       "      <td>1.0</td>\n",
       "      <td>Компания: Sever X Формат: удален...</td>\n",
       "      <td>ETL,Impala,ODBC,API,Docker,pandas,GitLab,Redis...</td>\n",
       "    </tr>\n",
       "  </tbody>\n",
       "</table>\n",
       "</div>"
      ],
      "text/plain": [
       "                                            location  \\\n",
       "1   The job vacancy does not specify a particular...   \n",
       "2   Based on the job vacancy description provided...   \n",
       "3   The job vacancy mentions \"Локация: Россия,\" w...   \n",
       "4   The job vacancy specifies the region as \"Крас...   \n",
       "5   The job vacancy you provided does not explici...   \n",
       "\n",
       "                                          location_2  \\\n",
       "1   В данном тексте вакансии указано, что формат ...   \n",
       "2   В данном объявлении о вакансии место работы у...   \n",
       "3   Локация, указанная в данной вакансии, находит...   \n",
       "4               Город работы указан как \"Краснодар\".   \n",
       "5   В данном объявлении о вакансии место работы у...   \n",
       "\n",
       "                                       type_schedule  \\\n",
       "1   В данной вакансии указано, что формат работы ...   \n",
       "2   The job posting in Russian indicates that the...   \n",
       "3   В данном объявлении о вакансии не указан конк...   \n",
       "4   В job posting указано \"Занятость: полный день...   \n",
       "5   The job posting indicates a \"Full-time\" work ...   \n",
       "\n",
       "                                              shedul  type_busy  \\\n",
       "1   В данном тексте вакансии на русском языке ука...     remote   \n",
       "2   В объявлении о вакансии указано следующее рас...     remote   \n",
       "3   В данном объявлении о вакансии не указан конк...  full-time   \n",
       "4   В данном объявлении о вакансии указано, что г...  full-time   \n",
       "5   В данной вакансии указано следующее расписани...  full-time   \n",
       "\n",
       "                                          format_job  \\\n",
       "1   Based on the job listing text in Russian, the...   \n",
       "2   The job listing text is for a remote work for...   \n",
       "3   На основании текста вакансии, можно сделать в...   \n",
       "4           Формат работы: офис\\удаленка (гибридный)   \n",
       "5   The job listing text in Russian matches the *...   \n",
       "\n",
       "                                              skills  \\\n",
       "1   Based on the provided job posting in Russian,...   \n",
       "2   Based on the provided job posting in Russian,...   \n",
       "3   Основные требуемые навыки для вакансии Middle...   \n",
       "4   На основе предоставленного текста, необходимы...   \n",
       "5   Основные требования к кандидату: - Уверенное ...   \n",
       "\n",
       "                                          experience  \\\n",
       "1   В данном объявлении о вакансии требуется комм...   \n",
       "2   В данной вакансии указано, что требуемый опыт...   \n",
       "3   В данной вакансии не указан конкретный требуе...   \n",
       "4   В тексте вакансии не указан конкретный опыт р...   \n",
       "5   В данном объявлении о вакансии требуется след...   \n",
       "\n",
       "                                              salary  salary_min  salary_max  \\\n",
       "1   В тексте вакансии указано, что предлагаемая з...    160000.0         0.0   \n",
       "2   The offered salary in the job posting text is...    150000.0    230000.0   \n",
       "3   В данном объявлении о вакансии предлагаемая з...    240000.0    270000.0   \n",
       "4   В данном объявлении о вакансии указана следую...    150000.0    200000.0   \n",
       "5   В данном объявлении о вакансии предлагается з...    250000.0         0.0   \n",
       "\n",
       "   salary_mean                                          descr_vac  \\\n",
       "1      80000.0  #вакансия #удаленка #middle+ #са #системныйана...   \n",
       "2     190000.0  #вакансия #middle #remote **Требуются ML-инжен...   \n",
       "3     255000.0  #вакансия #аналитикданных #SQL #AB #статистика...   \n",
       "4     175000.0  #вакансия #Системныйаналитик #Бизнес_аналитик ...   \n",
       "5     125000.0  #вакансия #инженер #engineer #DataEngineer #mi...   \n",
       "\n",
       "                   job    qual                 loc federalDistrictCode  \\\n",
       "1   системный аналитик  middle        Not_location             Not_cod   \n",
       "2       data scientist  middle        Not_location             Not_cod   \n",
       "3         data analyst  middle        Not_location             Not_cod   \n",
       "4   системный аналитик  middle  Краснодарский край                 3.0   \n",
       "5        data engineer  middle              Москва                 1.0   \n",
       "\n",
       "                                          descr_vac_  \\\n",
       "1    +   Вакансия: системный аналитик Занятость: ...   \n",
       "2     **Требуются ML-инженеры и s** ** **Формат р...   \n",
       "3        💡Вакансия: ** Дата Аналитик** 🥚Компания:...   \n",
       "4        🚀 Вакансия: Системный аналитик / Бизнес-...   \n",
       "5                Компания: Sever X Формат: удален...   \n",
       "\n",
       "                                            skills_2  \n",
       "1  Java,Scala,JMS,kafka,Python,REST,UX,UML,UI,JSO...  \n",
       "2                                 Computer Vision,ML  \n",
       "3  Invite IT,KION,Well,being,DS,Premium,SQL,CLV,B...  \n",
       "4                           net,SQL,Oracle,PosgreSQL  \n",
       "5  ETL,Impala,ODBC,API,Docker,pandas,GitLab,Redis...  "
      ]
     },
     "execution_count": 215,
     "metadata": {},
     "output_type": "execute_result"
    }
   ],
   "source": [
    "df_new.head()"
   ]
  },
  {
   "cell_type": "markdown",
   "metadata": {},
   "source": [
    "Далее через очистку вакансий от лишних слов и регулярных выражений осуществляю поиск указанных скиллов"
   ]
  },
  {
   "cell_type": "code",
   "execution_count": 179,
   "metadata": {},
   "outputs": [
    {
     "data": {
      "text/plain": [
       "skills_2\n",
       "PyCharm,git,FinTech,SQL,Python,CRM                                                                          5\n",
       "MSSQL,PostgreSQL,Data Science,ETL,Oracle,FinTech,SQL,Python,airflow,grafana,Git,docker                      5\n",
       "career,dwh,tinkoff,ETL,Greenplum,ru,system,SQL,Python,it,analytics,www,DWH,me,Data Platform,https           5\n",
       "career,dwh,tinkoff,ETL,Greenplum,ru,system,SQL,Python,it,analytics,www,Clickhouse,me,Data Platform,https    4\n",
       "Confluence,Jira,gross,ETL,Oracle,IT,SQL,DWH                                                                 4\n",
       "                                                                                                           ..\n",
       "SQL,Task agency                                                                                             1\n",
       "ETL,org,Airflow,DWH,me,Kafka,https,candidate,ClickHouse                                                     1\n",
       "Power BI,SQL,Python,it,BI,Top Selection                                                                     1\n",
       "zotli,HHru,API,ru,time                                                                                      1\n",
       "OLAP,OLTP,SQL,MongoDB,MySQL,me,Clickhouse,noSQL,https                                                       1\n",
       "Name: count, Length: 589, dtype: int64"
      ]
     },
     "execution_count": 179,
     "metadata": {},
     "output_type": "execute_result"
    }
   ],
   "source": [
    "def func(x):\n",
    "    if isinstance(x,list):\n",
    "        rez = list(set([i.strip() for i in x if len(i.strip())>1 and not i.replace(\" \",'').isdigit()]))\n",
    "        if len(set([i.strip() for i in x if len(i.strip())>1 and not i.replace(\" \",'').isdigit()]))==0:\n",
    "            rez = np.NaN\n",
    "    else:\n",
    "        rez = np.NaN\n",
    "    return rez\n",
    "\n",
    "df_new[\"descr_vac_\"] =  df_new[\"descr_vac\"].str.replace(r\"(#\\w+)|(@\\w+)\", '', regex=True) \n",
    "df_new[\"descr_vac_\"] =  df_new[\"descr_vac_\"].str.replace(reg_vac_eng, '', regex=True, flags=re.I)\n",
    "df_new[\"descr_vac_\"] =  df_new[\"descr_vac_\"].str.replace(r\"Full-time|Fulltime|Remote|Temporary|Part-time|Parttime|Internship\", '', regex=True, flags=re.I)\n",
    "df_new[\"descr_vac_\"] =  df_new[\"descr_vac_\"].str.replace(r\"intern|jr|Junior|Middle|Senior|Team|Lead\", '', regex=True, flags=re.I)\n",
    "df_new[\"skills_2\"] =  df_new[\"descr_vac_\"].str.findall(r\"\\b[A-Za-z ]*\\b\", flags=re.I).apply(lambda x : func(x))\n",
    "df_new[\"skills_2\"] =  df_new[\"skills_2\"].apply(lambda x : \",\".join(list(set(x))) if not isinstance(x,(float,type(None))) else np.nan)\n",
    "df_new.dropna(subset=[\"skills_2\"], inplace=True)\n",
    "df_new[\"skills_2\"] =  df_new[\"skills_2\"].apply(lambda x : \",\".join(list(set([i for i in x.split(\",\") if not isinstance(i,(float,type(None))) and len(i.split())<4]))))\n",
    "df_new[\"skills_2\"].value_counts()"
   ]
  },
  {
   "cell_type": "code",
   "execution_count": 180,
   "metadata": {},
   "outputs": [
    {
     "data": {
      "text/plain": [
       "1      Java,Scala,JMS,kafka,Python,REST,UX,UML,UI,JSO...\n",
       "2                                     Computer Vision,ML\n",
       "3      Invite IT,KION,Well,being,DS,Premium,SQL,CLV,B...\n",
       "4                               net,SQL,Oracle,PosgreSQL\n",
       "5      ETL,Impala,ODBC,API,Docker,pandas,GitLab,Redis...\n",
       "                             ...                        \n",
       "777                             IT,Top Selection,DWH,SQL\n",
       "779    QD,ETL,Spark,Robusta,PXF,core,AOP,AirFlow,hhtm...\n",
       "780    Digital Marketing Analyst,Google Analyti,Googl...\n",
       "781                       SQL,IT,Product Analyst,Grafana\n",
       "782    OLAP,OLTP,SQL,MongoDB,MySQL,me,Clickhouse,noSQ...\n",
       "Name: skills_2, Length: 673, dtype: object"
      ]
     },
     "execution_count": 180,
     "metadata": {},
     "output_type": "execute_result"
    }
   ],
   "source": [
    "from collections import Counter\n",
    "temp =[]\n",
    "for s in df_new[\"skills_2\"].str.lower().tolist():\n",
    "    for i in s.split(\",\"):\n",
    "        temp.append(i.strip())\n",
    "cnt = Counter(temp)\n",
    "stop_words = [words for words, count in cnt.items() if int(count)<3]\n",
    "df_new[\"skills_2\"] = df_new[\"skills_2\"].apply(lambda x: \",\".join([i for i in x.split(\",\") if i not in stop_words]))\n",
    "df_new[\"skills_2\"].isnull().sum()\n",
    "df_new[\"skills_2\"]"
   ]
  },
  {
   "cell_type": "markdown",
   "metadata": {},
   "source": [
    "Продолжим очистку названия вакансий"
   ]
  },
  {
   "cell_type": "code",
   "execution_count": null,
   "metadata": {},
   "outputs": [],
   "source": [
    "def func_clr_job(job):\n",
    "    if isinstance(job, str):\n",
    "        job_list_ = re.split('[\\\\\\/|]+',job.strip(' .?,!:;!@#$%^&*()-_+><[]{}\\|/\\D\"'),flags=re.I)\n",
    "        job_ = ' '.join(job_list_[-1].replace(\"-\",\" \").split())\n",
    "        if len(job_) !=0:\n",
    "            string = []\n",
    "            for part in job_.split(\" \"):\n",
    "                string.append(\"\".join([c for c in part if c.isalpha()]))\n",
    "            return \" \".join(string)\n",
    "\n",
    "temp_job = df_vac1.job.apply(lambda x: func_clr_job(x))\n",
    "df_vac1.job = temp_job"
   ]
  },
  {
   "cell_type": "markdown",
   "metadata": {},
   "source": [
    "Собираю выявленные признаки в датасет. В датасете следующие данные: название должности (job), тип занятости (type_busy), уровень квалификации (qual), код федерального региона (federalDistrictCode), скиллы (skills_2), минимальная з/п (salary_min), максимальная з/п (salary_max)."
   ]
  },
  {
   "cell_type": "code",
   "execution_count": 216,
   "metadata": {},
   "outputs": [
    {
     "data": {
      "text/html": [
       "<div>\n",
       "<style scoped>\n",
       "    .dataframe tbody tr th:only-of-type {\n",
       "        vertical-align: middle;\n",
       "    }\n",
       "\n",
       "    .dataframe tbody tr th {\n",
       "        vertical-align: top;\n",
       "    }\n",
       "\n",
       "    .dataframe thead th {\n",
       "        text-align: right;\n",
       "    }\n",
       "</style>\n",
       "<table border=\"1\" class=\"dataframe\">\n",
       "  <thead>\n",
       "    <tr style=\"text-align: right;\">\n",
       "      <th></th>\n",
       "      <th>job</th>\n",
       "      <th>type_busy</th>\n",
       "      <th>qual</th>\n",
       "      <th>loc</th>\n",
       "      <th>federalDistrictCode</th>\n",
       "      <th>skills_2</th>\n",
       "      <th>salary_min</th>\n",
       "      <th>salary_max</th>\n",
       "    </tr>\n",
       "  </thead>\n",
       "  <tbody>\n",
       "    <tr>\n",
       "      <th>1</th>\n",
       "      <td>системный аналитик</td>\n",
       "      <td>remote</td>\n",
       "      <td>middle</td>\n",
       "      <td>Not_location</td>\n",
       "      <td>Not_cod</td>\n",
       "      <td>Java,Scala,JMS,kafka,Python,REST,UX,UML,UI,JSO...</td>\n",
       "      <td>160000.0</td>\n",
       "      <td>0.0</td>\n",
       "    </tr>\n",
       "    <tr>\n",
       "      <th>2</th>\n",
       "      <td>data scientist</td>\n",
       "      <td>remote</td>\n",
       "      <td>middle</td>\n",
       "      <td>Not_location</td>\n",
       "      <td>Not_cod</td>\n",
       "      <td>Computer Vision,ML</td>\n",
       "      <td>150000.0</td>\n",
       "      <td>230000.0</td>\n",
       "    </tr>\n",
       "    <tr>\n",
       "      <th>3</th>\n",
       "      <td>data analyst</td>\n",
       "      <td>full-time</td>\n",
       "      <td>middle</td>\n",
       "      <td>Not_location</td>\n",
       "      <td>Not_cod</td>\n",
       "      <td>Invite IT,KION,Well,being,DS,Premium,SQL,CLV,B...</td>\n",
       "      <td>240000.0</td>\n",
       "      <td>270000.0</td>\n",
       "    </tr>\n",
       "    <tr>\n",
       "      <th>4</th>\n",
       "      <td>системный аналитик</td>\n",
       "      <td>full-time</td>\n",
       "      <td>middle</td>\n",
       "      <td>Краснодарский край</td>\n",
       "      <td>3.0</td>\n",
       "      <td>net,SQL,Oracle,PosgreSQL</td>\n",
       "      <td>150000.0</td>\n",
       "      <td>200000.0</td>\n",
       "    </tr>\n",
       "    <tr>\n",
       "      <th>5</th>\n",
       "      <td>data engineer</td>\n",
       "      <td>full-time</td>\n",
       "      <td>middle</td>\n",
       "      <td>Москва</td>\n",
       "      <td>1.0</td>\n",
       "      <td>ETL,Impala,ODBC,API,Docker,pandas,GitLab,Redis...</td>\n",
       "      <td>250000.0</td>\n",
       "      <td>0.0</td>\n",
       "    </tr>\n",
       "  </tbody>\n",
       "</table>\n",
       "</div>"
      ],
      "text/plain": [
       "                   job  type_busy    qual                 loc  \\\n",
       "1   системный аналитик     remote  middle        Not_location   \n",
       "2       data scientist     remote  middle        Not_location   \n",
       "3         data analyst  full-time  middle        Not_location   \n",
       "4   системный аналитик  full-time  middle  Краснодарский край   \n",
       "5        data engineer  full-time  middle              Москва   \n",
       "\n",
       "  federalDistrictCode                                           skills_2  \\\n",
       "1             Not_cod  Java,Scala,JMS,kafka,Python,REST,UX,UML,UI,JSO...   \n",
       "2             Not_cod                                 Computer Vision,ML   \n",
       "3             Not_cod  Invite IT,KION,Well,being,DS,Premium,SQL,CLV,B...   \n",
       "4                 3.0                           net,SQL,Oracle,PosgreSQL   \n",
       "5                 1.0  ETL,Impala,ODBC,API,Docker,pandas,GitLab,Redis...   \n",
       "\n",
       "   salary_min  salary_max  \n",
       "1    160000.0         0.0  \n",
       "2    150000.0    230000.0  \n",
       "3    240000.0    270000.0  \n",
       "4    150000.0    200000.0  \n",
       "5    250000.0         0.0  "
      ]
     },
     "execution_count": 216,
     "metadata": {},
     "output_type": "execute_result"
    }
   ],
   "source": [
    "df_vac1 = df_new[[\"job\",\"type_busy\",\"qual\",\"loc\",\"federalDistrictCode\",\"skills_2\",\"salary_min\",\"salary_max\"]]\n",
    "df_vac1.head()"
   ]
  },
  {
   "cell_type": "markdown",
   "metadata": {},
   "source": [
    "Сохраняем подготовленный датасет"
   ]
  },
  {
   "cell_type": "code",
   "execution_count": 220,
   "metadata": {},
   "outputs": [],
   "source": [
    "df_vac1.to_csv(r\"./dataset_tg.csv\", sep =\"|\",\n",
    "                header=[\"name_job\",\"type_busy\", \"qualification\", \"location\",\"federalDistrictCode\",\"skills\",\"salary_min\",\"salary_max\"],\n",
    "                index=False)"
   ]
  },
  {
   "cell_type": "code",
   "execution_count": 2,
   "metadata": {},
   "outputs": [
    {
     "data": {
      "text/html": [
       "<div>\n",
       "<style scoped>\n",
       "    .dataframe tbody tr th:only-of-type {\n",
       "        vertical-align: middle;\n",
       "    }\n",
       "\n",
       "    .dataframe tbody tr th {\n",
       "        vertical-align: top;\n",
       "    }\n",
       "\n",
       "    .dataframe thead th {\n",
       "        text-align: right;\n",
       "    }\n",
       "</style>\n",
       "<table border=\"1\" class=\"dataframe\">\n",
       "  <thead>\n",
       "    <tr style=\"text-align: right;\">\n",
       "      <th></th>\n",
       "      <th>name_job</th>\n",
       "      <th>type_busy</th>\n",
       "      <th>qualification</th>\n",
       "      <th>location</th>\n",
       "      <th>federalDistrictCode</th>\n",
       "      <th>skills</th>\n",
       "      <th>salary_min</th>\n",
       "      <th>salary_max</th>\n",
       "    </tr>\n",
       "  </thead>\n",
       "  <tbody>\n",
       "    <tr>\n",
       "      <th>0</th>\n",
       "      <td>системный аналитик</td>\n",
       "      <td>remote</td>\n",
       "      <td>middle</td>\n",
       "      <td>Not_location</td>\n",
       "      <td>Not_cod</td>\n",
       "      <td>Java,Scala,JMS,kafka,Python,REST,UX,UML,UI,JSO...</td>\n",
       "      <td>160000.0</td>\n",
       "      <td>0.0</td>\n",
       "    </tr>\n",
       "    <tr>\n",
       "      <th>1</th>\n",
       "      <td>data scientist</td>\n",
       "      <td>remote</td>\n",
       "      <td>middle</td>\n",
       "      <td>Not_location</td>\n",
       "      <td>Not_cod</td>\n",
       "      <td>Computer Vision,ML</td>\n",
       "      <td>150000.0</td>\n",
       "      <td>230000.0</td>\n",
       "    </tr>\n",
       "    <tr>\n",
       "      <th>2</th>\n",
       "      <td>data analyst</td>\n",
       "      <td>full-time</td>\n",
       "      <td>middle</td>\n",
       "      <td>Not_location</td>\n",
       "      <td>Not_cod</td>\n",
       "      <td>Invite IT,KION,Well,being,DS,Premium,SQL,CLV,B...</td>\n",
       "      <td>240000.0</td>\n",
       "      <td>270000.0</td>\n",
       "    </tr>\n",
       "    <tr>\n",
       "      <th>3</th>\n",
       "      <td>системный аналитик</td>\n",
       "      <td>full-time</td>\n",
       "      <td>middle</td>\n",
       "      <td>Краснодарский край</td>\n",
       "      <td>3.0</td>\n",
       "      <td>net,SQL,Oracle,PosgreSQL</td>\n",
       "      <td>150000.0</td>\n",
       "      <td>200000.0</td>\n",
       "    </tr>\n",
       "    <tr>\n",
       "      <th>4</th>\n",
       "      <td>data engineer</td>\n",
       "      <td>full-time</td>\n",
       "      <td>middle</td>\n",
       "      <td>Москва</td>\n",
       "      <td>1.0</td>\n",
       "      <td>ETL,Impala,ODBC,API,Docker,pandas,GitLab,Redis...</td>\n",
       "      <td>250000.0</td>\n",
       "      <td>0.0</td>\n",
       "    </tr>\n",
       "  </tbody>\n",
       "</table>\n",
       "</div>"
      ],
      "text/plain": [
       "             name_job  type_busy qualification            location  \\\n",
       "0  системный аналитик     remote        middle        Not_location   \n",
       "1      data scientist     remote        middle        Not_location   \n",
       "2        data analyst  full-time        middle        Not_location   \n",
       "3  системный аналитик  full-time        middle  Краснодарский край   \n",
       "4       data engineer  full-time        middle              Москва   \n",
       "\n",
       "  federalDistrictCode                                             skills  \\\n",
       "0             Not_cod  Java,Scala,JMS,kafka,Python,REST,UX,UML,UI,JSO...   \n",
       "1             Not_cod                                 Computer Vision,ML   \n",
       "2             Not_cod  Invite IT,KION,Well,being,DS,Premium,SQL,CLV,B...   \n",
       "3                 3.0                           net,SQL,Oracle,PosgreSQL   \n",
       "4                 1.0  ETL,Impala,ODBC,API,Docker,pandas,GitLab,Redis...   \n",
       "\n",
       "   salary_min  salary_max  \n",
       "0    160000.0         0.0  \n",
       "1    150000.0    230000.0  \n",
       "2    240000.0    270000.0  \n",
       "3    150000.0    200000.0  \n",
       "4    250000.0         0.0  "
      ]
     },
     "execution_count": 2,
     "metadata": {},
     "output_type": "execute_result"
    }
   ],
   "source": [
    "df_tg = pd.read_csv(r\"./dataset_tg.csv\", sep =\"|\")\n",
    "df_tg.head()"
   ]
  },
  {
   "cell_type": "code",
   "execution_count": 3,
   "metadata": {},
   "outputs": [
    {
     "name": "stdout",
     "output_type": "stream",
     "text": [
      "<class 'pandas.core.frame.DataFrame'>\n",
      "RangeIndex: 673 entries, 0 to 672\n",
      "Data columns (total 8 columns):\n",
      " #   Column               Non-Null Count  Dtype  \n",
      "---  ------               --------------  -----  \n",
      " 0   name_job             673 non-null    object \n",
      " 1   type_busy            673 non-null    object \n",
      " 2   qualification        673 non-null    object \n",
      " 3   location             673 non-null    object \n",
      " 4   federalDistrictCode  673 non-null    object \n",
      " 5   skills               673 non-null    object \n",
      " 6   salary_min           673 non-null    float64\n",
      " 7   salary_max           673 non-null    float64\n",
      "dtypes: float64(2), object(6)\n",
      "memory usage: 42.2+ KB\n"
     ]
    }
   ],
   "source": [
    "df_tg.info()"
   ]
  },
  {
   "cell_type": "code",
   "execution_count": 4,
   "metadata": {},
   "outputs": [
    {
     "data": {
      "text/html": [
       "<div>\n",
       "<style scoped>\n",
       "    .dataframe tbody tr th:only-of-type {\n",
       "        vertical-align: middle;\n",
       "    }\n",
       "\n",
       "    .dataframe tbody tr th {\n",
       "        vertical-align: top;\n",
       "    }\n",
       "\n",
       "    .dataframe thead th {\n",
       "        text-align: right;\n",
       "    }\n",
       "</style>\n",
       "<table border=\"1\" class=\"dataframe\">\n",
       "  <thead>\n",
       "    <tr style=\"text-align: right;\">\n",
       "      <th></th>\n",
       "      <th>salary_min</th>\n",
       "      <th>salary_max</th>\n",
       "    </tr>\n",
       "  </thead>\n",
       "  <tbody>\n",
       "    <tr>\n",
       "      <th>count</th>\n",
       "      <td>6.730000e+02</td>\n",
       "      <td>6.730000e+02</td>\n",
       "    </tr>\n",
       "    <tr>\n",
       "      <th>mean</th>\n",
       "      <td>2.868330e+05</td>\n",
       "      <td>2.104639e+05</td>\n",
       "    </tr>\n",
       "    <tr>\n",
       "      <th>std</th>\n",
       "      <td>9.312841e+05</td>\n",
       "      <td>2.131972e+05</td>\n",
       "    </tr>\n",
       "    <tr>\n",
       "      <th>min</th>\n",
       "      <td>1.300000e+01</td>\n",
       "      <td>0.000000e+00</td>\n",
       "    </tr>\n",
       "    <tr>\n",
       "      <th>25%</th>\n",
       "      <td>1.500000e+05</td>\n",
       "      <td>0.000000e+00</td>\n",
       "    </tr>\n",
       "    <tr>\n",
       "      <th>50%</th>\n",
       "      <td>2.150000e+05</td>\n",
       "      <td>2.300000e+05</td>\n",
       "    </tr>\n",
       "    <tr>\n",
       "      <th>75%</th>\n",
       "      <td>3.000000e+05</td>\n",
       "      <td>3.500000e+05</td>\n",
       "    </tr>\n",
       "    <tr>\n",
       "      <th>max</th>\n",
       "      <td>1.500000e+07</td>\n",
       "      <td>1.500000e+06</td>\n",
       "    </tr>\n",
       "  </tbody>\n",
       "</table>\n",
       "</div>"
      ],
      "text/plain": [
       "         salary_min    salary_max\n",
       "count  6.730000e+02  6.730000e+02\n",
       "mean   2.868330e+05  2.104639e+05\n",
       "std    9.312841e+05  2.131972e+05\n",
       "min    1.300000e+01  0.000000e+00\n",
       "25%    1.500000e+05  0.000000e+00\n",
       "50%    2.150000e+05  2.300000e+05\n",
       "75%    3.000000e+05  3.500000e+05\n",
       "max    1.500000e+07  1.500000e+06"
      ]
     },
     "execution_count": 4,
     "metadata": {},
     "output_type": "execute_result"
    }
   ],
   "source": [
    "df_tg.describe()"
   ]
  },
  {
   "cell_type": "markdown",
   "metadata": {},
   "source": [
    "Вычисляем среднее значение. В дальнейшем надо подумать об обогощении сведениями статистическии по уровню з/п по регионам"
   ]
  },
  {
   "cell_type": "code",
   "execution_count": 7,
   "metadata": {},
   "outputs": [],
   "source": [
    "df_tg[\"salary_mean\"] = (df_tg[\"salary_max\"]+df_tg[\"salary_min\"])/2"
   ]
  },
  {
   "cell_type": "code",
   "execution_count": 8,
   "metadata": {},
   "outputs": [
    {
     "data": {
      "text/html": [
       "<div>\n",
       "<style scoped>\n",
       "    .dataframe tbody tr th:only-of-type {\n",
       "        vertical-align: middle;\n",
       "    }\n",
       "\n",
       "    .dataframe tbody tr th {\n",
       "        vertical-align: top;\n",
       "    }\n",
       "\n",
       "    .dataframe thead th {\n",
       "        text-align: right;\n",
       "    }\n",
       "</style>\n",
       "<table border=\"1\" class=\"dataframe\">\n",
       "  <thead>\n",
       "    <tr style=\"text-align: right;\">\n",
       "      <th></th>\n",
       "      <th>name_job</th>\n",
       "      <th>type_busy</th>\n",
       "      <th>qualification</th>\n",
       "      <th>location</th>\n",
       "      <th>federalDistrictCode</th>\n",
       "      <th>skills</th>\n",
       "    </tr>\n",
       "  </thead>\n",
       "  <tbody>\n",
       "    <tr>\n",
       "      <th>count</th>\n",
       "      <td>673</td>\n",
       "      <td>673</td>\n",
       "      <td>673</td>\n",
       "      <td>673</td>\n",
       "      <td>673</td>\n",
       "      <td>673</td>\n",
       "    </tr>\n",
       "    <tr>\n",
       "      <th>unique</th>\n",
       "      <td>235</td>\n",
       "      <td>5</td>\n",
       "      <td>4</td>\n",
       "      <td>17</td>\n",
       "      <td>8</td>\n",
       "      <td>589</td>\n",
       "    </tr>\n",
       "    <tr>\n",
       "      <th>top</th>\n",
       "      <td>data engineer</td>\n",
       "      <td>full-time</td>\n",
       "      <td>middle</td>\n",
       "      <td>Not_location</td>\n",
       "      <td>Not_cod</td>\n",
       "      <td>PyCharm,git,FinTech,SQL,Python,CRM</td>\n",
       "    </tr>\n",
       "    <tr>\n",
       "      <th>freq</th>\n",
       "      <td>98</td>\n",
       "      <td>383</td>\n",
       "      <td>256</td>\n",
       "      <td>343</td>\n",
       "      <td>343</td>\n",
       "      <td>5</td>\n",
       "    </tr>\n",
       "  </tbody>\n",
       "</table>\n",
       "</div>"
      ],
      "text/plain": [
       "             name_job  type_busy qualification      location  \\\n",
       "count             673        673           673           673   \n",
       "unique            235          5             4            17   \n",
       "top     data engineer  full-time        middle  Not_location   \n",
       "freq               98        383           256           343   \n",
       "\n",
       "       federalDistrictCode                              skills  \n",
       "count                  673                                 673  \n",
       "unique                   8                                 589  \n",
       "top                Not_cod  PyCharm,git,FinTech,SQL,Python,CRM  \n",
       "freq                   343                                   5  "
      ]
     },
     "execution_count": 8,
     "metadata": {},
     "output_type": "execute_result"
    }
   ],
   "source": [
    "df_tg.describe(include = object)"
   ]
  },
  {
   "cell_type": "code",
   "execution_count": 9,
   "metadata": {},
   "outputs": [
    {
     "name": "stderr",
     "output_type": "stream",
     "text": [
      "c:\\Users\\Andrew\\anaconda3\\lib\\site-packages\\seaborn\\_oldcore.py:1498: FutureWarning: is_categorical_dtype is deprecated and will be removed in a future version. Use isinstance(dtype, CategoricalDtype) instead\n",
      "  if pd.api.types.is_categorical_dtype(vector):\n",
      "c:\\Users\\Andrew\\anaconda3\\lib\\site-packages\\seaborn\\_oldcore.py:1119: FutureWarning: use_inf_as_na option is deprecated and will be removed in a future version. Convert inf values to NaN before operating instead.\n",
      "  with pd.option_context('mode.use_inf_as_na', True):\n"
     ]
    },
    {
     "data": {
      "image/png": "[encoded data removed]",
      "text/plain": [
       "<Figure size 640x480 with 1 Axes>"
      ]
     },
     "metadata": {},
     "output_type": "display_data"
    }
   ],
   "source": [
    "sns.histplot(df_tg[\"salary_mean\"])\n",
    "plt.show()"
   ]
  },
  {
   "cell_type": "markdown",
   "metadata": {},
   "source": [
    "Присутсвуют выбрсы, либо по 2.5 процента срезать по кроям, либо логарифмировать таргетную переменную"
   ]
  },
  {
   "cell_type": "code",
   "execution_count": 15,
   "metadata": {},
   "outputs": [],
   "source": [
    "thr_l, thr_r = np.percentile(df_tg.salary_mean, [5, 95])\n",
    "df = df_tg[(df_tg.salary_mean > thr_l) & (df_tg.salary_mean < thr_r)]"
   ]
  },
  {
   "cell_type": "code",
   "execution_count": 16,
   "metadata": {},
   "outputs": [
    {
     "name": "stderr",
     "output_type": "stream",
     "text": [
      "c:\\Users\\Andrew\\anaconda3\\lib\\site-packages\\seaborn\\_oldcore.py:1498: FutureWarning: is_categorical_dtype is deprecated and will be removed in a future version. Use isinstance(dtype, CategoricalDtype) instead\n",
      "  if pd.api.types.is_categorical_dtype(vector):\n",
      "c:\\Users\\Andrew\\anaconda3\\lib\\site-packages\\seaborn\\_oldcore.py:1119: FutureWarning: use_inf_as_na option is deprecated and will be removed in a future version. Convert inf values to NaN before operating instead.\n",
      "  with pd.option_context('mode.use_inf_as_na', True):\n"
     ]
    },
    {
     "data": {
      "image/png": "[encoded data removed]",
      "text/plain": [
       "<Figure size 640x480 with 1 Axes>"
      ]
     },
     "metadata": {},
     "output_type": "display_data"
    }
   ],
   "source": [
    "sns.histplot(df_tg[\"salary_mean\"], bins= 50)\n",
    "plt.show()"
   ]
  },
  {
   "cell_type": "markdown",
   "metadata": {},
   "source": [
    "Смотрим распределение зп по квалификации."
   ]
  },
  {
   "cell_type": "code",
   "execution_count": 14,
   "metadata": {},
   "outputs": [
    {
     "name": "stderr",
     "output_type": "stream",
     "text": [
      "c:\\Users\\Andrew\\anaconda3\\lib\\site-packages\\seaborn\\_oldcore.py:1498: FutureWarning: is_categorical_dtype is deprecated and will be removed in a future version. Use isinstance(dtype, CategoricalDtype) instead\n",
      "  if pd.api.types.is_categorical_dtype(vector):\n",
      "c:\\Users\\Andrew\\anaconda3\\lib\\site-packages\\seaborn\\_oldcore.py:1498: FutureWarning: is_categorical_dtype is deprecated and will be removed in a future version. Use isinstance(dtype, CategoricalDtype) instead\n",
      "  if pd.api.types.is_categorical_dtype(vector):\n",
      "c:\\Users\\Andrew\\anaconda3\\lib\\site-packages\\seaborn\\_oldcore.py:1498: FutureWarning: is_categorical_dtype is deprecated and will be removed in a future version. Use isinstance(dtype, CategoricalDtype) instead\n",
      "  if pd.api.types.is_categorical_dtype(vector):\n"
     ]
    },
    {
     "data": {
      "text/plain": [
       "<Axes: xlabel='salary_mean', ylabel='qualification'>"
      ]
     },
     "execution_count": 14,
     "metadata": {},
     "output_type": "execute_result"
    },
    {
     "data": {
      "image/png": "[encoded data removed]",
      "text/plain": [
       "<Figure size 640x480 with 1 Axes>"
      ]
     },
     "metadata": {},
     "output_type": "display_data"
    }
   ],
   "source": [
    "sns.boxplot(data=df_tg, x=\"salary_mean\", y=\"qualification\")"
   ]
  },
  {
   "cell_type": "markdown",
   "metadata": {},
   "source": [
    "Группируем по уровням квалификации, регионам"
   ]
  },
  {
   "cell_type": "code",
   "execution_count": 18,
   "metadata": {},
   "outputs": [
    {
     "name": "stderr",
     "output_type": "stream",
     "text": [
      "c:\\Users\\Andrew\\anaconda3\\lib\\site-packages\\seaborn\\_oldcore.py:1498: FutureWarning: is_categorical_dtype is deprecated and will be removed in a future version. Use isinstance(dtype, CategoricalDtype) instead\n",
      "  if pd.api.types.is_categorical_dtype(vector):\n",
      "c:\\Users\\Andrew\\anaconda3\\lib\\site-packages\\seaborn\\_oldcore.py:1498: FutureWarning: is_categorical_dtype is deprecated and will be removed in a future version. Use isinstance(dtype, CategoricalDtype) instead\n",
      "  if pd.api.types.is_categorical_dtype(vector):\n",
      "c:\\Users\\Andrew\\anaconda3\\lib\\site-packages\\seaborn\\_oldcore.py:1119: FutureWarning: use_inf_as_na option is deprecated and will be removed in a future version. Convert inf values to NaN before operating instead.\n",
      "  with pd.option_context('mode.use_inf_as_na', True):\n"
     ]
    },
    {
     "data": {
      "text/plain": [
       "<Axes: xlabel='qualification', ylabel='Count'>"
      ]
     },
     "execution_count": 18,
     "metadata": {},
     "output_type": "execute_result"
    },
    {
     "data": {
      "image/png": "[encoded data removed]",
      "text/plain": [
       "<Figure size 640x480 with 1 Axes>"
      ]
     },
     "metadata": {},
     "output_type": "display_data"
    }
   ],
   "source": [
    "sns.histplot(df_tg[\"qualification\"])"
   ]
  },
  {
   "cell_type": "code",
   "execution_count": 19,
   "metadata": {},
   "outputs": [
    {
     "name": "stderr",
     "output_type": "stream",
     "text": [
      "c:\\Users\\Andrew\\anaconda3\\lib\\site-packages\\seaborn\\_oldcore.py:1498: FutureWarning: is_categorical_dtype is deprecated and will be removed in a future version. Use isinstance(dtype, CategoricalDtype) instead\n",
      "  if pd.api.types.is_categorical_dtype(vector):\n",
      "c:\\Users\\Andrew\\anaconda3\\lib\\site-packages\\seaborn\\_oldcore.py:1498: FutureWarning: is_categorical_dtype is deprecated and will be removed in a future version. Use isinstance(dtype, CategoricalDtype) instead\n",
      "  if pd.api.types.is_categorical_dtype(vector):\n",
      "c:\\Users\\Andrew\\anaconda3\\lib\\site-packages\\seaborn\\_oldcore.py:1119: FutureWarning: use_inf_as_na option is deprecated and will be removed in a future version. Convert inf values to NaN before operating instead.\n",
      "  with pd.option_context('mode.use_inf_as_na', True):\n"
     ]
    },
    {
     "data": {
      "text/plain": [
       "<Axes: xlabel='location', ylabel='Count'>"
      ]
     },
     "execution_count": 19,
     "metadata": {},
     "output_type": "execute_result"
    },
    {
     "data": {
      "image/png": "[encoded data removed]",
      "text/plain": [
       "<Figure size 640x480 with 1 Axes>"
      ]
     },
     "metadata": {},
     "output_type": "display_data"
    }
   ],
   "source": [
    "sns.histplot(df_tg[\"location\"])"
   ]
  },
  {
   "cell_type": "markdown",
   "metadata": {},
   "source": [
    "Везде наблюдаем разбаоансировку групп. Возможно надо оценить какое количество пападает в каждую группу и группы где менее 10 вакансий удалить  \n",
    "Так же необходимо собрать дополнительно данных. Новые данные будут взят с сайта \"труд всем\" и проведен аналогичная предобработка."
   ]
  },
  {
   "cell_type": "markdown",
   "metadata": {},
   "source": [
    "Из моделей планирую использовать catboost, который хорошо умеет работать с категориальными признаками."
   ]
  },
  {
   "cell_type": "code",
   "execution_count": 20,
   "metadata": {},
   "outputs": [
    {
     "data": {
      "text/plain": [
       "Index(['name_job', 'type_busy', 'qualification', 'location',\n",
       "       'federalDistrictCode', 'skills', 'salary_min', 'salary_max',\n",
       "       'salary_mean'],\n",
       "      dtype='object')"
      ]
     },
     "execution_count": 20,
     "metadata": {},
     "output_type": "execute_result"
    }
   ],
   "source": [
    "df_tg.columns"
   ]
  },
  {
   "cell_type": "markdown",
   "metadata": {},
   "source": [
    "Применим разбиение датасета и логарифмируем таргетную переменную"
   ]
  },
  {
   "cell_type": "code",
   "execution_count": 22,
   "metadata": {},
   "outputs": [],
   "source": [
    "from sklearn.model_selection import train_test_split\n",
    "X_train, X_test, y_train, y_test = train_test_split(df_tg.drop(columns=[\"salary_mean\", 'salary_min', 'salary_max']),\n",
    "                                                    np.log(df_tg[\"salary_mean\"]), \n",
    "                                                    train_size=0.8, \n",
    "                                                    random_state=42, shuffle=True)\n",
    "cat_features =['name_job', 'type_busy', 'qualification', 'location',\n",
    "       'federalDistrictCode', 'skills']"
   ]
  },
  {
   "cell_type": "code",
   "execution_count": 24,
   "metadata": {},
   "outputs": [],
   "source": [
    "catboost = CatBoostRegressor(learning_rate=0.01, \n",
    "                                  has_time=True, \n",
    "                                  random_state=42, \n",
    "                                  iterations=800,\n",
    "                                  cat_features=cat_features,\n",
    "                                  custom_metric=['RMSE', 'MAE', 'R2'],\n",
    "                                  depth=6)\n",
    "\n",
    "catboost.fit(X_train, y_train, eval_set=(X_test, y_test), silent=True)\n",
    "catboost.save_model('./catboost',format=\"cbm\")"
   ]
  },
  {
   "cell_type": "markdown",
   "metadata": {},
   "source": [
    "Для анализа работоспособности модели будут использоваться две основные метрики MAE и RMSE. Сравнение модеей будет происходить из расчета, чем меньше значение метрик тем лучше модель. Главной метрикой оценки результатов будет служить MAE, так как она менее чувствительна к выбросам. Планирую дальше использовать  catbost, но категориальные переменные буду преобразовывать сам и сравнивать с катбустом. Так же буду применять крос-валидацию по сетке для подбора лучших значений для модели, так как сейчас наблюдаем небольшое переобучение, особенно видно по параметру r2 и RMSE, но вот соотношение значений MAE можно было бы считать приемлемыми, поэтому оценку смотрю по нескольким критериям"
   ]
  },
  {
   "cell_type": "code",
   "execution_count": 25,
   "metadata": {},
   "outputs": [
    {
     "name": "stdout",
     "output_type": "stream",
     "text": [
      "{'learn': {'MAE': 0.5484211616191141, 'R2': 0.4775007535913468, 'RMSE': 0.8864043792332182}, 'validation': {'MAE': 0.6575291727183962, 'R2': 0.146181095969399, 'RMSE': 1.160478590208751}}\n"
     ]
    }
   ],
   "source": [
    "print(catboost.get_best_score())"
   ]
  },
  {
   "cell_type": "markdown",
   "metadata": {},
   "source": [
    "Так же необходимо собрать дополнительные данные. Новые данные будут взяты с сайта \"труд всем\" и проведена аналогичная предобработка.  \n",
    " Данные обработки в другом ноутбуке в текущей директрии."
   ]
  }
 ],
 "metadata": {
  "kernelspec": {
   "display_name": "base",
   "language": "python",
   "name": "python3"
  },
  "language_info": {
   "codemirror_mode": {
    "name": "ipython",
    "version": 3
   },
   "file_extension": ".py",
   "mimetype": "text/x-python",
   "name": "python",
   "nbconvert_exporter": "python",
   "pygments_lexer": "ipython3",
   "version": "3.9.13"
  }
 },
 "nbformat": 4,
 "nbformat_minor": 4
}
